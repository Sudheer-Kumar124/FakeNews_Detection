{
  "nbformat": 4,
  "nbformat_minor": 0,
  "metadata": {
    "colab": {
      "provenance": []
    },
    "kernelspec": {
      "name": "python3",
      "display_name": "Python 3"
    },
    "language_info": {
      "name": "python"
    }
  },
  "cells": [
    {
      "cell_type": "code",
      "execution_count": 9,
      "metadata": {
        "colab": {
          "base_uri": "https://localhost:8080/"
        },
        "id": "-Ip-_wLxtcX9",
        "outputId": "0f39fd8b-a1a7-495f-b99a-f24d03f04de5"
      },
      "outputs": [
        {
          "output_type": "stream",
          "name": "stdout",
          "text": [
            "Epoch 1/3\n",
            "152/152 [==============================] - 6s 33ms/step - loss: 0.5266 - accuracy: 0.7648 - val_loss: 0.4006 - val_accuracy: 0.8370\n",
            "Epoch 2/3\n",
            "152/152 [==============================] - 5s 35ms/step - loss: 0.3010 - accuracy: 0.8741 - val_loss: 0.3964 - val_accuracy: 0.8315\n",
            "Epoch 3/3\n",
            "152/152 [==============================] - 4s 29ms/step - loss: 0.1029 - accuracy: 0.9644 - val_loss: 0.5420 - val_accuracy: 0.8352\n",
            "19/19 [==============================] - 0s 5ms/step\n",
            "              precision    recall  f1-score   support\n",
            "\n",
            "        Fake       0.65      0.51      0.57       170\n",
            "        Real       0.82      0.89      0.85       430\n",
            "\n",
            "    accuracy                           0.78       600\n",
            "   macro avg       0.73      0.70      0.71       600\n",
            "weighted avg       0.77      0.78      0.77       600\n",
            "\n"
          ]
        }
      ],
      "source": [
        "import pandas as pd\n",
        "import numpy as np\n",
        "import tensorflow as tf\n",
        "from tensorflow.keras.preprocessing.text import Tokenizer\n",
        "from tensorflow.keras.preprocessing.sequence import pad_sequences\n",
        "from sklearn.model_selection import train_test_split\n",
        "from sklearn.metrics import classification_report\n",
        "\n",
        "# Load the dataset\n",
        "data = pd.read_csv('preprocessed_dataset.csv')\n",
        "\n",
        "# Reduce dataset size\n",
        "data_subset = 6000 # Adjust this number as needed\n",
        "texts = data['lemmatized_title'].tolist()[:data_subset]\n",
        "labels = data['real'].tolist()[:data_subset]\n",
        "\n",
        "# Split the dataset\n",
        "train_texts, val_texts, train_labels, val_labels = train_test_split(texts, labels, test_size=0.1, random_state=42)\n",
        "\n",
        "# Tokenization and padding\n",
        "max_vocab_size = 10000  # Reduce vocabulary size\n",
        "max_length = 50  # Reduce sequence length\n",
        "\n",
        "tokenizer = Tokenizer(num_words=max_vocab_size)\n",
        "tokenizer.fit_on_texts(train_texts)\n",
        "\n",
        "train_sequences = tokenizer.texts_to_sequences(train_texts)\n",
        "val_sequences = tokenizer.texts_to_sequences(val_texts)\n",
        "\n",
        "train_padded = pad_sequences(train_sequences, maxlen=max_length, padding='post')\n",
        "val_padded = pad_sequences(val_sequences, maxlen=max_length, padding='post')\n",
        "\n",
        "# Define the CNN model\n",
        "model = tf.keras.Sequential([\n",
        "    tf.keras.layers.Embedding(input_dim=max_vocab_size, output_dim=128, input_length=max_length),\n",
        "    tf.keras.layers.Conv1D(filters=64, kernel_size=5, activation='relu'),\n",
        "    tf.keras.layers.GlobalMaxPooling1D(),\n",
        "    tf.keras.layers.Dense(64, activation='relu'),\n",
        "    tf.keras.layers.Dense(1, activation='sigmoid')\n",
        "])\n",
        "\n",
        "# Compile the model\n",
        "model.compile(loss='binary_crossentropy', optimizer='adam', metrics=['accuracy'])\n",
        "\n",
        "# Train the model with reduced epochs for faster execution\n",
        "history = model.fit(train_padded, np.array(train_labels), epochs=3, batch_size=32, validation_split=0.1)\n",
        "\n",
        "# Evaluate the model\n",
        "val_predictions = (model.predict(val_padded) > 0.5).astype(\"int32\")\n",
        "\n",
        "# Generate the classification report\n",
        "report = classification_report(val_labels, val_predictions, target_names=['Fake', 'Real'])\n",
        "print(report)\n"
      ]
    },
    {
      "cell_type": "code",
      "source": [
        "from kerastuner.tuners import RandomSearch\n",
        "import tensorflow as tf\n",
        "\n",
        "# Define a function for model building\n",
        "def build_model(hp):\n",
        "    model = tf.keras.Sequential()\n",
        "    model.add(tf.keras.layers.Embedding(input_dim=max_vocab_size, output_dim=128, input_length=max_length))\n",
        "\n",
        "    # Tune the number of filters and kernel size for Conv1D layers\n",
        "    model.add(tf.keras.layers.Conv1D(filters=hp.Int('conv1d_filters', min_value=32, max_value=256, step=32),\n",
        "                                     kernel_size=hp.Choice('conv1d_kernel', values=[3, 5, 7]),\n",
        "                                     activation='relu'))\n",
        "    model.add(tf.keras.layers.GlobalMaxPooling1D())\n",
        "\n",
        "    # Tune the number of units in the Dense layers\n",
        "    model.add(tf.keras.layers.Dense(units=hp.Int('dense_units', min_value=32, max_value=256, step=32),\n",
        "                                    activation='relu'))\n",
        "    model.add(tf.keras.layers.Dense(1, activation='sigmoid'))\n",
        "\n",
        "    # Compile the model\n",
        "    model.compile(loss='binary_crossentropy', optimizer='adam', metrics=['accuracy'])\n",
        "    return model\n",
        "\n",
        "# Set up the tuner\n",
        "tuner = RandomSearch(\n",
        "    build_model,\n",
        "    objective='val_accuracy',\n",
        "    max_trials=5,  # Adjust as needed\n",
        "    executions_per_trial=1,\n",
        "    directory='hyperparameter_tuning',\n",
        "    project_name='cnn_tuning'\n",
        ")\n",
        "\n",
        "# Perform hyperparameter search\n",
        "tuner.search(train_padded, np.array(train_labels),\n",
        "             epochs=3,\n",
        "             validation_data=(val_padded, np.array(val_labels)),\n",
        "             batch_size=32)\n",
        "\n",
        "# Get the best model\n",
        "best_model = tuner.get_best_models(num_models=1)[0]\n",
        "\n",
        "# Get the best hyperparameters\n",
        "best_hps = tuner.get_best_hyperparameters(num_trials=1)[0]\n",
        "print(f\"Best hyperparameters: {best_hps}\")\n"
      ],
      "metadata": {
        "colab": {
          "base_uri": "https://localhost:8080/"
        },
        "id": "8PLcfDYfuMxO",
        "outputId": "4142287f-e4ba-46c1-b72d-77c0855799fb"
      },
      "execution_count": 6,
      "outputs": [
        {
          "output_type": "stream",
          "name": "stdout",
          "text": [
            "Trial 10 Complete [00h 00m 16s]\n",
            "val_accuracy: 0.79666668176651\n",
            "\n",
            "Best val_accuracy So Far: 0.8199999928474426\n",
            "Total elapsed time: 00h 04m 44s\n",
            "Best hyperparameters: <keras_tuner.src.engine.hyperparameters.hyperparameters.HyperParameters object at 0x7b7ec52f1780>\n"
          ]
        }
      ]
    },
    {
      "cell_type": "code",
      "source": [
        "#getting classification report for the best model\n",
        "\n",
        "import numpy as np\n",
        "# Train the best model with more epochs for improved accuracy\n",
        "best_model.fit(train_padded, np.array(train_labels), epochs=10, batch_size=32, validation_data=(val_padded, np.array(val_labels)))\n",
        "\n",
        "# Generate predictions on the test set\n",
        "test_predictions = (best_model.predict(test_padded) > 0.5).astype(\"int32\")\n",
        "\n",
        "# Generate the classification report\n",
        "report = classification_report(test_labels, test_predictions, target_names=['Fake', 'Real'])\n",
        "print(report)\n"
      ],
      "metadata": {
        "colab": {
          "base_uri": "https://localhost:8080/"
        },
        "id": "U1Iw8sz8z-o0",
        "outputId": "ba4d9eb8-aae2-4ea0-fe18-47f1cb09d559"
      },
      "execution_count": 16,
      "outputs": [
        {
          "output_type": "stream",
          "name": "stdout",
          "text": [
            "Epoch 1/10\n",
            "169/169 [==============================] - 10s 50ms/step - loss: 0.2543 - accuracy: 0.9017 - val_loss: 0.4766 - val_accuracy: 0.8000\n",
            "Epoch 2/10\n",
            "169/169 [==============================] - 9s 55ms/step - loss: 0.0837 - accuracy: 0.9711 - val_loss: 0.6610 - val_accuracy: 0.7933\n",
            "Epoch 3/10\n",
            "169/169 [==============================] - 8s 45ms/step - loss: 0.0346 - accuracy: 0.9889 - val_loss: 0.8013 - val_accuracy: 0.7967\n",
            "Epoch 4/10\n",
            "169/169 [==============================] - 9s 54ms/step - loss: 0.0164 - accuracy: 0.9956 - val_loss: 0.9148 - val_accuracy: 0.7833\n",
            "Epoch 5/10\n",
            "169/169 [==============================] - 8s 48ms/step - loss: 0.0136 - accuracy: 0.9963 - val_loss: 0.9081 - val_accuracy: 0.7933\n",
            "Epoch 6/10\n",
            "169/169 [==============================] - 9s 52ms/step - loss: 0.0146 - accuracy: 0.9961 - val_loss: 0.9423 - val_accuracy: 0.7917\n",
            "Epoch 7/10\n",
            "169/169 [==============================] - 9s 54ms/step - loss: 0.0110 - accuracy: 0.9969 - val_loss: 1.0450 - val_accuracy: 0.7883\n",
            "Epoch 8/10\n",
            "169/169 [==============================] - 7s 44ms/step - loss: 0.0082 - accuracy: 0.9970 - val_loss: 1.0135 - val_accuracy: 0.7967\n",
            "Epoch 9/10\n",
            "169/169 [==============================] - 9s 56ms/step - loss: 0.0104 - accuracy: 0.9974 - val_loss: 0.9675 - val_accuracy: 0.7950\n",
            "Epoch 10/10\n",
            "169/169 [==============================] - 8s 45ms/step - loss: 0.0090 - accuracy: 0.9972 - val_loss: 0.9461 - val_accuracy: 0.7683\n",
            "188/188 [==============================] - 2s 9ms/step\n",
            "              precision    recall  f1-score   support\n",
            "\n",
            "        Fake       0.94      0.95      0.95      1461\n",
            "        Real       0.99      0.98      0.98      4539\n",
            "\n",
            "    accuracy                           0.97      6000\n",
            "   macro avg       0.96      0.97      0.97      6000\n",
            "weighted avg       0.97      0.97      0.97      6000\n",
            "\n"
          ]
        }
      ]
    },
    {
      "cell_type": "code",
      "source": [
        "import seaborn as sns\n",
        "import matplotlib.pyplot as plt\n",
        "from sklearn.metrics import confusion_matrix\n",
        "from tensorflow.keras.preprocessing.sequence import pad_sequences # Import pad_sequences\n",
        "\n",
        "# Assuming 'test_texts' contains the raw text data for the test set\n",
        "test_texts = data['lemmatized_title'].tolist()[:data_subset]\n",
        "test_labels = data['real'].tolist()[:data_subset]\n",
        "\n",
        "# Convert any potential float values to strings\n",
        "test_texts = [str(text) for text in test_texts]  # Convert floats to strings\n",
        "\n",
        "test_sequences = tokenizer.texts_to_sequences(test_texts)\n",
        "test_padded = pad_sequences(test_sequences, maxlen=max_length, padding='post') # Preprocess test data\n",
        "\n",
        "# Generate predictions on the test set\n",
        "test_predictions = (best_model.predict(test_padded) > 0.5).astype(\"int32\")\n",
        "\n",
        "# Generate the confusion matrix\n",
        "conf_matrix = confusion_matrix(test_labels, test_predictions)\n",
        "\n",
        "# Create a heatmap for the confusion matrix\n",
        "sns.heatmap(conf_matrix, annot=True, fmt='d', cmap='Blues', xticklabels=['Fake', 'Real'], yticklabels=['Fake', 'Real'])\n",
        "plt.xlabel('Predicted Labels')\n",
        "plt.ylabel('True Labels')\n",
        "plt.title('Confusion Matrix Heatmap')\n",
        "plt.show()"
      ],
      "metadata": {
        "colab": {
          "base_uri": "https://localhost:8080/",
          "height": 489
        },
        "id": "ZZrJFNIY2U1B",
        "outputId": "d1258799-abe5-4750-dc60-543c67806c98"
      },
      "execution_count": 20,
      "outputs": [
        {
          "output_type": "stream",
          "name": "stdout",
          "text": [
            "313/313 [==============================] - 3s 10ms/step\n"
          ]
        },
        {
          "output_type": "display_data",
          "data": {
            "text/plain": [
              "<Figure size 640x480 with 2 Axes>"
            ],
            "image/png": "[encoded data removed]"
          },
          "metadata": {}
        }
      ]
    }
  ]
}