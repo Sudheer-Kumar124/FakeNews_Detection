{
  "nbformat": 4,
  "nbformat_minor": 0,
  "metadata": {
    "colab": {
      "provenance": [],
      "gpuType": "T4"
    },
    "kernelspec": {
      "name": "python3",
      "display_name": "Python 3"
    },
    "language_info": {
      "name": "python"
    },
    "accelerator": "GPU"
  },
  "cells": [
    {
      "cell_type": "markdown",
      "source": [
        "# **Bidirectional LSTM (BiLSTM)**\n",
        "\n",
        "---\n",
        "LSTM models, known for their ability to capture sequential dependencies in data, are particularly suited for analyzing textual data like social media posts. These models excel in understanding context and detecting patterns in the sequence of words, crucial for identifying nuanced misinformation.\n",
        "\n",
        "A Bidirectional LSTM is an extension of the traditional LSTM architecture that enhances its ability to capture patterns from sequential data by processing it in both forward and backward directions.\n"
      ],
      "metadata": {
        "id": "HhDS1kOzWzk0"
      }
    },
    {
      "cell_type": "code",
      "source": [
        "# Import important libraries\n",
        "import pandas as pd\n",
        "import numpy as np\n",
        "import matplotlib.pyplot as plt\n",
        "import seaborn as sns\n",
        "from keras.preprocessing.sequence import pad_sequences\n",
        "from keras.preprocessing.text import Tokenizer\n",
        "from keras.models import Sequential\n",
        "from keras.layers import Embedding, LSTM, Dense, Dropout, Bidirectional, SpatialDropout1D\n",
        "from keras.optimizers import Adam\n",
        "from keras.callbacks import EarlyStopping\n",
        "from sklearn.metrics import classification_report, confusion_matrix\n",
        "from sklearn.model_selection import train_test_split\n",
        "from sklearn.metrics import accuracy_score, precision_recall_fscore_support\n",
        "from sklearn.model_selection import ParameterGrid"
      ],
      "metadata": {
        "id": "I8NZxm_ENwRS"
      },
      "execution_count": 11,
      "outputs": []
    },
    {
      "cell_type": "code",
      "source": [
        "from google.colab import drive\n",
        "drive.mount('/content/drive')"
      ],
      "metadata": {
        "colab": {
          "base_uri": "https://localhost:8080/"
        },
        "id": "Ygfv8-O6Jnq5",
        "outputId": "284330a3-d163-475e-cd49-a6b70c8eb7be"
      },
      "execution_count": 2,
      "outputs": [
        {
          "output_type": "stream",
          "name": "stdout",
          "text": [
            "Mounted at /content/drive\n"
          ]
        }
      ]
    },
    {
      "cell_type": "code",
      "source": [
        "# Load dataset\n",
        "df = pd.read_csv('/content/drive/MyDrive/InfosysSB/Preprocessed_Dataset/FakeNewsNet_Preprocessed.csv')"
      ],
      "metadata": {
        "id": "WY03aXi0N00H"
      },
      "execution_count": 3,
      "outputs": []
    },
    {
      "cell_type": "code",
      "source": [
        "# Show the first few rows of the dataset\n",
        "df.head()"
      ],
      "metadata": {
        "colab": {
          "base_uri": "https://localhost:8080/",
          "height": 226
        },
        "id": "a6lKmLQBN_cd",
        "outputId": "a410ae46-b4e8-4abc-ea45-b56387e357a9"
      },
      "execution_count": 4,
      "outputs": [
        {
          "output_type": "execute_result",
          "data": {
            "text/plain": [
              "                                               title  \\\n",
              "0  kandi burruss explodes rape accusation on real...   \n",
              "1       people choice award the best red carpet look   \n",
              "2  sophia bush sends sweet birthday message to on...   \n",
              "3  colombian singer maluma spark rumour of inappr...   \n",
              "4  gossip girl year later upper east siders shock...   \n",
              "\n",
              "                                            news_url        source_domain  \\\n",
              "0  http://toofab.com/2017/05/08/real-housewives-a...           toofab.com   \n",
              "1  https://www.today.com/style/see-people-s-choic...        www.today.com   \n",
              "2  https://www.etonline.com/news/220806_sophia_bu...     www.etonline.com   \n",
              "3  https://www.dailymail.co.uk/news/article-33655...  www.dailymail.co.uk   \n",
              "4  https://www.zerchoo.com/entertainment/gossip-g...      www.zerchoo.com   \n",
              "\n",
              "   tweet_num  real  \n",
              "0         42     1  \n",
              "1          0     1  \n",
              "2         63     1  \n",
              "3         20     1  \n",
              "4         38     1  "
            ],
            "text/html": [
              "\n",
              "  <div id=\"df-c84ac5aa-d9ae-43c6-80e0-25aea8670a69\" class=\"colab-df-container\">\n",
              "    <div>\n",
              "<style scoped>\n",
              "    .dataframe tbody tr th:only-of-type {\n",
              "        vertical-align: middle;\n",
              "    }\n",
              "\n",
              "    .dataframe tbody tr th {\n",
              "        vertical-align: top;\n",
              "    }\n",
              "\n",
              "    .dataframe thead th {\n",
              "        text-align: right;\n",
              "    }\n",
              "</style>\n",
              "<table border=\"1\" class=\"dataframe\">\n",
              "  <thead>\n",
              "    <tr style=\"text-align: right;\">\n",
              "      <th></th>\n",
              "      <th>title</th>\n",
              "      <th>news_url</th>\n",
              "      <th>source_domain</th>\n",
              "      <th>tweet_num</th>\n",
              "      <th>real</th>\n",
              "    </tr>\n",
              "  </thead>\n",
              "  <tbody>\n",
              "    <tr>\n",
              "      <th>0</th>\n",
              "      <td>kandi burruss explodes rape accusation on real...</td>\n",
              "      <td>http://toofab.com/2017/05/08/real-housewives-a...</td>\n",
              "      <td>toofab.com</td>\n",
              "      <td>42</td>\n",
              "      <td>1</td>\n",
              "    </tr>\n",
              "    <tr>\n",
              "      <th>1</th>\n",
              "      <td>people choice award the best red carpet look</td>\n",
              "      <td>https://www.today.com/style/see-people-s-choic...</td>\n",
              "      <td>www.today.com</td>\n",
              "      <td>0</td>\n",
              "      <td>1</td>\n",
              "    </tr>\n",
              "    <tr>\n",
              "      <th>2</th>\n",
              "      <td>sophia bush sends sweet birthday message to on...</td>\n",
              "      <td>https://www.etonline.com/news/220806_sophia_bu...</td>\n",
              "      <td>www.etonline.com</td>\n",
              "      <td>63</td>\n",
              "      <td>1</td>\n",
              "    </tr>\n",
              "    <tr>\n",
              "      <th>3</th>\n",
              "      <td>colombian singer maluma spark rumour of inappr...</td>\n",
              "      <td>https://www.dailymail.co.uk/news/article-33655...</td>\n",
              "      <td>www.dailymail.co.uk</td>\n",
              "      <td>20</td>\n",
              "      <td>1</td>\n",
              "    </tr>\n",
              "    <tr>\n",
              "      <th>4</th>\n",
              "      <td>gossip girl year later upper east siders shock...</td>\n",
              "      <td>https://www.zerchoo.com/entertainment/gossip-g...</td>\n",
              "      <td>www.zerchoo.com</td>\n",
              "      <td>38</td>\n",
              "      <td>1</td>\n",
              "    </tr>\n",
              "  </tbody>\n",
              "</table>\n",
              "</div>\n",
              "    <div class=\"colab-df-buttons\">\n",
              "\n",
              "  <div class=\"colab-df-container\">\n",
              "    <button class=\"colab-df-convert\" onclick=\"convertToInteractive('df-c84ac5aa-d9ae-43c6-80e0-25aea8670a69')\"\n",
              "            title=\"Convert this dataframe to an interactive table.\"\n",
              "            style=\"display:none;\">\n",
              "\n",
              "  <svg xmlns=\"http://www.w3.org/2000/svg\" height=\"24px\" viewBox=\"0 -960 960 960\">\n",
              "    <path d=\"M120-120v-720h720v720H120Zm60-500h600v-160H180v160Zm220 220h160v-160H400v160Zm0 220h160v-160H400v160ZM180-400h160v-160H180v160Zm440 0h160v-160H620v160ZM180-180h160v-160H180v160Zm440 0h160v-160H620v160Z\"/>\n",
              "  </svg>\n",
              "    </button>\n",
              "\n",
              "  <style>\n",
              "    .colab-df-container {\n",
              "      display:flex;\n",
              "      gap: 12px;\n",
              "    }\n",
              "\n",
              "    .colab-df-convert {\n",
              "      background-color: #E8F0FE;\n",
              "      border: none;\n",
              "      border-radius: 50%;\n",
              "      cursor: pointer;\n",
              "      display: none;\n",
              "      fill: #1967D2;\n",
              "      height: 32px;\n",
              "      padding: 0 0 0 0;\n",
              "      width: 32px;\n",
              "    }\n",
              "\n",
              "    .colab-df-convert:hover {\n",
              "      background-color: #E2EBFA;\n",
              "      box-shadow: 0px 1px 2px rgba(60, 64, 67, 0.3), 0px 1px 3px 1px rgba(60, 64, 67, 0.15);\n",
              "      fill: #174EA6;\n",
              "    }\n",
              "\n",
              "    .colab-df-buttons div {\n",
              "      margin-bottom: 4px;\n",
              "    }\n",
              "\n",
              "    [theme=dark] .colab-df-convert {\n",
              "      background-color: #3B4455;\n",
              "      fill: #D2E3FC;\n",
              "    }\n",
              "\n",
              "    [theme=dark] .colab-df-convert:hover {\n",
              "      background-color: #434B5C;\n",
              "      box-shadow: 0px 1px 3px 1px rgba(0, 0, 0, 0.15);\n",
              "      filter: drop-shadow(0px 1px 2px rgba(0, 0, 0, 0.3));\n",
              "      fill: #FFFFFF;\n",
              "    }\n",
              "  </style>\n",
              "\n",
              "    <script>\n",
              "      const buttonEl =\n",
              "        document.querySelector('#df-c84ac5aa-d9ae-43c6-80e0-25aea8670a69 button.colab-df-convert');\n",
              "      buttonEl.style.display =\n",
              "        google.colab.kernel.accessAllowed ? 'block' : 'none';\n",
              "\n",
              "      async function convertToInteractive(key) {\n",
              "        const element = document.querySelector('#df-c84ac5aa-d9ae-43c6-80e0-25aea8670a69');\n",
              "        const dataTable =\n",
              "          await google.colab.kernel.invokeFunction('convertToInteractive',\n",
              "                                                    [key], {});\n",
              "        if (!dataTable) return;\n",
              "\n",
              "        const docLinkHtml = 'Like what you see? Visit the ' +\n",
              "          '<a target=\"_blank\" href=https://colab.research.google.com/notebooks/data_table.ipynb>data table notebook</a>'\n",
              "          + ' to learn more about interactive tables.';\n",
              "        element.innerHTML = '';\n",
              "        dataTable['output_type'] = 'display_data';\n",
              "        await google.colab.output.renderOutput(dataTable, element);\n",
              "        const docLink = document.createElement('div');\n",
              "        docLink.innerHTML = docLinkHtml;\n",
              "        element.appendChild(docLink);\n",
              "      }\n",
              "    </script>\n",
              "  </div>\n",
              "\n",
              "\n",
              "<div id=\"df-fa60e0b7-2e9a-49a0-8d42-a347d12ef4da\">\n",
              "  <button class=\"colab-df-quickchart\" onclick=\"quickchart('df-fa60e0b7-2e9a-49a0-8d42-a347d12ef4da')\"\n",
              "            title=\"Suggest charts\"\n",
              "            style=\"display:none;\">\n",
              "\n",
              "<svg xmlns=\"http://www.w3.org/2000/svg\" height=\"24px\"viewBox=\"0 0 24 24\"\n",
              "     width=\"24px\">\n",
              "    <g>\n",
              "        <path d=\"M19 3H5c-1.1 0-2 .9-2 2v14c0 1.1.9 2 2 2h14c1.1 0 2-.9 2-2V5c0-1.1-.9-2-2-2zM9 17H7v-7h2v7zm4 0h-2V7h2v10zm4 0h-2v-4h2v4z\"/>\n",
              "    </g>\n",
              "</svg>\n",
              "  </button>\n",
              "\n",
              "<style>\n",
              "  .colab-df-quickchart {\n",
              "      --bg-color: #E8F0FE;\n",
              "      --fill-color: #1967D2;\n",
              "      --hover-bg-color: #E2EBFA;\n",
              "      --hover-fill-color: #174EA6;\n",
              "      --disabled-fill-color: #AAA;\n",
              "      --disabled-bg-color: #DDD;\n",
              "  }\n",
              "\n",
              "  [theme=dark] .colab-df-quickchart {\n",
              "      --bg-color: #3B4455;\n",
              "      --fill-color: #D2E3FC;\n",
              "      --hover-bg-color: #434B5C;\n",
              "      --hover-fill-color: #FFFFFF;\n",
              "      --disabled-bg-color: #3B4455;\n",
              "      --disabled-fill-color: #666;\n",
              "  }\n",
              "\n",
              "  .colab-df-quickchart {\n",
              "    background-color: var(--bg-color);\n",
              "    border: none;\n",
              "    border-radius: 50%;\n",
              "    cursor: pointer;\n",
              "    display: none;\n",
              "    fill: var(--fill-color);\n",
              "    height: 32px;\n",
              "    padding: 0;\n",
              "    width: 32px;\n",
              "  }\n",
              "\n",
              "  .colab-df-quickchart:hover {\n",
              "    background-color: var(--hover-bg-color);\n",
              "    box-shadow: 0 1px 2px rgba(60, 64, 67, 0.3), 0 1px 3px 1px rgba(60, 64, 67, 0.15);\n",
              "    fill: var(--button-hover-fill-color);\n",
              "  }\n",
              "\n",
              "  .colab-df-quickchart-complete:disabled,\n",
              "  .colab-df-quickchart-complete:disabled:hover {\n",
              "    background-color: var(--disabled-bg-color);\n",
              "    fill: var(--disabled-fill-color);\n",
              "    box-shadow: none;\n",
              "  }\n",
              "\n",
              "  .colab-df-spinner {\n",
              "    border: 2px solid var(--fill-color);\n",
              "    border-color: transparent;\n",
              "    border-bottom-color: var(--fill-color);\n",
              "    animation:\n",
              "      spin 1s steps(1) infinite;\n",
              "  }\n",
              "\n",
              "  @keyframes spin {\n",
              "    0% {\n",
              "      border-color: transparent;\n",
              "      border-bottom-color: var(--fill-color);\n",
              "      border-left-color: var(--fill-color);\n",
              "    }\n",
              "    20% {\n",
              "      border-color: transparent;\n",
              "      border-left-color: var(--fill-color);\n",
              "      border-top-color: var(--fill-color);\n",
              "    }\n",
              "    30% {\n",
              "      border-color: transparent;\n",
              "      border-left-color: var(--fill-color);\n",
              "      border-top-color: var(--fill-color);\n",
              "      border-right-color: var(--fill-color);\n",
              "    }\n",
              "    40% {\n",
              "      border-color: transparent;\n",
              "      border-right-color: var(--fill-color);\n",
              "      border-top-color: var(--fill-color);\n",
              "    }\n",
              "    60% {\n",
              "      border-color: transparent;\n",
              "      border-right-color: var(--fill-color);\n",
              "    }\n",
              "    80% {\n",
              "      border-color: transparent;\n",
              "      border-right-color: var(--fill-color);\n",
              "      border-bottom-color: var(--fill-color);\n",
              "    }\n",
              "    90% {\n",
              "      border-color: transparent;\n",
              "      border-bottom-color: var(--fill-color);\n",
              "    }\n",
              "  }\n",
              "</style>\n",
              "\n",
              "  <script>\n",
              "    async function quickchart(key) {\n",
              "      const quickchartButtonEl =\n",
              "        document.querySelector('#' + key + ' button');\n",
              "      quickchartButtonEl.disabled = true;  // To prevent multiple clicks.\n",
              "      quickchartButtonEl.classList.add('colab-df-spinner');\n",
              "      try {\n",
              "        const charts = await google.colab.kernel.invokeFunction(\n",
              "            'suggestCharts', [key], {});\n",
              "      } catch (error) {\n",
              "        console.error('Error during call to suggestCharts:', error);\n",
              "      }\n",
              "      quickchartButtonEl.classList.remove('colab-df-spinner');\n",
              "      quickchartButtonEl.classList.add('colab-df-quickchart-complete');\n",
              "    }\n",
              "    (() => {\n",
              "      let quickchartButtonEl =\n",
              "        document.querySelector('#df-fa60e0b7-2e9a-49a0-8d42-a347d12ef4da button');\n",
              "      quickchartButtonEl.style.display =\n",
              "        google.colab.kernel.accessAllowed ? 'block' : 'none';\n",
              "    })();\n",
              "  </script>\n",
              "</div>\n",
              "\n",
              "    </div>\n",
              "  </div>\n"
            ],
            "application/vnd.google.colaboratory.intrinsic+json": {
              "type": "dataframe",
              "variable_name": "df",
              "summary": "{\n  \"name\": \"df\",\n  \"rows\": 23196,\n  \"fields\": [\n    {\n      \"column\": \"title\",\n      \"properties\": {\n        \"dtype\": \"string\",\n        \"num_unique_values\": 21677,\n        \"samples\": [\n          \"joe jackson rushed to hospital car crash in la vega update\",\n          \"helen hunt mad you revival update we dont want to wreck it and make it sucky\",\n          \"taylor swift joe alwyn hold hand on dinner date in london\"\n        ],\n        \"semantic_type\": \"\",\n        \"description\": \"\"\n      }\n    },\n    {\n      \"column\": \"news_url\",\n      \"properties\": {\n        \"dtype\": \"string\",\n        \"num_unique_values\": 21659,\n        \"samples\": [\n          \"https://www.accessonline.com/articles/amy-schumer-kisses-chef-chris-fischer-first-pda-photo\",\n          \"https://www.popsugar.com/fashion/Gigi-Hadid-Wearing-Long-Pink-Coat-44489904\",\n          \"http://query.nytimes.com/gst/fullpage.html?res=9F02E1DE1438F932A2575AC0A9679C8B63&sec=&spon=&pagewanted=1\"\n        ],\n        \"semantic_type\": \"\",\n        \"description\": \"\"\n      }\n    },\n    {\n      \"column\": \"source_domain\",\n      \"properties\": {\n        \"dtype\": \"category\",\n        \"num_unique_values\": 2442,\n        \"samples\": [\n          \"www.wideopeneats.com\",\n          \"jewelry-newsline.com\",\n          \"www.legends1027.com\"\n        ],\n        \"semantic_type\": \"\",\n        \"description\": \"\"\n      }\n    },\n    {\n      \"column\": \"tweet_num\",\n      \"properties\": {\n        \"dtype\": \"number\",\n        \"std\": 488,\n        \"min\": 0,\n        \"max\": 29060,\n        \"num_unique_values\": 825,\n        \"samples\": [\n          4601,\n          407,\n          67\n        ],\n        \"semantic_type\": \"\",\n        \"description\": \"\"\n      }\n    },\n    {\n      \"column\": \"real\",\n      \"properties\": {\n        \"dtype\": \"number\",\n        \"std\": 0,\n        \"min\": 0,\n        \"max\": 1,\n        \"num_unique_values\": 2,\n        \"samples\": [\n          0,\n          1\n        ],\n        \"semantic_type\": \"\",\n        \"description\": \"\"\n      }\n    }\n  ]\n}"
            }
          },
          "metadata": {},
          "execution_count": 4
        }
      ]
    },
    {
      "cell_type": "code",
      "source": [
        "# Show the count of real and fake news\n",
        "df['real'].value_counts().plot(kind='bar', color=['blue', 'orange'], title='Count of Real and Fake News')\n",
        "plt.xlabel('News Type')\n",
        "plt.ylabel('Count')\n",
        "plt.show()\n",
        "\n",
        "# Print count of real and fake news\n",
        "# Get the count of 0s and 1s in the 'real' column\n",
        "count_values = df['real'].value_counts()\n",
        "\n",
        "# Print the counts with labels\n",
        "fake_count = count_values[0]  # Count of fake news\n",
        "real_count = count_values[1]  # Count of real news\n",
        "\n",
        "print(f\"Fake News Count (0): {fake_count}\")\n",
        "print(f\"Real News Count (1): {real_count}\")"
      ],
      "metadata": {
        "colab": {
          "base_uri": "https://localhost:8080/",
          "height": 522
        },
        "id": "pQ96sTQROJde",
        "outputId": "23b42c4e-b944-4565-98f7-8a50463f3471"
      },
      "execution_count": 5,
      "outputs": [
        {
          "output_type": "display_data",
          "data": {
            "text/plain": [
              "<Figure size 640x480 with 1 Axes>"
            ],
            "image/png": "[encoded data removed]"
          },
          "metadata": {}
        },
        {
          "output_type": "stream",
          "name": "stdout",
          "text": [
            "Fake News Count (0): 5755\n",
            "Real News Count (1): 17441\n"
          ]
        }
      ]
    },
    {
      "cell_type": "code",
      "source": [
        "# Handle any missing values in title column (if any)\n",
        "df['title'].fillna(\"Unknown Title\", inplace=True)"
      ],
      "metadata": {
        "id": "gtc_zm5OYFpA"
      },
      "execution_count": 6,
      "outputs": []
    },
    {
      "cell_type": "code",
      "source": [
        "# Overview of the dataset\n",
        "df.info()"
      ],
      "metadata": {
        "colab": {
          "base_uri": "https://localhost:8080/"
        },
        "id": "ZvQ1Xrz5YFfi",
        "outputId": "2965c69e-44d0-426c-e996-40b4c630f2bc"
      },
      "execution_count": 7,
      "outputs": [
        {
          "output_type": "stream",
          "name": "stdout",
          "text": [
            "<class 'pandas.core.frame.DataFrame'>\n",
            "RangeIndex: 23196 entries, 0 to 23195\n",
            "Data columns (total 5 columns):\n",
            " #   Column         Non-Null Count  Dtype \n",
            "---  ------         --------------  ----- \n",
            " 0   title          23196 non-null  object\n",
            " 1   news_url       23196 non-null  object\n",
            " 2   source_domain  23196 non-null  object\n",
            " 3   tweet_num      23196 non-null  int64 \n",
            " 4   real           23196 non-null  int64 \n",
            "dtypes: int64(2), object(3)\n",
            "memory usage: 906.2+ KB\n"
          ]
        }
      ]
    },
    {
      "cell_type": "code",
      "source": [
        "# Check the count of null values\n",
        "print(df.isnull().sum())"
      ],
      "metadata": {
        "colab": {
          "base_uri": "https://localhost:8080/"
        },
        "id": "FKuhRMjLYNbx",
        "outputId": "55a346f8-1808-49bb-fdea-dc0f7943d5c5"
      },
      "execution_count": 8,
      "outputs": [
        {
          "output_type": "stream",
          "name": "stdout",
          "text": [
            "title            0\n",
            "news_url         0\n",
            "source_domain    0\n",
            "tweet_num        0\n",
            "real             0\n",
            "dtype: int64\n"
          ]
        }
      ]
    },
    {
      "cell_type": "code",
      "source": [
        "# Combine text features into one column\n",
        "X = df['title'] + ' ' + df['news_url'] + ' ' + df['source_domain']\n",
        "y = df['real']"
      ],
      "metadata": {
        "id": "TR4Z9NekON-b"
      },
      "execution_count": 9,
      "outputs": []
    },
    {
      "cell_type": "code",
      "source": [
        "# Split data into train (70%) and temp (30%)\n",
        "X_train, X_temp, y_train, y_temp = train_test_split(X, y, test_size=0.3, random_state=101)\n",
        "\n",
        "# Further split temp into test (20%) and validation (10%)\n",
        "X_test, X_val, y_test, y_val = train_test_split(X_temp, y_temp, test_size=0.333, random_state=101)"
      ],
      "metadata": {
        "id": "DQ5pFe7sYa9d"
      },
      "execution_count": 12,
      "outputs": []
    },
    {
      "cell_type": "code",
      "source": [
        "# Tokenize text data\n",
        "tokenizer_lstm = Tokenizer()\n",
        "tokenizer_lstm.fit_on_texts(X_train)\n",
        "\n",
        "# Convert texts to sequences\n",
        "X_train_seq = tokenizer_lstm.texts_to_sequences(X_train)\n",
        "X_val_seq = tokenizer_lstm.texts_to_sequences(X_val)\n",
        "X_test_seq = tokenizer_lstm.texts_to_sequences(X_test)\n",
        "\n",
        "# Pad sequences to ensure uniform length\n",
        "max_seq_length = 128  # Max sequence length to pad\n",
        "\n",
        "X_train_seq_padded = pad_sequences(X_train_seq, maxlen=max_seq_length, padding='post', truncating='post')\n",
        "X_val_seq_padded = pad_sequences(X_val_seq, maxlen=max_seq_length, padding='post', truncating='post')\n",
        "X_test_seq_padded = pad_sequences(X_test_seq, maxlen=max_seq_length, padding='post', truncating='post')"
      ],
      "metadata": {
        "id": "ZvN3nwZGOXEz"
      },
      "execution_count": 13,
      "outputs": []
    },
    {
      "cell_type": "code",
      "source": [
        "# Define LSTM model architecture with bidirectional layer and dropout\n",
        "lstm_model = Sequential()\n",
        "lstm_model.add(Embedding(len(tokenizer_lstm.word_index) + 1, 128, input_length=max_seq_length))\n",
        "lstm_model.add(SpatialDropout1D(0.2))\n",
        "lstm_model.add(Bidirectional(LSTM(128, dropout=0.2, recurrent_dropout=0.2)))\n",
        "lstm_model.add(Dense(1, activation='sigmoid'))\n",
        "\n",
        "# Compile the model\n",
        "lstm_model.compile(optimizer=Adam(lr=1e-4), loss='binary_crossentropy', metrics=['accuracy'])\n",
        "\n",
        "# Print model summary\n",
        "print(lstm_model.summary())"
      ],
      "metadata": {
        "id": "ZeQT5esTQQgX",
        "colab": {
          "base_uri": "https://localhost:8080/"
        },
        "outputId": "0a28c58c-628f-48bb-c602-4ffa7e60680e"
      },
      "execution_count": 14,
      "outputs": [
        {
          "output_type": "stream",
          "name": "stderr",
          "text": [
            "WARNING:tensorflow:Layer lstm will not use cuDNN kernels since it doesn't meet the criteria. It will use a generic GPU kernel as fallback when running on GPU.\n",
            "WARNING:tensorflow:Layer lstm will not use cuDNN kernels since it doesn't meet the criteria. It will use a generic GPU kernel as fallback when running on GPU.\n",
            "WARNING:tensorflow:Layer lstm will not use cuDNN kernels since it doesn't meet the criteria. It will use a generic GPU kernel as fallback when running on GPU.\n",
            "WARNING:absl:`lr` is deprecated in Keras optimizer, please use `learning_rate` or use the legacy optimizer, e.g.,tf.keras.optimizers.legacy.Adam.\n"
          ]
        },
        {
          "output_type": "stream",
          "name": "stdout",
          "text": [
            "Model: \"sequential\"\n",
            "_________________________________________________________________\n",
            " Layer (type)                Output Shape              Param #   \n",
            "=================================================================\n",
            " embedding (Embedding)       (None, 128, 128)          3618048   \n",
            "                                                                 \n",
            " spatial_dropout1d (Spatial  (None, 128, 128)          0         \n",
            " Dropout1D)                                                      \n",
            "                                                                 \n",
            " bidirectional (Bidirection  (None, 256)               263168    \n",
            " al)                                                             \n",
            "                                                                 \n",
            " dense (Dense)               (None, 1)                 257       \n",
            "                                                                 \n",
            "=================================================================\n",
            "Total params: 3881473 (14.81 MB)\n",
            "Trainable params: 3881473 (14.81 MB)\n",
            "Non-trainable params: 0 (0.00 Byte)\n",
            "_________________________________________________________________\n",
            "None\n"
          ]
        }
      ]
    },
    {
      "cell_type": "code",
      "source": [
        "# Train the LSTM model\n",
        "epochs_lstm = 5\n",
        "batch_size_lstm = 32\n",
        "\n",
        "history_lstm = lstm_model.fit(X_train_seq_padded, y_train, epochs=epochs_lstm, batch_size=batch_size_lstm,\n",
        "                              validation_data=(X_val_seq_padded, y_val), verbose=1)"
      ],
      "metadata": {
        "id": "_ktQIUh5Qbzw",
        "colab": {
          "base_uri": "https://localhost:8080/"
        },
        "outputId": "bf14a365-5fae-4d49-f4d4-fb546c3e1689"
      },
      "execution_count": 15,
      "outputs": [
        {
          "output_type": "stream",
          "name": "stdout",
          "text": [
            "Epoch 1/5\n",
            "508/508 [==============================] - 454s 877ms/step - loss: 0.1294 - accuracy: 0.9550 - val_loss: 0.0499 - val_accuracy: 0.9840\n",
            "Epoch 2/5\n",
            "508/508 [==============================] - 397s 782ms/step - loss: 0.0323 - accuracy: 0.9906 - val_loss: 0.0706 - val_accuracy: 0.9827\n",
            "Epoch 3/5\n",
            "508/508 [==============================] - 401s 790ms/step - loss: 0.0119 - accuracy: 0.9965 - val_loss: 0.0565 - val_accuracy: 0.9862\n",
            "Epoch 4/5\n",
            "508/508 [==============================] - 394s 775ms/step - loss: 0.0087 - accuracy: 0.9978 - val_loss: 0.0794 - val_accuracy: 0.9810\n",
            "Epoch 5/5\n",
            "508/508 [==============================] - 397s 782ms/step - loss: 0.0028 - accuracy: 0.9992 - val_loss: 0.0876 - val_accuracy: 0.9840\n"
          ]
        }
      ]
    },
    {
      "cell_type": "code",
      "source": [
        "# Evaluate on validation set\n",
        "val_loss_lstm, val_accuracy_lstm = lstm_model.evaluate(X_val_seq_padded, y_val, verbose=0)\n",
        "print(f\"Validation Accuracy (LSTM Model): {val_accuracy_lstm}\")"
      ],
      "metadata": {
        "colab": {
          "base_uri": "https://localhost:8080/"
        },
        "id": "1HnBNEV3ZB1h",
        "outputId": "38d05238-b4e5-49d8-993c-f0454a933998"
      },
      "execution_count": 16,
      "outputs": [
        {
          "output_type": "stream",
          "name": "stdout",
          "text": [
            "Validation Accuracy (LSTM Model): 0.9840379357337952\n"
          ]
        }
      ]
    },
    {
      "cell_type": "code",
      "source": [
        "# Plot training history\n",
        "plt.plot(history_lstm.history['accuracy'], label='Training accuracy')\n",
        "plt.plot(history_lstm.history['val_accuracy'], label='Validation accuracy')\n",
        "plt.xlabel('Epoch')\n",
        "plt.ylabel('Accuracy')\n",
        "plt.title('Training and Validation Accuracy - LSTM Model')\n",
        "plt.legend()\n",
        "plt.show()"
      ],
      "metadata": {
        "id": "R0d_aTHFQht4",
        "colab": {
          "base_uri": "https://localhost:8080/",
          "height": 492
        },
        "outputId": "f5c68a33-61e4-4102-9236-f42febc62116"
      },
      "execution_count": 17,
      "outputs": [
        {
          "output_type": "display_data",
          "data": {
            "text/plain": [
              "<Figure size 640x480 with 1 Axes>"
            ],
            "image/png": "[encoded data removed]"
          },
          "metadata": {}
        }
      ]
    },
    {
      "cell_type": "code",
      "source": [
        "# Make predictions on validation set\n",
        "predictions_val_lstm_prob = lstm_model.predict(X_val_seq_padded)\n",
        "predictions_val_lstm = (predictions_val_lstm_prob > 0.5).astype('int32')  # Threshold of 0.5 for binary classification\n",
        "\n",
        "# Convert to 1D array\n",
        "predictions_val_lstm = predictions_val_lstm.flatten()\n",
        "\n",
        "# Print classification report for validation set\n",
        "print(\"Classification Report for Validation Set (LSTM Model):\")\n",
        "print(classification_report(y_val, predictions_val_lstm))"
      ],
      "metadata": {
        "id": "pfJh02ycQuJd",
        "colab": {
          "base_uri": "https://localhost:8080/"
        },
        "outputId": "a32d3ca2-50f5-467e-f18e-59e601b03873"
      },
      "execution_count": 18,
      "outputs": [
        {
          "output_type": "stream",
          "name": "stdout",
          "text": [
            "73/73 [==============================] - 5s 70ms/step\n",
            "Classification Report for Validation Set (LSTM Model):\n",
            "              precision    recall  f1-score   support\n",
            "\n",
            "           0       0.98      0.96      0.97       590\n",
            "           1       0.99      0.99      0.99      1728\n",
            "\n",
            "    accuracy                           0.98      2318\n",
            "   macro avg       0.98      0.98      0.98      2318\n",
            "weighted avg       0.98      0.98      0.98      2318\n",
            "\n"
          ]
        }
      ]
    },
    {
      "cell_type": "code",
      "source": [
        "# Confusion matrix for validation set (LSTM Model)\n",
        "val_cm_lstm = confusion_matrix(y_val, predictions_val_lstm)\n",
        "sns.heatmap(val_cm_lstm, annot=True, fmt='d', cmap='Blues')\n",
        "plt.title('Confusion Matrix - Validation Set (LSTM Model)')\n",
        "plt.xlabel('Predicted')\n",
        "plt.ylabel('True')\n",
        "plt.show()"
      ],
      "metadata": {
        "colab": {
          "base_uri": "https://localhost:8080/",
          "height": 492
        },
        "id": "m00Ai__8hoyM",
        "outputId": "2d7fbb28-3c29-42c6-fedf-9dfd96f7f48e"
      },
      "execution_count": 24,
      "outputs": [
        {
          "output_type": "display_data",
          "data": {
            "text/plain": [
              "<Figure size 640x480 with 2 Axes>"
            ],
            "image/png": "[encoded data removed]"
          },
          "metadata": {}
        }
      ]
    },
    {
      "cell_type": "code",
      "source": [
        "# Evaluate on test set\n",
        "test_loss_lstm, test_accuracy_lstm = lstm_model.evaluate(X_test_seq_padded, y_test, verbose=0)\n",
        "print(f\"Test Accuracy (LSTM Model): {test_accuracy_lstm}\")"
      ],
      "metadata": {
        "id": "bLO_9TiFf4NV",
        "colab": {
          "base_uri": "https://localhost:8080/"
        },
        "outputId": "bea74beb-81c0-4851-f192-53cb4c18211f"
      },
      "execution_count": 20,
      "outputs": [
        {
          "output_type": "stream",
          "name": "stdout",
          "text": [
            "Test Accuracy (LSTM Model): 0.9879336357116699\n"
          ]
        }
      ]
    },
    {
      "cell_type": "code",
      "source": [
        "# Make predictions on test set\n",
        "predictions_lstm_prob = lstm_model.predict(X_test_seq_padded)\n",
        "predictions_lstm = (predictions_lstm_prob > 0.5).astype('int32')  # Threshold of 0.5 for binary classification\n",
        "\n",
        "# Convert to 1D array\n",
        "predictions_lstm = predictions_lstm.flatten()\n",
        "\n",
        "# Print classification report\n",
        "print(\"Classification Report for Test Set (LSTM Model):\")\n",
        "print(classification_report(y_test, predictions_lstm))"
      ],
      "metadata": {
        "colab": {
          "base_uri": "https://localhost:8080/"
        },
        "id": "Hsx67_2GhsRU",
        "outputId": "e9be59c9-9c55-4839-c110-bf5b8929be57"
      },
      "execution_count": 25,
      "outputs": [
        {
          "output_type": "stream",
          "name": "stdout",
          "text": [
            "146/146 [==============================] - 16s 110ms/step\n",
            "Classification Report for Test Set (LSTM Model):\n",
            "              precision    recall  f1-score   support\n",
            "\n",
            "           0       0.98      0.97      0.97      1126\n",
            "           1       0.99      0.99      0.99      3515\n",
            "\n",
            "    accuracy                           0.99      4641\n",
            "   macro avg       0.99      0.98      0.98      4641\n",
            "weighted avg       0.99      0.99      0.99      4641\n",
            "\n"
          ]
        }
      ]
    },
    {
      "cell_type": "code",
      "source": [
        "# Confusion matrix for test set (LSTM Model)\n",
        "test_cm_lstm = confusion_matrix(y_test, predictions_lstm)\n",
        "sns.heatmap(test_cm_lstm, annot=True, fmt='d', cmap='Blues')\n",
        "plt.title('Confusion Matrix - Test Set (LSTM Model)')\n",
        "plt.xlabel('Predicted')\n",
        "plt.ylabel('True')\n",
        "plt.show()"
      ],
      "metadata": {
        "colab": {
          "base_uri": "https://localhost:8080/",
          "height": 492
        },
        "id": "nHX-YF7ShwGY",
        "outputId": "ba7c80ed-bcc0-4b24-aafd-db8725913ae0"
      },
      "execution_count": 26,
      "outputs": [
        {
          "output_type": "display_data",
          "data": {
            "text/plain": [
              "<Figure size 640x480 with 2 Axes>"
            ],
            "image/png": "[encoded data removed]"
          },
          "metadata": {}
        }
      ]
    },
    {
      "cell_type": "code",
      "source": [
        "# Define a function to predict sentiment for a given text\n",
        "def predict_custom_input_lstm(text):\n",
        "  \"\"\"\n",
        "  Predicts sentiment for a custom text input.\n",
        "\n",
        "  Args:\n",
        "      text: The custom text input string.\n",
        "\n",
        "  Returns:\n",
        "      A list containing the predicted sentiment probability (between 0 and 1)\n",
        "          and the predicted class (\"positive\" or \"negative\").\n",
        "  \"\"\"\n",
        "  # Convert the text to a sequence\n",
        "  custom_seq = tokenizer_lstm.texts_to_sequences([text])\n",
        "\n",
        "  # Pad the sequence\n",
        "  custom_seq_padded = pad_sequences(custom_seq, maxlen=max_seq_length, padding='post', truncating='post')\n",
        "\n",
        "  # Predict with the LSTM model\n",
        "  prediction_prob = lstm_model.predict(custom_seq_padded)[0][0]  # Probability for the first element (custom input)\n",
        "  predicted_class = \"Real\" if prediction_prob > 0.5 else \"Fake\"\n",
        "\n",
        "  return [prediction_prob, predicted_class]\n",
        "\n",
        "# Example usage\n",
        "custom_input = \"gwen stefani got dumped by blake shelton jealousy and drama exclusive\"\n",
        "prediction_prob, predicted_class = predict_custom_input_lstm(custom_input)\n",
        "\n",
        "print(f\"Prediction for custom input: {predicted_class}\")"
      ],
      "metadata": {
        "colab": {
          "base_uri": "https://localhost:8080/"
        },
        "id": "EWeju1o_ZT65",
        "outputId": "471b669d-65f7-45b5-8bf7-fd7be91cf589"
      },
      "execution_count": 27,
      "outputs": [
        {
          "output_type": "stream",
          "name": "stdout",
          "text": [
            "1/1 [==============================] - 0s 80ms/step\n",
            "Prediction for custom input: Fake\n"
          ]
        }
      ]
    }
  ]
}