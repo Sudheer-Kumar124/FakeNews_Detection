{
 "cells": [
  {
   "cell_type": "markdown",
   "metadata": {},
   "source": [
    "To determine which model provides the best results, we need to evaluate the provided metrics for each model: Root Mean Squared Error (RMSE), Mean Absolute Error (MAE), and R-squared (R²) score.\n",
    "\n",
    "### Random Forest Model:\n",
    "- **RMSE:** 0.0497\n",
    "- **MAE:** 0.0025\n",
    "- **R² score:** 99.01%\n",
    "\n",
    "### Logistic Regression:\n",
    "- **RMSE:** 0.1209\n",
    "- **MAE:** 0.0146\n",
    "- **R² score:** 94.15%\n",
    "\n",
    "### Gradient Boosting Classifier:\n",
    "- **RMSE:** 0.0727\n",
    "- **MAE:** 0.0053\n",
    "- **R² score:** 97.88%\n",
    "\n",
    "### Evaluation Criteria:\n",
    "1. **Root Mean Squared Error (RMSE):**\n",
    "   - Lower values indicate better model performance as they show the average magnitude of the error.\n",
    "   - Random Forest has the lowest RMSE (0.0497), followed by Gradient Boosting (0.0727), and Logistic Regression (0.1209).\n",
    "\n",
    "2. **Mean Absolute Error (MAE):**\n",
    "   - Lower values indicate better model performance as they show the average absolute error.\n",
    "   - Random Forest has the lowest MAE (0.0025), followed by Gradient Boosting (0.0053), and Logistic Regression (0.0146).\n",
    "\n",
    "3. **R² score:**\n",
    "   - Higher values indicate better model performance as they show how well the model explains the variance in the data.\n",
    "   - Random Forest has the highest R² score (99.01%), followed by Gradient Boosting (97.88%), and Logistic Regression (94.15%).\n",
    "\n",
    "### Conclusion:\n",
    "Based on the provided metrics, the **Random Forest model** gives the best results because it has the lowest RMSE and MAE values and the highest R² score. This indicates that the Random Forest model has the most accurate predictions with the smallest average errors and explains the highest proportion of variance in the data."
   ]
  }
 ],
 "metadata": {
  "language_info": {
   "name": "python"
  }
 },
 "nbformat": 4,
 "nbformat_minor": 2
}
