{
 "cells": [
  {
   "cell_type": "markdown",
   "id": "ee236997",
   "metadata": {},
   "source": [
    "## 1. DATAPREPROCESSING STEPS:\n"
   ]
  },
  {
   "cell_type": "markdown",
   "id": "3d12e608",
   "metadata": {},
   "source": [
    "### 1.1 Importing the libraries & Loading the dataset:\n",
    "- Importing essential libraries for data manipulation and text processing\n",
    "- Load the dataset from the specified file path"
   ]
  },
  {
   "cell_type": "code",
   "execution_count": 2,
   "id": "66cd3645",
   "metadata": {
    "scrolled": false
   },
   "outputs": [
    {
     "data": {
      "text/html": [
       "<div>\n",
       "<style scoped>\n",
       "    .dataframe tbody tr th:only-of-type {\n",
       "        vertical-align: middle;\n",
       "    }\n",
       "\n",
       "    .dataframe tbody tr th {\n",
       "        vertical-align: top;\n",
       "    }\n",
       "\n",
       "    .dataframe thead th {\n",
       "        text-align: right;\n",
       "    }\n",
       "</style>\n",
       "<table border=\"1\" class=\"dataframe\">\n",
       "  <thead>\n",
       "    <tr style=\"text-align: right;\">\n",
       "      <th></th>\n",
       "      <th>title</th>\n",
       "      <th>news_url</th>\n",
       "      <th>source_domain</th>\n",
       "      <th>tweet_num</th>\n",
       "      <th>real</th>\n",
       "    </tr>\n",
       "  </thead>\n",
       "  <tbody>\n",
       "    <tr>\n",
       "      <th>0</th>\n",
       "      <td>Kandi Burruss Explodes Over Rape Accusation on...</td>\n",
       "      <td>http://toofab.com/2017/05/08/real-housewives-a...</td>\n",
       "      <td>toofab.com</td>\n",
       "      <td>42</td>\n",
       "      <td>1</td>\n",
       "    </tr>\n",
       "    <tr>\n",
       "      <th>1</th>\n",
       "      <td>People's Choice Awards 2018: The best red carp...</td>\n",
       "      <td>https://www.today.com/style/see-people-s-choic...</td>\n",
       "      <td>www.today.com</td>\n",
       "      <td>0</td>\n",
       "      <td>1</td>\n",
       "    </tr>\n",
       "    <tr>\n",
       "      <th>2</th>\n",
       "      <td>Sophia Bush Sends Sweet Birthday Message to 'O...</td>\n",
       "      <td>https://www.etonline.com/news/220806_sophia_bu...</td>\n",
       "      <td>www.etonline.com</td>\n",
       "      <td>63</td>\n",
       "      <td>1</td>\n",
       "    </tr>\n",
       "    <tr>\n",
       "      <th>3</th>\n",
       "      <td>Colombian singer Maluma sparks rumours of inap...</td>\n",
       "      <td>https://www.dailymail.co.uk/news/article-33655...</td>\n",
       "      <td>www.dailymail.co.uk</td>\n",
       "      <td>20</td>\n",
       "      <td>1</td>\n",
       "    </tr>\n",
       "    <tr>\n",
       "      <th>4</th>\n",
       "      <td>Gossip Girl 10 Years Later: How Upper East Sid...</td>\n",
       "      <td>https://www.zerchoo.com/entertainment/gossip-g...</td>\n",
       "      <td>www.zerchoo.com</td>\n",
       "      <td>38</td>\n",
       "      <td>1</td>\n",
       "    </tr>\n",
       "  </tbody>\n",
       "</table>\n",
       "</div>"
      ],
      "text/plain": [
       "                                               title  \\\n",
       "0  Kandi Burruss Explodes Over Rape Accusation on...   \n",
       "1  People's Choice Awards 2018: The best red carp...   \n",
       "2  Sophia Bush Sends Sweet Birthday Message to 'O...   \n",
       "3  Colombian singer Maluma sparks rumours of inap...   \n",
       "4  Gossip Girl 10 Years Later: How Upper East Sid...   \n",
       "\n",
       "                                            news_url        source_domain  \\\n",
       "0  http://toofab.com/2017/05/08/real-housewives-a...           toofab.com   \n",
       "1  https://www.today.com/style/see-people-s-choic...        www.today.com   \n",
       "2  https://www.etonline.com/news/220806_sophia_bu...     www.etonline.com   \n",
       "3  https://www.dailymail.co.uk/news/article-33655...  www.dailymail.co.uk   \n",
       "4  https://www.zerchoo.com/entertainment/gossip-g...      www.zerchoo.com   \n",
       "\n",
       "   tweet_num  real  \n",
       "0         42     1  \n",
       "1          0     1  \n",
       "2         63     1  \n",
       "3         20     1  \n",
       "4         38     1  "
      ]
     },
     "execution_count": 2,
     "metadata": {},
     "output_type": "execute_result"
    }
   ],
   "source": [
    "import pandas as pd\n",
    "import re\n",
    "df = pd.read_csv('C:\\\\Users\\\\ADMIN\\\\FakeNewsNet.csv')\n",
    "df.head()"
   ]
  },
  {
   "cell_type": "markdown",
   "id": "c42d22f8",
   "metadata": {},
   "source": [
    " ## 1.2 Converting text to lowercase:"
   ]
  },
  {
   "cell_type": "code",
   "execution_count": 3,
   "id": "e7140cb8",
   "metadata": {},
   "outputs": [],
   "source": [
    "df['title'] = df['title'].str.lower()\n",
    "#df.head()"
   ]
  },
  {
   "cell_type": "markdown",
   "id": "0f85ba49",
   "metadata": {},
   "source": [
    "## 1.3 Removing links and newline characters:"
   ]
  },
  {
   "cell_type": "code",
   "execution_count": 4,
   "id": "af84977d",
   "metadata": {},
   "outputs": [],
   "source": [
    "def remove_links(text):\n",
    "    if not isinstance(text, str):\n",
    "        return text\n",
    "    # Remove links\n",
    "    text = re.sub(r'http\\S+|www\\S+|https\\S+', '', text)\n",
    "    # Remove newline characters\n",
    "    text = text.replace('\\n', ' ')\n",
    "    return text"
   ]
  },
  {
   "cell_type": "code",
   "execution_count": 5,
   "id": "832e9a1c",
   "metadata": {
    "scrolled": true
   },
   "outputs": [],
   "source": [
    "# Apply function to relevant columns\n",
    "df['title'] = df['title'].apply(remove_links)\n",
    "#df.head()"
   ]
  },
  {
   "cell_type": "markdown",
   "id": "d41ad365",
   "metadata": {},
   "source": [
    "## 1.4 Removing words containing numbers and extra spaces:"
   ]
  },
  {
   "cell_type": "code",
   "execution_count": 6,
   "id": "8da917c2",
   "metadata": {},
   "outputs": [],
   "source": [
    "def remove_extraSpace(text):\n",
    "    if not isinstance(text, str):\n",
    "        return text\n",
    "    # Remove words containing numbers\n",
    "    text = re.sub(r'\\b\\w*\\d\\w*\\b', '', text)\n",
    "    # Remove extra spaces\n",
    "    text = re.sub(r'\\s+', ' ', text)\n",
    "    return text.strip() \n",
    "\n",
    "df['title'] = df['title'].apply(remove_extraSpace)"
   ]
  },
  {
   "cell_type": "markdown",
   "id": "1fba77c2",
   "metadata": {},
   "source": [
    "## 1.5 Removal of special characters:"
   ]
  },
  {
   "cell_type": "code",
   "execution_count": 7,
   "id": "3a8cab4d",
   "metadata": {},
   "outputs": [],
   "source": [
    "def remove_spl_chars(text):\n",
    "    text = re.sub('[^a-zA-Z0-9]',' ', text)\n",
    "    return text\n",
    "df['title'] = df['title'].apply(remove_spl_chars)"
   ]
  },
  {
   "cell_type": "markdown",
   "id": "3678e94b",
   "metadata": {},
   "source": [
    "## 1.6 Removal of stopwords:\n",
    "Stopwords are common words (like \"the\", \"is\") removed during text preprocessing to focus on meaningful content words, improving text analysis accuracy and efficiency"
   ]
  },
  {
   "cell_type": "code",
   "execution_count": 8,
   "id": "d75d34d5",
   "metadata": {},
   "outputs": [],
   "source": [
    "from nltk.corpus import stopwords\n",
    "#\", \".join(stopwords.words('english'))"
   ]
  },
  {
   "cell_type": "code",
   "execution_count": 9,
   "id": "ef6cdc7f",
   "metadata": {},
   "outputs": [],
   "source": [
    "STOPWORDS = set(stopwords.words('english'))\n",
    "def remove_stopwords(text):\n",
    "    return \" \".join([word for word in text.split() if word not in STOPWORDS])\n",
    "\n",
    "df['title'] = df['title'].apply(remove_stopwords)"
   ]
  },
  {
   "cell_type": "markdown",
   "id": "9ea5f197",
   "metadata": {},
   "source": [
    "\n",
    "## 1.7 Stemming:\n",
    "Stemming reduces words to their root form by removing prefixes and suffixes, simplifying text processing and enhancing the efficiency of text analysis."
   ]
  },
  {
   "cell_type": "code",
   "execution_count": 10,
   "id": "af694057",
   "metadata": {},
   "outputs": [],
   "source": [
    "from nltk.stem.porter import PorterStemmer\n",
    "ps = PorterStemmer()\n",
    "def stem_word(text):\n",
    "    return \" \".join([ps.stem(word) for word in text.split()])\n",
    "df['text'] = df['title'].apply(stem_word)"
   ]
  },
  {
   "cell_type": "markdown",
   "id": "cb35c80a",
   "metadata": {},
   "source": [
    "## 1.8 Lemmatization:\n",
    "Lemmatization is a more sophisticated text normalization technique than stemming, aiming to transform words to their base or dictionary form (lemma), considering the word's context and meaning, which helps in improving accuracy in natural language processing tasks."
   ]
  },
  {
   "cell_type": "code",
   "execution_count": 11,
   "id": "681c368b",
   "metadata": {},
   "outputs": [],
   "source": [
    "import nltk\n",
    "from nltk import pos_tag\n",
    "from nltk.corpus import wordnet \n",
    "from nltk.stem import WordNetLemmatizer\n",
    "\n",
    "lemmatizer = WordNetLemmatizer()\n",
    "wordnet_map = {\"N\":wordnet.NOUN, \"V\": wordnet.VERB, \"J\": wordnet.ADJ, \"R\": wordnet.ADV}\n",
    "     \n",
    "\n",
    "def lemm_word(text):\n",
    "    pos_text = pos_tag(text.split())\n",
    "    return \" \".join([lemmatizer.lemmatize(word, wordnet_map.get(pos[0], wordnet.NOUN)) for word, pos in pos_text])"
   ]
  },
  {
   "cell_type": "code",
   "execution_count": 12,
   "id": "549dd448",
   "metadata": {
    "scrolled": false
   },
   "outputs": [
    {
     "data": {
      "text/html": [
       "<div>\n",
       "<style scoped>\n",
       "    .dataframe tbody tr th:only-of-type {\n",
       "        vertical-align: middle;\n",
       "    }\n",
       "\n",
       "    .dataframe tbody tr th {\n",
       "        vertical-align: top;\n",
       "    }\n",
       "\n",
       "    .dataframe thead th {\n",
       "        text-align: right;\n",
       "    }\n",
       "</style>\n",
       "<table border=\"1\" class=\"dataframe\">\n",
       "  <thead>\n",
       "    <tr style=\"text-align: right;\">\n",
       "      <th></th>\n",
       "      <th>title</th>\n",
       "      <th>news_url</th>\n",
       "      <th>source_domain</th>\n",
       "      <th>tweet_num</th>\n",
       "      <th>real</th>\n",
       "      <th>text</th>\n",
       "    </tr>\n",
       "  </thead>\n",
       "  <tbody>\n",
       "    <tr>\n",
       "      <th>0</th>\n",
       "      <td>kandi burruss explodes rape accusation real ho...</td>\n",
       "      <td>http://toofab.com/2017/05/08/real-housewives-a...</td>\n",
       "      <td>toofab.com</td>\n",
       "      <td>42</td>\n",
       "      <td>1</td>\n",
       "      <td>kandi burruss explod rape accus real housew at...</td>\n",
       "    </tr>\n",
       "    <tr>\n",
       "      <th>1</th>\n",
       "      <td>people choice awards best red carpet looks</td>\n",
       "      <td>https://www.today.com/style/see-people-s-choic...</td>\n",
       "      <td>www.today.com</td>\n",
       "      <td>0</td>\n",
       "      <td>1</td>\n",
       "      <td>peopl choic award best red carpet look</td>\n",
       "    </tr>\n",
       "    <tr>\n",
       "      <th>2</th>\n",
       "      <td>sophia bush sends sweet birthday message one t...</td>\n",
       "      <td>https://www.etonline.com/news/220806_sophia_bu...</td>\n",
       "      <td>www.etonline.com</td>\n",
       "      <td>63</td>\n",
       "      <td>1</td>\n",
       "      <td>sophia bush send sweet birthday messag one tre...</td>\n",
       "    </tr>\n",
       "    <tr>\n",
       "      <th>3</th>\n",
       "      <td>colombian singer maluma sparks rumours inappro...</td>\n",
       "      <td>https://www.dailymail.co.uk/news/article-33655...</td>\n",
       "      <td>www.dailymail.co.uk</td>\n",
       "      <td>20</td>\n",
       "      <td>1</td>\n",
       "      <td>colombian singer maluma spark rumour inappropr...</td>\n",
       "    </tr>\n",
       "    <tr>\n",
       "      <th>4</th>\n",
       "      <td>gossip girl years later upper east siders shoc...</td>\n",
       "      <td>https://www.zerchoo.com/entertainment/gossip-g...</td>\n",
       "      <td>www.zerchoo.com</td>\n",
       "      <td>38</td>\n",
       "      <td>1</td>\n",
       "      <td>gossip girl year later upper east sider shock ...</td>\n",
       "    </tr>\n",
       "  </tbody>\n",
       "</table>\n",
       "</div>"
      ],
      "text/plain": [
       "                                               title  \\\n",
       "0  kandi burruss explodes rape accusation real ho...   \n",
       "1         people choice awards best red carpet looks   \n",
       "2  sophia bush sends sweet birthday message one t...   \n",
       "3  colombian singer maluma sparks rumours inappro...   \n",
       "4  gossip girl years later upper east siders shoc...   \n",
       "\n",
       "                                            news_url        source_domain  \\\n",
       "0  http://toofab.com/2017/05/08/real-housewives-a...           toofab.com   \n",
       "1  https://www.today.com/style/see-people-s-choic...        www.today.com   \n",
       "2  https://www.etonline.com/news/220806_sophia_bu...     www.etonline.com   \n",
       "3  https://www.dailymail.co.uk/news/article-33655...  www.dailymail.co.uk   \n",
       "4  https://www.zerchoo.com/entertainment/gossip-g...      www.zerchoo.com   \n",
       "\n",
       "   tweet_num  real                                               text  \n",
       "0         42     1  kandi burruss explod rape accus real housew at...  \n",
       "1          0     1             peopl choic award best red carpet look  \n",
       "2         63     1  sophia bush send sweet birthday messag one tre...  \n",
       "3         20     1  colombian singer maluma spark rumour inappropr...  \n",
       "4         38     1  gossip girl year later upper east sider shock ...  "
      ]
     },
     "execution_count": 12,
     "metadata": {},
     "output_type": "execute_result"
    }
   ],
   "source": [
    "df['text'] = df['text'].apply(lambda x: lemm_word(x))\n",
    "df.head()"
   ]
  },
  {
   "cell_type": "code",
   "execution_count": 17,
   "id": "e5651ebb",
   "metadata": {
    "scrolled": true
   },
   "outputs": [
    {
     "name": "stderr",
     "output_type": "stream",
     "text": [
      "[nltk_data] Downloading package averaged_perceptron_tagger to\n",
      "[nltk_data]     C:\\Users\\ADMIN\\AppData\\Roaming\\nltk_data...\n",
      "[nltk_data]   Package averaged_perceptron_tagger is already up-to-\n",
      "[nltk_data]       date!\n"
     ]
    },
    {
     "data": {
      "text/plain": [
       "True"
      ]
     },
     "execution_count": 17,
     "metadata": {},
     "output_type": "execute_result"
    }
   ],
   "source": [
    "nltk.download('averaged_perceptron_tagger')\n"
   ]
  },
  {
   "cell_type": "markdown",
   "id": "8632d786",
   "metadata": {},
   "source": [
    "# 2. Featuring Engineering\n",
    "Feature extraction in text analytics refers to the process of converting textual data into numerical representations that machine learning algorithms can process. Techniques like TF-IDF and word embeddings are used to capture the importance and semantic relationships of words in documents, enabling effective model training and analysis by reducing dimensionality and preserving essential information."
   ]
  },
  {
   "cell_type": "code",
   "execution_count": 36,
   "id": "36b474a7",
   "metadata": {},
   "outputs": [],
   "source": [
    "from sklearn.feature_extraction.text import TfidfVectorizer\n",
    "\n",
    "# Convert text data to TF-IDF features\n",
    "vectorizer = TfidfVectorizer(max_features=5000)\n",
    "X = vectorizer.fit_transform(df['title']).toarray()\n",
    "y = df['real']"
   ]
  },
  {
   "cell_type": "code",
   "execution_count": 37,
   "id": "01791e2e",
   "metadata": {},
   "outputs": [
    {
     "name": "stdout",
     "output_type": "stream",
     "text": [
      "Shape of X: (23196, 5000)\n",
      "Shape of y: (23196,)\n"
     ]
    }
   ],
   "source": [
    "# Print X and y shapes\n",
    "print(\"Shape of X:\", X.shape)\n",
    "print(\"Shape of y:\", y.shape)"
   ]
  },
  {
   "cell_type": "markdown",
   "id": "a80bffb9",
   "metadata": {},
   "source": [
    "## 3. Model Building\n",
    "### Step 1 : Data Splitting\n",
    "Data Splitting (Train-Test-Validation): Splitting the dataset into training, testing, and validation sets allows you to:\n",
    "\n",
    "- Train the model on the training set: This is where the model learns the patterns and relationships between features (text in this case) and labels (real or fake news).\n",
    "- Test the model on the testing set: This helps evaluate how well the model generalizes to unseen data. It provides an estimate of the model's performance before deploying it to real-world scenarios.\n",
    "- Validate the model on the validation set: This final check ensures that the model's performance metrics are reliable and not overly optimistic due to tuning on the testing set."
   ]
  },
  {
   "cell_type": "code",
   "execution_count": 29,
   "id": "f4b9ec4d",
   "metadata": {},
   "outputs": [],
   "source": [
    "from sklearn.model_selection import train_test_split\n",
    "\n",
    "X_train, X_test, y_train, y_test = train_test_split(X, y, test_size=0.3, random_state=42)\n",
    "X_train, X_val, y_train, y_val = train_test_split(X_train, y_train, test_size=0.33, random_state=42)"
   ]
  },
  {
   "cell_type": "code",
   "execution_count": 30,
   "id": "498ff9d1",
   "metadata": {},
   "outputs": [
    {
     "name": "stdout",
     "output_type": "stream",
     "text": [
      "Train set size: 10878\n",
      "Validation set size: 5359\n",
      "Test set size: 6959\n"
     ]
    }
   ],
   "source": [
    "print(f\"Train set size: {len(X_train)}\")\n",
    "print(f\"Validation set size: {len(X_val)}\")\n",
    "print(f\"Test set size: {len(X_test)}\")"
   ]
  },
  {
   "cell_type": "code",
   "execution_count": 31,
   "id": "b522dcdd",
   "metadata": {},
   "outputs": [
    {
     "name": "stdout",
     "output_type": "stream",
     "text": [
      "Train data size: (10878, 5000)\n"
     ]
    }
   ],
   "source": [
    "print(f'Train data size: {X_train.shape}')"
   ]
  },
  {
   "cell_type": "markdown",
   "id": "a74a0172",
   "metadata": {},
   "source": [
    "### step 2: Model Building\n",
    "- Algorithm Selection: Choosing appropriate algorithms based on the nature of the problem (text classification) and the dataset size.\n",
    "- Training the Models: Each algorithm learns different aspects of the data. For instance, SVM finds the best hyperplane to separate classes, Random Forest uses ensemble learning with decision trees, and Gradient Boosting builds models sequentially to correct errors."
   ]
  },
  {
   "cell_type": "markdown",
   "id": "3f760975",
   "metadata": {},
   "source": [
    "## 3.1: SVM Model Building\n",
    "Support Vector Machine (SVM) is a powerful supervised learning algorithm used for classification and regression tasks. It works by finding the optimal hyperplane that best separates data points into different classes. SVM aims to maximize the margin between classes, which helps generalize well to unseen data. Despite its name, SVM can efficiently handle non-linear boundaries through kernel functions, transforming data into higher dimensions. This method makes SVM versatile in various domains, such as image recognition, text classification, and medical diagnosis. SVM's effectiveness lies in its ability to handle high-dimensional data and complex decision boundaries, though it can be sensitive to the choice of kernel and parameter tuning.\n",
    "\n"
   ]
  },
  {
   "cell_type": "code",
   "execution_count": 32,
   "id": "bf162cbd",
   "metadata": {},
   "outputs": [],
   "source": [
    "from sklearn.svm import SVC\n",
    "from sklearn.metrics import classification_report"
   ]
  },
  {
   "cell_type": "markdown",
   "id": "a5fb375f",
   "metadata": {},
   "source": [
    "### Initialize SVM classifier"
   ]
  },
  {
   "cell_type": "code",
   "execution_count": 33,
   "id": "b238345b",
   "metadata": {},
   "outputs": [],
   "source": [
    "svm_clf = SVC(kernel='linear', random_state=42)"
   ]
  },
  {
   "cell_type": "markdown",
   "id": "dde37a02",
   "metadata": {},
   "source": [
    "### Train the classifier"
   ]
  },
  {
   "cell_type": "code",
   "execution_count": 34,
   "id": "489b19ff",
   "metadata": {},
   "outputs": [
    {
     "data": {
      "text/plain": [
       "SVC(kernel='linear', random_state=42)"
      ]
     },
     "execution_count": 34,
     "metadata": {},
     "output_type": "execute_result"
    }
   ],
   "source": [
    "svm_clf.fit(X_train, y_train)"
   ]
  },
  {
   "cell_type": "markdown",
   "id": "2f472656",
   "metadata": {},
   "source": [
    "### Predict on the test set"
   ]
  },
  {
   "cell_type": "code",
   "execution_count": 35,
   "id": "52208b45",
   "metadata": {},
   "outputs": [],
   "source": [
    "y_pred = svm_clf.predict(X_test)"
   ]
  },
  {
   "cell_type": "markdown",
   "id": "287cc241",
   "metadata": {},
   "source": [
    "### accuracy score and confusion matrix"
   ]
  },
  {
   "cell_type": "code",
   "execution_count": 38,
   "id": "c4393ef8",
   "metadata": {},
   "outputs": [
    {
     "name": "stdout",
     "output_type": "stream",
     "text": [
      "Accuracy: 0.8272740336255209\n",
      "Confusion Matrix:\n",
      "[[ 822  868]\n",
      " [ 334 4935]]\n",
      "Classification Report:\n",
      "              precision    recall  f1-score   support\n",
      "\n",
      "           0       0.71      0.49      0.58      1690\n",
      "           1       0.85      0.94      0.89      5269\n",
      "\n",
      "    accuracy                           0.83      6959\n",
      "   macro avg       0.78      0.71      0.73      6959\n",
      "weighted avg       0.82      0.83      0.82      6959\n",
      "\n"
     ]
    }
   ],
   "source": [
    "from sklearn.metrics import confusion_matrix, accuracy_score, classification_report\n",
    "\n",
    "accuracy = accuracy_score(y_test, y_pred)\n",
    "print(\"Accuracy:\", accuracy)\n",
    "\n",
    "cm = confusion_matrix(y_test, y_pred)\n",
    "print(\"Confusion Matrix:\")\n",
    "print(cm)\n",
    "\n",
    "print(\"Classification Report:\")\n",
    "print(classification_report(y_test, y_pred))"
   ]
  },
  {
   "cell_type": "markdown",
   "id": "fea0aab1",
   "metadata": {},
   "source": [
    "## 3.2: Random Forest Model Building\n",
    "Random Forest is an ensemble learning method that constructs multiple decision trees during training. Each tree in the forest operates independently, and the final prediction is determined by the majority vote of all trees (classification) or the average prediction (regression). Random Forest mitigates overfitting by averaging multiple weak learners, resulting in robust performance on both classification and regression tasks. It handles high-dimensional datasets well and is less prone to overfitting compared to individual decision trees. Random Forest is widely used in applications like recommendation systems, financial forecasting, and medical diagnostics due to its ability to capture complex interactions and feature importance."
   ]
  },
  {
   "cell_type": "code",
   "execution_count": 39,
   "id": "46c0ee1d",
   "metadata": {},
   "outputs": [],
   "source": [
    "from sklearn.ensemble import RandomForestClassifier"
   ]
  },
  {
   "cell_type": "markdown",
   "id": "b1707ad2",
   "metadata": {},
   "source": [
    "### Initialize Random Forest classifier"
   ]
  },
  {
   "cell_type": "code",
   "execution_count": 40,
   "id": "d860940b",
   "metadata": {},
   "outputs": [],
   "source": [
    "rf_clf = RandomForestClassifier(n_estimators=100, random_state=42)"
   ]
  },
  {
   "cell_type": "markdown",
   "id": "d08b3cd0",
   "metadata": {},
   "source": [
    "### Train the classifier"
   ]
  },
  {
   "cell_type": "code",
   "execution_count": 41,
   "id": "5ab30724",
   "metadata": {},
   "outputs": [
    {
     "data": {
      "text/plain": [
       "RandomForestClassifier(random_state=42)"
      ]
     },
     "execution_count": 41,
     "metadata": {},
     "output_type": "execute_result"
    }
   ],
   "source": [
    "rf_clf.fit(X_train, y_train)"
   ]
  },
  {
   "cell_type": "markdown",
   "id": "539288ae",
   "metadata": {},
   "source": [
    "### Predict on the test set"
   ]
  },
  {
   "cell_type": "code",
   "execution_count": 42,
   "id": "914796fd",
   "metadata": {},
   "outputs": [],
   "source": [
    "y_pred_rf = rf_clf.predict(X_test)"
   ]
  },
  {
   "cell_type": "markdown",
   "id": "f3f10e64",
   "metadata": {},
   "source": [
    "### accuracy score and confusion matrix"
   ]
  },
  {
   "cell_type": "code",
   "execution_count": 43,
   "id": "2070fdab",
   "metadata": {},
   "outputs": [
    {
     "name": "stdout",
     "output_type": "stream",
     "text": [
      "Random Forest Accuracy: 0.8144848397758299\n",
      "Random Forest Confusion Matrix:\n",
      "[[ 808  882]\n",
      " [ 409 4860]]\n",
      "Classification Report:\n",
      "              precision    recall  f1-score   support\n",
      "\n",
      "           0       0.66      0.48      0.56      1690\n",
      "           1       0.85      0.92      0.88      5269\n",
      "\n",
      "    accuracy                           0.81      6959\n",
      "   macro avg       0.76      0.70      0.72      6959\n",
      "weighted avg       0.80      0.81      0.80      6959\n",
      "\n"
     ]
    }
   ],
   "source": [
    "### Calculate the accuracy score\n",
    "accuracy_rf = accuracy_score(y_test, y_pred_rf)\n",
    "print(\"Random Forest Accuracy:\", accuracy_rf)\n",
    "\n",
    "# Generate the confusion matrix\n",
    "cm_rf = confusion_matrix(y_test, y_pred_rf)\n",
    "print(\"Random Forest Confusion Matrix:\")\n",
    "print(cm_rf)\n",
    "\n",
    "print(\"Classification Report:\")\n",
    "print(classification_report(y_test, y_pred_rf))"
   ]
  },
  {
   "cell_type": "markdown",
   "id": "6993151f",
   "metadata": {},
   "source": [
    "## 3.3 Gradient Boosting Model Building\n",
    "Gradient Boosting is another ensemble technique that sequentially builds a series of weak learners, typically decision trees, to correct errors made by previous models. It trains each subsequent model to predict the residuals (the difference between actual and predicted values) of the previous model. This iterative process minimizes the overall prediction error, leading to a strong predictive model. Gradient Boosting is effective in both regression and classification tasks, offering superior performance by focusing on difficult instances in the dataset. It's used in domains such as web search ranking, anomaly detection, and ecological modeling. However, Gradient Boosting can be computationally expensive and requires careful parameter tuning to prevent overfitting."
   ]
  },
  {
   "cell_type": "code",
   "execution_count": 44,
   "id": "3953240f",
   "metadata": {},
   "outputs": [],
   "source": [
    "from sklearn.ensemble import GradientBoostingClassifier"
   ]
  },
  {
   "cell_type": "markdown",
   "id": "c7c4082c",
   "metadata": {},
   "source": [
    "### Initialize Gradient Boosting classifier"
   ]
  },
  {
   "cell_type": "code",
   "execution_count": 45,
   "id": "460e6ae4",
   "metadata": {},
   "outputs": [],
   "source": [
    "gb_clf = GradientBoostingClassifier(random_state=42)"
   ]
  },
  {
   "cell_type": "markdown",
   "id": "e1e059c2",
   "metadata": {},
   "source": [
    "### Train the classifier"
   ]
  },
  {
   "cell_type": "code",
   "execution_count": 46,
   "id": "fe36506d",
   "metadata": {},
   "outputs": [
    {
     "data": {
      "text/plain": [
       "GradientBoostingClassifier(random_state=42)"
      ]
     },
     "execution_count": 46,
     "metadata": {},
     "output_type": "execute_result"
    }
   ],
   "source": [
    "gb_clf.fit(X_train, y_train)"
   ]
  },
  {
   "cell_type": "markdown",
   "id": "dfccabab",
   "metadata": {},
   "source": [
    "### Predict on the test set"
   ]
  },
  {
   "cell_type": "code",
   "execution_count": 47,
   "id": "7ba73454",
   "metadata": {},
   "outputs": [],
   "source": [
    "y_pred_gb = gb_clf.predict(X_test)"
   ]
  },
  {
   "cell_type": "markdown",
   "id": "63a65b67",
   "metadata": {},
   "source": [
    "### accuracy score and confusion matrix"
   ]
  },
  {
   "cell_type": "code",
   "execution_count": 48,
   "id": "7099cb0b",
   "metadata": {
    "scrolled": true
   },
   "outputs": [
    {
     "name": "stdout",
     "output_type": "stream",
     "text": [
      "Gradient Boosting Accuracy: 0.8016956459261388\n",
      "Gradient Boosting Confusion Matrix:\n",
      "[[ 435 1255]\n",
      " [ 125 5144]]\n",
      "Gradient Boosting Classification Report:\n",
      "              precision    recall  f1-score   support\n",
      "\n",
      "           0       0.78      0.26      0.39      1690\n",
      "           1       0.80      0.98      0.88      5269\n",
      "\n",
      "    accuracy                           0.80      6959\n",
      "   macro avg       0.79      0.62      0.63      6959\n",
      "weighted avg       0.80      0.80      0.76      6959\n",
      "\n"
     ]
    }
   ],
   "source": [
    "accuracy_gb = accuracy_score(y_test, y_pred_gb)\n",
    "print(\"Gradient Boosting Accuracy:\", accuracy_gb)\n",
    "\n",
    "cm_gb = confusion_matrix(y_test, y_pred_gb)\n",
    "print(\"Gradient Boosting Confusion Matrix:\")\n",
    "print(cm_gb)\n",
    "\n",
    "cr_gb = classification_report(y_test, y_pred_gb)\n",
    "print(\"Gradient Boosting Classification Report:\")\n",
    "print(cr_gb)"
   ]
  },
  {
   "cell_type": "markdown",
   "id": "6a5f4336",
   "metadata": {},
   "source": [
    "# Visualization of Confusion Matrices"
   ]
  },
  {
   "cell_type": "code",
   "execution_count": 49,
   "id": "64a03194",
   "metadata": {},
   "outputs": [
    {
     "data": {
      "image/png": "[encoded data removed]",
      "text/plain": [
       "<Figure size 576x432 with 2 Axes>"
      ]
     },
     "metadata": {
      "needs_background": "light"
     },
     "output_type": "display_data"
    },
    {
     "data": {
      "image/png": "[encoded data removed]",
      "text/plain": [
       "<Figure size 576x432 with 2 Axes>"
      ]
     },
     "metadata": {
      "needs_background": "light"
     },
     "output_type": "display_data"
    },
    {
     "data": {
      "image/png": "[encoded data removed]",
      "text/plain": [
       "<Figure size 576x432 with 2 Axes>"
      ]
     },
     "metadata": {
      "needs_background": "light"
     },
     "output_type": "display_data"
    }
   ],
   "source": [
    "\n",
    "import matplotlib.pyplot as plt\n",
    "import seaborn as sns\n",
    "\n",
    "# Function to plot confusion matrix\n",
    "def plot_confusion_matrix(cm, model_name):\n",
    "    plt.figure(figsize=(8, 6))\n",
    "    sns.heatmap(cm, annot=True, cmap='Blues', fmt='d', annot_kws={'size': 16})\n",
    "    plt.xlabel('Predicted labels')\n",
    "    plt.ylabel('True labels')\n",
    "    plt.title(f'Confusion Matrix - {model_name}')\n",
    "    plt.show()\n",
    "\n",
    "# SVM Confusion Matrix\n",
    "plot_confusion_matrix(cm, 'SVM')\n",
    "\n",
    "# Random Forest Confusion Matrix\n",
    "plot_confusion_matrix(cm_rf, 'Random Forest')\n",
    "\n",
    "# Gradient Boosting Confusion Matrix\n",
    "plot_confusion_matrix(cm_gb, 'Gradient Boosting')\n"
   ]
  },
  {
   "cell_type": "markdown",
   "id": "41f3fd01",
   "metadata": {},
   "source": [
    "## Comparison:\n",
    "- Accuracy: SVM (82.73%) > Random Forest (81.45%) > Gradient Boosting (80.17%)\n",
    "- Precision (Class 0): SVM (0.71) > Random Forest (0.66) > Gradient Boosting (0.78)\n",
    "- Recall (Class 0): SVM (0.49) > Random Forest (0.48) > Gradient Boosting (0.26)\n",
    "- F1-score (Class 0): SVM (0.58) > Random Forest (0.56) > Gradient Boosting (0.39)\n",
    "- Precision (Class 1): SVM (0.85) = Random Forest (0.85) > Gradient Boosting (0.80)\n",
    "- Recall (Class 1): SVM (0.94) > Random Forest (0.92) > Gradient Boosting (0.98)\n",
    "- F1-score (Class 1): SVM (0.89) > Random Forest (0.88) > Gradient Boosting (0.88)"
   ]
  },
  {
   "cell_type": "markdown",
   "id": "59a47d54",
   "metadata": {},
   "source": [
    "# Conclusion:\n",
    "- The Support Vector Machine (SVM) model performs best for fake news detection with an accuracy of 0.83 and strong precision, recall, and F1-scores.\n",
    "- The Random Forest model also shows competitive performance with an accuracy of 0.82 but slightly lower recall for class 0 (fake news).\n",
    "- The Gradient Boosting model, while still effective, has the lowest accuracy at 0.80 and a significant drop in recall for class 0.\n",
    "- Overall, SVM is the most balanced and accurate model for this task."
   ]
  },
  {
   "cell_type": "code",
   "execution_count": 51,
   "id": "5ac631af",
   "metadata": {},
   "outputs": [
    {
     "data": {
      "text/plain": [
       "['gb_model.joblib']"
      ]
     },
     "execution_count": 51,
     "metadata": {},
     "output_type": "execute_result"
    }
   ],
   "source": [
    "from joblib import dump\n",
    "\n",
    "dump(vectorizer, 'vectorizer.joblib')\n",
    "dump(svm_clf, 'svm_model.joblib')\n",
    "dump(rf_clf, 'rf_model.joblib')\n",
    "dump(gb_clf, 'gb_model.joblib')"
   ]
  },
  {
   "cell_type": "code",
   "execution_count": null,
   "id": "96cd8b7d",
   "metadata": {},
   "outputs": [],
   "source": []
  }
 ],
 "metadata": {
  "kernelspec": {
   "display_name": "Python 3 (ipykernel)",
   "language": "python",
   "name": "python3"
  },
  "language_info": {
   "codemirror_mode": {
    "name": "ipython",
    "version": 3
   },
   "file_extension": ".py",
   "mimetype": "text/x-python",
   "name": "python",
   "nbconvert_exporter": "python",
   "pygments_lexer": "ipython3",
   "version": "3.9.12"
  }
 },
 "nbformat": 4,
 "nbformat_minor": 5
}
