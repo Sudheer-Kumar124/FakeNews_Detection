{
 "cells": [
  {
   "cell_type": "markdown",
   "metadata": {},
   "source": [
    "## Import the required libraries"
   ]
  },
  {
   "cell_type": "code",
   "execution_count": 1,
   "metadata": {},
   "outputs": [],
   "source": [
    "import pandas as pd\n",
    "import re\n",
    "import string\n",
    "from sklearn.model_selection import train_test_split\n",
    "from sklearn.feature_extraction.text import TfidfVectorizer\n",
    "from sklearn.linear_model import LogisticRegression\n",
    "from sklearn.metrics import classification_report, confusion_matrix\n",
    "from sklearn.preprocessing import LabelEncoder\n",
    "from nltk.corpus import stopwords\n",
    "from nltk.stem import WordNetLemmatizer\n",
    "from nltk.tokenize import word_tokenize\n",
    "from sklearn.ensemble import RandomForestClassifier\n",
    "from sklearn.svm import SVC  \n",
    "import nltk\n",
    "from sklearn.svm import SVC\n",
    "import nltk\n",
    "import os"
   ]
  },
  {
   "cell_type": "markdown",
   "metadata": {},
   "source": [
    "## Load Dataset"
   ]
  },
  {
   "cell_type": "code",
   "execution_count": 2,
   "metadata": {},
   "outputs": [],
   "source": [
    "correct_news = pd.read_csv(r\"C:\\Users\\krish\\OneDrive\\Desktop\\Boosting Financial Market Stabality With Fake News Detection\\artifacts\\True.csv\")\n",
    "fake_news = pd.read_csv(r\"C:\\Users\\krish\\OneDrive\\Desktop\\Boosting Financial Market Stabality With Fake News Detection\\artifacts\\Fake.csv\")"
   ]
  },
  {
   "cell_type": "markdown",
   "metadata": {},
   "source": [
    "## Add a label column: 1 for correct news, 0 for fake news"
   ]
  },
  {
   "cell_type": "code",
   "execution_count": 3,
   "metadata": {},
   "outputs": [],
   "source": [
    "correct_news['label'] = 1\n",
    "fake_news['label'] = 0"
   ]
  },
  {
   "cell_type": "markdown",
   "metadata": {},
   "source": [
    "## Combine the datasets"
   ]
  },
  {
   "cell_type": "code",
   "execution_count": 4,
   "metadata": {},
   "outputs": [],
   "source": [
    "data = pd.concat([correct_news, fake_news], ignore_index=True)"
   ]
  },
  {
   "cell_type": "markdown",
   "metadata": {},
   "source": [
    "## Shuffle the dataset"
   ]
  },
  {
   "cell_type": "code",
   "execution_count": 5,
   "metadata": {},
   "outputs": [],
   "source": [
    "data = data.sample(frac=1).reset_index(drop=True)"
   ]
  },
  {
   "cell_type": "markdown",
   "metadata": {},
   "source": [
    "## Display the combined dataset"
   ]
  },
  {
   "cell_type": "code",
   "execution_count": 6,
   "metadata": {},
   "outputs": [
    {
     "name": "stdout",
     "output_type": "stream",
     "text": [
      "                                               title  \\\n",
      "0  Draft of Puerto Rico legislation could be impr...   \n",
      "1   Elizabeth Warren Shreds Donald Trump’s Pathet...   \n",
      "2   Watch The Unedited VIDEO Of Oregon Militiaman...   \n",
      "3  Factbox: Trump fills top jobs for his administ...   \n",
      "4  Factbox: Clinton's policies on economy, Islami...   \n",
      "\n",
      "                                                text       subject  \\\n",
      "0  WASHINGTON (Reuters) - The draft bill introduc...  politicsNews   \n",
      "1  On Monday, Donald Trump unveiled his much anti...          News   \n",
      "2  WARNING: Disturbing image of a man being shot....          News   \n",
      "3  (Reuters) - U.S. President-elect Donald Trump ...  politicsNews   \n",
      "4  WASHINGTON (Reuters) - Democratic presidential...  politicsNews   \n",
      "\n",
      "                  date  label  \n",
      "0      March 30, 2016       1  \n",
      "1       August 8, 2016      0  \n",
      "2     January 28, 2016      0  \n",
      "3   December 12, 2016       1  \n",
      "4  September 27, 2016       1  \n"
     ]
    }
   ],
   "source": [
    "print(data.head())"
   ]
  },
  {
   "cell_type": "code",
   "execution_count": 7,
   "metadata": {},
   "outputs": [
    {
     "name": "stdout",
     "output_type": "stream",
     "text": [
      "0    washington reuters draft bill introduced u con...\n",
      "1    monday donald trump unveiled much anticipated ...\n",
      "2    warning disturbing image man shotthe fbi relea...\n",
      "3    reuters u presidentelect donald trump named go...\n",
      "4    washington reuters democratic presidential can...\n",
      "Name: text, dtype: object\n"
     ]
    }
   ],
   "source": [
    "stop_words = set(stopwords.words('english'))\n",
    "lemmatizer = WordNetLemmatizer()\n",
    "\n",
    "def preprocess_text(text):\n",
    "    # Lowercase\n",
    "    text = text.lower()\n",
    "    # Remove punctuation\n",
    "    text = text.translate(str.maketrans('', '', string.punctuation))\n",
    "    # Remove digits\n",
    "    text = re.sub(r'\\d+', '', text)\n",
    "    # Tokenize\n",
    "    words = word_tokenize(text)\n",
    "    # Remove stopwords and lemmatize\n",
    "    words = [lemmatizer.lemmatize(word) for word in words if word not in stop_words]\n",
    "    return ' '.join(words)\n",
    "\n",
    "data['text'] = data['text'].apply(preprocess_text)\n",
    "print(data['text'].head())"
   ]
  },
  {
   "cell_type": "markdown",
   "metadata": {},
   "source": [
    "## Define paths using os.path.join"
   ]
  },
  {
   "cell_type": "code",
   "execution_count": 8,
   "metadata": {},
   "outputs": [],
   "source": [
    "true_news_file = r\"C:\\Users\\krish\\OneDrive\\Desktop\\Boosting Financial Market Stabality With Fake News Detection\\artifacts\\preprocessed_true.csv\"\n",
    "fake_news_file = r\"C:\\Users\\krish\\OneDrive\\Desktop\\Boosting Financial Market Stabality With Fake News Detection\\artifacts\\preprocessed_fake.csv\""
   ]
  },
  {
   "cell_type": "markdown",
   "metadata": {},
   "source": [
    "## Split data into true and fake news"
   ]
  },
  {
   "cell_type": "code",
   "execution_count": 9,
   "metadata": {},
   "outputs": [],
   "source": [
    "true_data = data[data['label'] == 1]\n",
    "fake_data = data[data['label'] == 0]"
   ]
  },
  {
   "cell_type": "markdown",
   "metadata": {},
   "source": [
    "## Save to CSV"
   ]
  },
  {
   "cell_type": "code",
   "execution_count": 10,
   "metadata": {},
   "outputs": [
    {
     "name": "stdout",
     "output_type": "stream",
     "text": [
      "Preprocessed true news saved to C:\\Users\\krish\\OneDrive\\Desktop\\Boosting Financial Market Stabality With Fake News Detection\\artifacts\\preprocessed_true.csv\n",
      "Preprocessed fake news saved to C:\\Users\\krish\\OneDrive\\Desktop\\Boosting Financial Market Stabality With Fake News Detection\\artifacts\\preprocessed_fake.csv\n"
     ]
    }
   ],
   "source": [
    "true_data.to_csv(true_news_file, index=False)\n",
    "fake_data.to_csv(fake_news_file, index=False)\n",
    "\n",
    "print(f\"Preprocessed true news saved to {true_news_file}\")\n",
    "print(f\"Preprocessed fake news saved to {fake_news_file}\")"
   ]
  }
 ],
 "metadata": {
  "kernelspec": {
   "display_name": "Python 3 (ipykernel)",
   "language": "python",
   "name": "python3"
  },
  "language_info": {
   "codemirror_mode": {
    "name": "ipython",
    "version": 3
   },
   "file_extension": ".py",
   "mimetype": "text/x-python",
   "name": "python",
   "nbconvert_exporter": "python",
   "pygments_lexer": "ipython3",
   "version": "3.11.7"
  }
 },
 "nbformat": 4,
 "nbformat_minor": 4
}
