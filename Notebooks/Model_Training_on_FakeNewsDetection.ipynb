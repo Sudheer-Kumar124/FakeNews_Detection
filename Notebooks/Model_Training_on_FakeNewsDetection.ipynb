{
 "cells": [
  {
   "cell_type": "code",
   "execution_count": 5,
   "id": "66cd3645",
   "metadata": {
    "scrolled": false
   },
   "outputs": [
    {
     "data": {
      "text/html": [
       "<div>\n",
       "<style scoped>\n",
       "    .dataframe tbody tr th:only-of-type {\n",
       "        vertical-align: middle;\n",
       "    }\n",
       "\n",
       "    .dataframe tbody tr th {\n",
       "        vertical-align: top;\n",
       "    }\n",
       "\n",
       "    .dataframe thead th {\n",
       "        text-align: right;\n",
       "    }\n",
       "</style>\n",
       "<table border=\"1\" class=\"dataframe\">\n",
       "  <thead>\n",
       "    <tr style=\"text-align: right;\">\n",
       "      <th></th>\n",
       "      <th>title</th>\n",
       "      <th>news_url</th>\n",
       "      <th>source_domain</th>\n",
       "      <th>tweet_num</th>\n",
       "      <th>real</th>\n",
       "    </tr>\n",
       "  </thead>\n",
       "  <tbody>\n",
       "    <tr>\n",
       "      <th>0</th>\n",
       "      <td>Kandi Burruss Explodes Over Rape Accusation on...</td>\n",
       "      <td>http://toofab.com/2017/05/08/real-housewives-a...</td>\n",
       "      <td>toofab.com</td>\n",
       "      <td>42</td>\n",
       "      <td>1</td>\n",
       "    </tr>\n",
       "    <tr>\n",
       "      <th>1</th>\n",
       "      <td>People's Choice Awards 2018: The best red carp...</td>\n",
       "      <td>https://www.today.com/style/see-people-s-choic...</td>\n",
       "      <td>www.today.com</td>\n",
       "      <td>0</td>\n",
       "      <td>1</td>\n",
       "    </tr>\n",
       "    <tr>\n",
       "      <th>2</th>\n",
       "      <td>Sophia Bush Sends Sweet Birthday Message to 'O...</td>\n",
       "      <td>https://www.etonline.com/news/220806_sophia_bu...</td>\n",
       "      <td>www.etonline.com</td>\n",
       "      <td>63</td>\n",
       "      <td>1</td>\n",
       "    </tr>\n",
       "    <tr>\n",
       "      <th>3</th>\n",
       "      <td>Colombian singer Maluma sparks rumours of inap...</td>\n",
       "      <td>https://www.dailymail.co.uk/news/article-33655...</td>\n",
       "      <td>www.dailymail.co.uk</td>\n",
       "      <td>20</td>\n",
       "      <td>1</td>\n",
       "    </tr>\n",
       "    <tr>\n",
       "      <th>4</th>\n",
       "      <td>Gossip Girl 10 Years Later: How Upper East Sid...</td>\n",
       "      <td>https://www.zerchoo.com/entertainment/gossip-g...</td>\n",
       "      <td>www.zerchoo.com</td>\n",
       "      <td>38</td>\n",
       "      <td>1</td>\n",
       "    </tr>\n",
       "  </tbody>\n",
       "</table>\n",
       "</div>"
      ],
      "text/plain": [
       "                                               title  \\\n",
       "0  Kandi Burruss Explodes Over Rape Accusation on...   \n",
       "1  People's Choice Awards 2018: The best red carp...   \n",
       "2  Sophia Bush Sends Sweet Birthday Message to 'O...   \n",
       "3  Colombian singer Maluma sparks rumours of inap...   \n",
       "4  Gossip Girl 10 Years Later: How Upper East Sid...   \n",
       "\n",
       "                                            news_url        source_domain  \\\n",
       "0  http://toofab.com/2017/05/08/real-housewives-a...           toofab.com   \n",
       "1  https://www.today.com/style/see-people-s-choic...        www.today.com   \n",
       "2  https://www.etonline.com/news/220806_sophia_bu...     www.etonline.com   \n",
       "3  https://www.dailymail.co.uk/news/article-33655...  www.dailymail.co.uk   \n",
       "4  https://www.zerchoo.com/entertainment/gossip-g...      www.zerchoo.com   \n",
       "\n",
       "   tweet_num  real  \n",
       "0         42     1  \n",
       "1          0     1  \n",
       "2         63     1  \n",
       "3         20     1  \n",
       "4         38     1  "
      ]
     },
     "execution_count": 5,
     "metadata": {},
     "output_type": "execute_result"
    }
   ],
   "source": [
    "import pandas as pd\n",
    "import re\n",
    "df = pd.read_csv('C:\\\\Users\\\\ADMIN\\\\FakeNewsNet.csv')\n",
    "df.head()"
   ]
  },
  {
   "cell_type": "markdown",
   "id": "c42d22f8",
   "metadata": {},
   "source": [
    "# Convert to lower text"
   ]
  },
  {
   "cell_type": "code",
   "execution_count": 6,
   "id": "e7140cb8",
   "metadata": {},
   "outputs": [
    {
     "data": {
      "text/html": [
       "<div>\n",
       "<style scoped>\n",
       "    .dataframe tbody tr th:only-of-type {\n",
       "        vertical-align: middle;\n",
       "    }\n",
       "\n",
       "    .dataframe tbody tr th {\n",
       "        vertical-align: top;\n",
       "    }\n",
       "\n",
       "    .dataframe thead th {\n",
       "        text-align: right;\n",
       "    }\n",
       "</style>\n",
       "<table border=\"1\" class=\"dataframe\">\n",
       "  <thead>\n",
       "    <tr style=\"text-align: right;\">\n",
       "      <th></th>\n",
       "      <th>title</th>\n",
       "      <th>news_url</th>\n",
       "      <th>source_domain</th>\n",
       "      <th>tweet_num</th>\n",
       "      <th>real</th>\n",
       "    </tr>\n",
       "  </thead>\n",
       "  <tbody>\n",
       "    <tr>\n",
       "      <th>0</th>\n",
       "      <td>kandi burruss explodes over rape accusation on...</td>\n",
       "      <td>http://toofab.com/2017/05/08/real-housewives-a...</td>\n",
       "      <td>toofab.com</td>\n",
       "      <td>42</td>\n",
       "      <td>1</td>\n",
       "    </tr>\n",
       "    <tr>\n",
       "      <th>1</th>\n",
       "      <td>people's choice awards 2018: the best red carp...</td>\n",
       "      <td>https://www.today.com/style/see-people-s-choic...</td>\n",
       "      <td>www.today.com</td>\n",
       "      <td>0</td>\n",
       "      <td>1</td>\n",
       "    </tr>\n",
       "    <tr>\n",
       "      <th>2</th>\n",
       "      <td>sophia bush sends sweet birthday message to 'o...</td>\n",
       "      <td>https://www.etonline.com/news/220806_sophia_bu...</td>\n",
       "      <td>www.etonline.com</td>\n",
       "      <td>63</td>\n",
       "      <td>1</td>\n",
       "    </tr>\n",
       "    <tr>\n",
       "      <th>3</th>\n",
       "      <td>colombian singer maluma sparks rumours of inap...</td>\n",
       "      <td>https://www.dailymail.co.uk/news/article-33655...</td>\n",
       "      <td>www.dailymail.co.uk</td>\n",
       "      <td>20</td>\n",
       "      <td>1</td>\n",
       "    </tr>\n",
       "    <tr>\n",
       "      <th>4</th>\n",
       "      <td>gossip girl 10 years later: how upper east sid...</td>\n",
       "      <td>https://www.zerchoo.com/entertainment/gossip-g...</td>\n",
       "      <td>www.zerchoo.com</td>\n",
       "      <td>38</td>\n",
       "      <td>1</td>\n",
       "    </tr>\n",
       "  </tbody>\n",
       "</table>\n",
       "</div>"
      ],
      "text/plain": [
       "                                               title  \\\n",
       "0  kandi burruss explodes over rape accusation on...   \n",
       "1  people's choice awards 2018: the best red carp...   \n",
       "2  sophia bush sends sweet birthday message to 'o...   \n",
       "3  colombian singer maluma sparks rumours of inap...   \n",
       "4  gossip girl 10 years later: how upper east sid...   \n",
       "\n",
       "                                            news_url        source_domain  \\\n",
       "0  http://toofab.com/2017/05/08/real-housewives-a...           toofab.com   \n",
       "1  https://www.today.com/style/see-people-s-choic...        www.today.com   \n",
       "2  https://www.etonline.com/news/220806_sophia_bu...     www.etonline.com   \n",
       "3  https://www.dailymail.co.uk/news/article-33655...  www.dailymail.co.uk   \n",
       "4  https://www.zerchoo.com/entertainment/gossip-g...      www.zerchoo.com   \n",
       "\n",
       "   tweet_num  real  \n",
       "0         42     1  \n",
       "1          0     1  \n",
       "2         63     1  \n",
       "3         20     1  \n",
       "4         38     1  "
      ]
     },
     "execution_count": 6,
     "metadata": {},
     "output_type": "execute_result"
    }
   ],
   "source": [
    "df['title'] = df['title'].str.lower()\n",
    "df.head()"
   ]
  },
  {
   "cell_type": "markdown",
   "id": "0f85ba49",
   "metadata": {},
   "source": [
    "# Remove Links and Next line chara.."
   ]
  },
  {
   "cell_type": "code",
   "execution_count": 7,
   "id": "af84977d",
   "metadata": {},
   "outputs": [],
   "source": [
    "def remove_links(text):\n",
    "    if not isinstance(text, str):\n",
    "        return text\n",
    "    # Remove links\n",
    "    text = re.sub(r'http\\S+|www\\S+|https\\S+', '', text)\n",
    "    # Remove newline characters\n",
    "    text = text.replace('\\n', ' ')\n",
    "    return text"
   ]
  },
  {
   "cell_type": "code",
   "execution_count": 8,
   "id": "832e9a1c",
   "metadata": {
    "scrolled": true
   },
   "outputs": [
    {
     "data": {
      "text/html": [
       "<div>\n",
       "<style scoped>\n",
       "    .dataframe tbody tr th:only-of-type {\n",
       "        vertical-align: middle;\n",
       "    }\n",
       "\n",
       "    .dataframe tbody tr th {\n",
       "        vertical-align: top;\n",
       "    }\n",
       "\n",
       "    .dataframe thead th {\n",
       "        text-align: right;\n",
       "    }\n",
       "</style>\n",
       "<table border=\"1\" class=\"dataframe\">\n",
       "  <thead>\n",
       "    <tr style=\"text-align: right;\">\n",
       "      <th></th>\n",
       "      <th>title</th>\n",
       "      <th>news_url</th>\n",
       "      <th>source_domain</th>\n",
       "      <th>tweet_num</th>\n",
       "      <th>real</th>\n",
       "    </tr>\n",
       "  </thead>\n",
       "  <tbody>\n",
       "    <tr>\n",
       "      <th>0</th>\n",
       "      <td>kandi burruss explodes over rape accusation on...</td>\n",
       "      <td>http://toofab.com/2017/05/08/real-housewives-a...</td>\n",
       "      <td>toofab.com</td>\n",
       "      <td>42</td>\n",
       "      <td>1</td>\n",
       "    </tr>\n",
       "    <tr>\n",
       "      <th>1</th>\n",
       "      <td>people's choice awards 2018: the best red carp...</td>\n",
       "      <td>https://www.today.com/style/see-people-s-choic...</td>\n",
       "      <td>www.today.com</td>\n",
       "      <td>0</td>\n",
       "      <td>1</td>\n",
       "    </tr>\n",
       "    <tr>\n",
       "      <th>2</th>\n",
       "      <td>sophia bush sends sweet birthday message to 'o...</td>\n",
       "      <td>https://www.etonline.com/news/220806_sophia_bu...</td>\n",
       "      <td>www.etonline.com</td>\n",
       "      <td>63</td>\n",
       "      <td>1</td>\n",
       "    </tr>\n",
       "    <tr>\n",
       "      <th>3</th>\n",
       "      <td>colombian singer maluma sparks rumours of inap...</td>\n",
       "      <td>https://www.dailymail.co.uk/news/article-33655...</td>\n",
       "      <td>www.dailymail.co.uk</td>\n",
       "      <td>20</td>\n",
       "      <td>1</td>\n",
       "    </tr>\n",
       "    <tr>\n",
       "      <th>4</th>\n",
       "      <td>gossip girl 10 years later: how upper east sid...</td>\n",
       "      <td>https://www.zerchoo.com/entertainment/gossip-g...</td>\n",
       "      <td>www.zerchoo.com</td>\n",
       "      <td>38</td>\n",
       "      <td>1</td>\n",
       "    </tr>\n",
       "  </tbody>\n",
       "</table>\n",
       "</div>"
      ],
      "text/plain": [
       "                                               title  \\\n",
       "0  kandi burruss explodes over rape accusation on...   \n",
       "1  people's choice awards 2018: the best red carp...   \n",
       "2  sophia bush sends sweet birthday message to 'o...   \n",
       "3  colombian singer maluma sparks rumours of inap...   \n",
       "4  gossip girl 10 years later: how upper east sid...   \n",
       "\n",
       "                                            news_url        source_domain  \\\n",
       "0  http://toofab.com/2017/05/08/real-housewives-a...           toofab.com   \n",
       "1  https://www.today.com/style/see-people-s-choic...        www.today.com   \n",
       "2  https://www.etonline.com/news/220806_sophia_bu...     www.etonline.com   \n",
       "3  https://www.dailymail.co.uk/news/article-33655...  www.dailymail.co.uk   \n",
       "4  https://www.zerchoo.com/entertainment/gossip-g...      www.zerchoo.com   \n",
       "\n",
       "   tweet_num  real  \n",
       "0         42     1  \n",
       "1          0     1  \n",
       "2         63     1  \n",
       "3         20     1  \n",
       "4         38     1  "
      ]
     },
     "execution_count": 8,
     "metadata": {},
     "output_type": "execute_result"
    }
   ],
   "source": [
    "# Apply function to relevant columns\n",
    "df['title'] = df['title'].apply(remove_links)\n",
    "df.head()"
   ]
  },
  {
   "cell_type": "markdown",
   "id": "d41ad365",
   "metadata": {},
   "source": [
    "# Remove words containing numbers and extra space"
   ]
  },
  {
   "cell_type": "code",
   "execution_count": 9,
   "id": "8da917c2",
   "metadata": {},
   "outputs": [
    {
     "data": {
      "text/html": [
       "<div>\n",
       "<style scoped>\n",
       "    .dataframe tbody tr th:only-of-type {\n",
       "        vertical-align: middle;\n",
       "    }\n",
       "\n",
       "    .dataframe tbody tr th {\n",
       "        vertical-align: top;\n",
       "    }\n",
       "\n",
       "    .dataframe thead th {\n",
       "        text-align: right;\n",
       "    }\n",
       "</style>\n",
       "<table border=\"1\" class=\"dataframe\">\n",
       "  <thead>\n",
       "    <tr style=\"text-align: right;\">\n",
       "      <th></th>\n",
       "      <th>title</th>\n",
       "      <th>news_url</th>\n",
       "      <th>source_domain</th>\n",
       "      <th>tweet_num</th>\n",
       "      <th>real</th>\n",
       "    </tr>\n",
       "  </thead>\n",
       "  <tbody>\n",
       "    <tr>\n",
       "      <th>19699</th>\n",
       "      <td>gwyneth paltrow is consciously cool about dako...</td>\n",
       "      <td>http://www.bravotv.com/personal-space/gwyneth-...</td>\n",
       "      <td>www.bravotv.com</td>\n",
       "      <td>17</td>\n",
       "      <td>1</td>\n",
       "    </tr>\n",
       "    <tr>\n",
       "      <th>11619</th>\n",
       "      <td>blue ivy just schooled beyonce and jay z at th...</td>\n",
       "      <td>https://www.nowtolove.com.au/celebrity/celeb-n...</td>\n",
       "      <td>www.nowtolove.com.au</td>\n",
       "      <td>0</td>\n",
       "      <td>1</td>\n",
       "    </tr>\n",
       "    <tr>\n",
       "      <th>14760</th>\n",
       "      <td>victoria beckham says she and david would no l...</td>\n",
       "      <td>https://closeronline.co.uk/celebrity/news/vict...</td>\n",
       "      <td>closeronline.co.uk</td>\n",
       "      <td>36</td>\n",
       "      <td>1</td>\n",
       "    </tr>\n",
       "    <tr>\n",
       "      <th>19182</th>\n",
       "      <td>miley cyrus is liam hemsworth’s “cash cow”?</td>\n",
       "      <td>www.imdb.com/news/ni61471577</td>\n",
       "      <td>www.imdb.com</td>\n",
       "      <td>13</td>\n",
       "      <td>0</td>\n",
       "    </tr>\n",
       "    <tr>\n",
       "      <th>13019</th>\n",
       "      <td>billy ray cyrus</td>\n",
       "      <td>https://en.wikipedia.org/wiki/Billy_Ray_Cyrus</td>\n",
       "      <td>en.wikipedia.org</td>\n",
       "      <td>72</td>\n",
       "      <td>1</td>\n",
       "    </tr>\n",
       "  </tbody>\n",
       "</table>\n",
       "</div>"
      ],
      "text/plain": [
       "                                                   title  \\\n",
       "19699  gwyneth paltrow is consciously cool about dako...   \n",
       "11619  blue ivy just schooled beyonce and jay z at th...   \n",
       "14760  victoria beckham says she and david would no l...   \n",
       "19182        miley cyrus is liam hemsworth’s “cash cow”?   \n",
       "13019                                    billy ray cyrus   \n",
       "\n",
       "                                                news_url  \\\n",
       "19699  http://www.bravotv.com/personal-space/gwyneth-...   \n",
       "11619  https://www.nowtolove.com.au/celebrity/celeb-n...   \n",
       "14760  https://closeronline.co.uk/celebrity/news/vict...   \n",
       "19182                       www.imdb.com/news/ni61471577   \n",
       "13019      https://en.wikipedia.org/wiki/Billy_Ray_Cyrus   \n",
       "\n",
       "              source_domain  tweet_num  real  \n",
       "19699       www.bravotv.com         17     1  \n",
       "11619  www.nowtolove.com.au          0     1  \n",
       "14760    closeronline.co.uk         36     1  \n",
       "19182          www.imdb.com         13     0  \n",
       "13019      en.wikipedia.org         72     1  "
      ]
     },
     "execution_count": 9,
     "metadata": {},
     "output_type": "execute_result"
    }
   ],
   "source": [
    "def remove_extraSpace(text):\n",
    "    if not isinstance(text, str):\n",
    "        return text\n",
    "    # Remove words containing numbers\n",
    "    text = re.sub(r'\\b\\w*\\d\\w*\\b', '', text)\n",
    "    # Remove extra spaces\n",
    "    text = re.sub(r'\\s+', ' ', text)\n",
    "    return text.strip() \n",
    "\n",
    "df['title'] = df['title'].apply(remove_extraSpace)\n",
    "#df.head()\n",
    "df.sample(frac=1).head(5)"
   ]
  },
  {
   "cell_type": "markdown",
   "id": "1fba77c2",
   "metadata": {},
   "source": [
    "# Removal of special characters"
   ]
  },
  {
   "cell_type": "code",
   "execution_count": 10,
   "id": "3a8cab4d",
   "metadata": {},
   "outputs": [
    {
     "data": {
      "text/html": [
       "<div>\n",
       "<style scoped>\n",
       "    .dataframe tbody tr th:only-of-type {\n",
       "        vertical-align: middle;\n",
       "    }\n",
       "\n",
       "    .dataframe tbody tr th {\n",
       "        vertical-align: top;\n",
       "    }\n",
       "\n",
       "    .dataframe thead th {\n",
       "        text-align: right;\n",
       "    }\n",
       "</style>\n",
       "<table border=\"1\" class=\"dataframe\">\n",
       "  <thead>\n",
       "    <tr style=\"text-align: right;\">\n",
       "      <th></th>\n",
       "      <th>title</th>\n",
       "      <th>news_url</th>\n",
       "      <th>source_domain</th>\n",
       "      <th>tweet_num</th>\n",
       "      <th>real</th>\n",
       "    </tr>\n",
       "  </thead>\n",
       "  <tbody>\n",
       "    <tr>\n",
       "      <th>7512</th>\n",
       "      <td>radio disney music awards</td>\n",
       "      <td>https://en.wikipedia.org/wiki/2018_Radio_Disne...</td>\n",
       "      <td>en.wikipedia.org</td>\n",
       "      <td>68</td>\n",
       "      <td>1</td>\n",
       "    </tr>\n",
       "    <tr>\n",
       "      <th>6248</th>\n",
       "      <td>donald trump  billy bush  interview scrambles ...</td>\n",
       "      <td>http://time.com/4523755/donald-trump-leaked-ta...</td>\n",
       "      <td>time.com</td>\n",
       "      <td>40</td>\n",
       "      <td>1</td>\n",
       "    </tr>\n",
       "    <tr>\n",
       "      <th>16712</th>\n",
       "      <td>mccain palin</td>\n",
       "      <td>https://web.archive.org/web/20080906104758/htt...</td>\n",
       "      <td>web.archive.org</td>\n",
       "      <td>307</td>\n",
       "      <td>1</td>\n",
       "    </tr>\n",
       "    <tr>\n",
       "      <th>13681</th>\n",
       "      <td>blake shelton  gwen stefani  saved my life  af...</td>\n",
       "      <td>www.usmagazine.com/celebrity-news/news/blake-s...</td>\n",
       "      <td>www.usmagazine.com</td>\n",
       "      <td>51</td>\n",
       "      <td>0</td>\n",
       "    </tr>\n",
       "    <tr>\n",
       "      <th>19535</th>\n",
       "      <td>justin bieber  dating hailee steinfeld</td>\n",
       "      <td>www.news.com.au/entertainment/celebrity-life/h...</td>\n",
       "      <td>www.news.com.au</td>\n",
       "      <td>1020</td>\n",
       "      <td>0</td>\n",
       "    </tr>\n",
       "  </tbody>\n",
       "</table>\n",
       "</div>"
      ],
      "text/plain": [
       "                                                   title  \\\n",
       "7512                           radio disney music awards   \n",
       "6248   donald trump  billy bush  interview scrambles ...   \n",
       "16712                                       mccain palin   \n",
       "13681  blake shelton  gwen stefani  saved my life  af...   \n",
       "19535            justin bieber  dating hailee steinfeld    \n",
       "\n",
       "                                                news_url       source_domain  \\\n",
       "7512   https://en.wikipedia.org/wiki/2018_Radio_Disne...    en.wikipedia.org   \n",
       "6248   http://time.com/4523755/donald-trump-leaked-ta...            time.com   \n",
       "16712  https://web.archive.org/web/20080906104758/htt...     web.archive.org   \n",
       "13681  www.usmagazine.com/celebrity-news/news/blake-s...  www.usmagazine.com   \n",
       "19535  www.news.com.au/entertainment/celebrity-life/h...     www.news.com.au   \n",
       "\n",
       "       tweet_num  real  \n",
       "7512          68     1  \n",
       "6248          40     1  \n",
       "16712        307     1  \n",
       "13681         51     0  \n",
       "19535       1020     0  "
      ]
     },
     "execution_count": 10,
     "metadata": {},
     "output_type": "execute_result"
    }
   ],
   "source": [
    "def remove_spl_chars(text):\n",
    "    text = re.sub('[^a-zA-Z0-9]',' ', text)\n",
    "    return text\n",
    "df['title'] = df['title'].apply(remove_spl_chars)\n",
    "df.sample(frac=1).head(5)"
   ]
  },
  {
   "cell_type": "markdown",
   "id": "3678e94b",
   "metadata": {},
   "source": [
    "## Removal of Stopwords"
   ]
  },
  {
   "cell_type": "code",
   "execution_count": 11,
   "id": "d75d34d5",
   "metadata": {},
   "outputs": [],
   "source": [
    "from nltk.corpus import stopwords\n",
    "#\", \".join(stopwords.words('english'))"
   ]
  },
  {
   "cell_type": "code",
   "execution_count": 12,
   "id": "ef6cdc7f",
   "metadata": {},
   "outputs": [
    {
     "data": {
      "text/html": [
       "<div>\n",
       "<style scoped>\n",
       "    .dataframe tbody tr th:only-of-type {\n",
       "        vertical-align: middle;\n",
       "    }\n",
       "\n",
       "    .dataframe tbody tr th {\n",
       "        vertical-align: top;\n",
       "    }\n",
       "\n",
       "    .dataframe thead th {\n",
       "        text-align: right;\n",
       "    }\n",
       "</style>\n",
       "<table border=\"1\" class=\"dataframe\">\n",
       "  <thead>\n",
       "    <tr style=\"text-align: right;\">\n",
       "      <th></th>\n",
       "      <th>title</th>\n",
       "      <th>news_url</th>\n",
       "      <th>source_domain</th>\n",
       "      <th>tweet_num</th>\n",
       "      <th>real</th>\n",
       "    </tr>\n",
       "  </thead>\n",
       "  <tbody>\n",
       "    <tr>\n",
       "      <th>14472</th>\n",
       "      <td>peter travers spider man homecoming really ama...</td>\n",
       "      <td>https://www.rollingstone.com/movies/movie-revi...</td>\n",
       "      <td>www.rollingstone.com</td>\n",
       "      <td>129</td>\n",
       "      <td>1</td>\n",
       "    </tr>\n",
       "    <tr>\n",
       "      <th>7980</th>\n",
       "      <td>justin timberlake spice girl hook emma bunton ...</td>\n",
       "      <td>https://www.dailymail.co.uk/tvshowbiz/article-...</td>\n",
       "      <td>www.dailymail.co.uk</td>\n",
       "      <td>0</td>\n",
       "      <td>1</td>\n",
       "    </tr>\n",
       "    <tr>\n",
       "      <th>21434</th>\n",
       "      <td>kate hudson inch golden globes haircut came</td>\n",
       "      <td>www.hollywoodreporter.com/news/kate-hudsons-a-...</td>\n",
       "      <td>www.hollywoodreporter.com</td>\n",
       "      <td>12</td>\n",
       "      <td>0</td>\n",
       "    </tr>\n",
       "    <tr>\n",
       "      <th>10698</th>\n",
       "      <td>heidi montag spencer pratt talk future play da...</td>\n",
       "      <td>https://www.inquisitr.com/4441602/heidi-montag...</td>\n",
       "      <td>www.inquisitr.com</td>\n",
       "      <td>112</td>\n",
       "      <td>1</td>\n",
       "    </tr>\n",
       "    <tr>\n",
       "      <th>11352</th>\n",
       "      <td>ultimate disney world christmas guide</td>\n",
       "      <td>https://www.disneytouristblog.com/disney-world...</td>\n",
       "      <td>www.disneytouristblog.com</td>\n",
       "      <td>35</td>\n",
       "      <td>1</td>\n",
       "    </tr>\n",
       "  </tbody>\n",
       "</table>\n",
       "</div>"
      ],
      "text/plain": [
       "                                                   title  \\\n",
       "14472  peter travers spider man homecoming really ama...   \n",
       "7980   justin timberlake spice girl hook emma bunton ...   \n",
       "21434        kate hudson inch golden globes haircut came   \n",
       "10698  heidi montag spencer pratt talk future play da...   \n",
       "11352              ultimate disney world christmas guide   \n",
       "\n",
       "                                                news_url  \\\n",
       "14472  https://www.rollingstone.com/movies/movie-revi...   \n",
       "7980   https://www.dailymail.co.uk/tvshowbiz/article-...   \n",
       "21434  www.hollywoodreporter.com/news/kate-hudsons-a-...   \n",
       "10698  https://www.inquisitr.com/4441602/heidi-montag...   \n",
       "11352  https://www.disneytouristblog.com/disney-world...   \n",
       "\n",
       "                   source_domain  tweet_num  real  \n",
       "14472       www.rollingstone.com        129     1  \n",
       "7980         www.dailymail.co.uk          0     1  \n",
       "21434  www.hollywoodreporter.com         12     0  \n",
       "10698          www.inquisitr.com        112     1  \n",
       "11352  www.disneytouristblog.com         35     1  "
      ]
     },
     "execution_count": 12,
     "metadata": {},
     "output_type": "execute_result"
    }
   ],
   "source": [
    "STOPWORDS = set(stopwords.words('english'))\n",
    "def remove_stopwords(text):\n",
    "    return \" \".join([word for word in text.split() if word not in STOPWORDS])\n",
    "\n",
    "df['title'] = df['title'].apply(remove_stopwords)\n",
    "df.sample(frac=1).head(5)\n",
    "#df.head()"
   ]
  },
  {
   "cell_type": "markdown",
   "id": "9ea5f197",
   "metadata": {},
   "source": [
    "# Stemming"
   ]
  },
  {
   "cell_type": "code",
   "execution_count": 13,
   "id": "af694057",
   "metadata": {},
   "outputs": [
    {
     "data": {
      "text/html": [
       "<div>\n",
       "<style scoped>\n",
       "    .dataframe tbody tr th:only-of-type {\n",
       "        vertical-align: middle;\n",
       "    }\n",
       "\n",
       "    .dataframe tbody tr th {\n",
       "        vertical-align: top;\n",
       "    }\n",
       "\n",
       "    .dataframe thead th {\n",
       "        text-align: right;\n",
       "    }\n",
       "</style>\n",
       "<table border=\"1\" class=\"dataframe\">\n",
       "  <thead>\n",
       "    <tr style=\"text-align: right;\">\n",
       "      <th></th>\n",
       "      <th>title</th>\n",
       "      <th>news_url</th>\n",
       "      <th>source_domain</th>\n",
       "      <th>tweet_num</th>\n",
       "      <th>real</th>\n",
       "      <th>text</th>\n",
       "    </tr>\n",
       "  </thead>\n",
       "  <tbody>\n",
       "    <tr>\n",
       "      <th>20352</th>\n",
       "      <td>kate middleton gives birth royal baby boy</td>\n",
       "      <td>https://www.etonline.com/kate-middleton-gives-...</td>\n",
       "      <td>www.etonline.com</td>\n",
       "      <td>42</td>\n",
       "      <td>1</td>\n",
       "      <td>kate middleton give birth royal babi boy</td>\n",
       "    </tr>\n",
       "    <tr>\n",
       "      <th>11155</th>\n",
       "      <td>kylie jenner travis scott timeline relationship</td>\n",
       "      <td>www.usmagazine.com/celebrity-news/pictures/kyl...</td>\n",
       "      <td>www.usmagazine.com</td>\n",
       "      <td>122</td>\n",
       "      <td>0</td>\n",
       "      <td>kyli jenner travi scott timelin relationship</td>\n",
       "    </tr>\n",
       "    <tr>\n",
       "      <th>17087</th>\n",
       "      <td>zara tindall</td>\n",
       "      <td>https://en.wikipedia.org/wiki/Zara_Tindall</td>\n",
       "      <td>en.wikipedia.org</td>\n",
       "      <td>20</td>\n",
       "      <td>1</td>\n",
       "      <td>zara tindal</td>\n",
       "    </tr>\n",
       "    <tr>\n",
       "      <th>16073</th>\n",
       "      <td>much money cast bachelor paradise allegedly ma...</td>\n",
       "      <td>https://www.businessinsider.com/bachelor-in-pa...</td>\n",
       "      <td>www.businessinsider.com</td>\n",
       "      <td>70</td>\n",
       "      <td>1</td>\n",
       "      <td>much money cast bachelor paradis allegedli mak...</td>\n",
       "    </tr>\n",
       "    <tr>\n",
       "      <th>7814</th>\n",
       "      <td>corey feldman wants terry crews help stop sexu...</td>\n",
       "      <td>https://finance.yahoo.com/news/corey-feldman-w...</td>\n",
       "      <td>finance.yahoo.com</td>\n",
       "      <td>13</td>\n",
       "      <td>1</td>\n",
       "      <td>corey feldman want terri crew help stop sexual...</td>\n",
       "    </tr>\n",
       "  </tbody>\n",
       "</table>\n",
       "</div>"
      ],
      "text/plain": [
       "                                                   title  \\\n",
       "20352          kate middleton gives birth royal baby boy   \n",
       "11155    kylie jenner travis scott timeline relationship   \n",
       "17087                                       zara tindall   \n",
       "16073  much money cast bachelor paradise allegedly ma...   \n",
       "7814   corey feldman wants terry crews help stop sexu...   \n",
       "\n",
       "                                                news_url  \\\n",
       "20352  https://www.etonline.com/kate-middleton-gives-...   \n",
       "11155  www.usmagazine.com/celebrity-news/pictures/kyl...   \n",
       "17087         https://en.wikipedia.org/wiki/Zara_Tindall   \n",
       "16073  https://www.businessinsider.com/bachelor-in-pa...   \n",
       "7814   https://finance.yahoo.com/news/corey-feldman-w...   \n",
       "\n",
       "                 source_domain  tweet_num  real  \\\n",
       "20352         www.etonline.com         42     1   \n",
       "11155       www.usmagazine.com        122     0   \n",
       "17087         en.wikipedia.org         20     1   \n",
       "16073  www.businessinsider.com         70     1   \n",
       "7814         finance.yahoo.com         13     1   \n",
       "\n",
       "                                                    text  \n",
       "20352           kate middleton give birth royal babi boy  \n",
       "11155       kyli jenner travi scott timelin relationship  \n",
       "17087                                        zara tindal  \n",
       "16073  much money cast bachelor paradis allegedli mak...  \n",
       "7814   corey feldman want terri crew help stop sexual...  "
      ]
     },
     "execution_count": 13,
     "metadata": {},
     "output_type": "execute_result"
    }
   ],
   "source": [
    "from nltk.stem.porter import PorterStemmer\n",
    "ps = PorterStemmer()\n",
    "def stem_word(text):\n",
    "    return \" \".join([ps.stem(word) for word in text.split()])\n",
    "df['text'] = df['title'].apply(stem_word)\n",
    "#df.head()\n",
    "df.sample(frac=1).head(5)\n"
   ]
  },
  {
   "cell_type": "markdown",
   "id": "cb35c80a",
   "metadata": {},
   "source": [
    "# Lemmatization"
   ]
  },
  {
   "cell_type": "code",
   "execution_count": 14,
   "id": "681c368b",
   "metadata": {},
   "outputs": [],
   "source": [
    "import nltk\n",
    "from nltk import pos_tag\n",
    "from nltk.corpus import wordnet \n",
    "from nltk.stem import WordNetLemmatizer\n",
    "\n",
    "lemmatizer = WordNetLemmatizer()\n",
    "wordnet_map = {\"N\":wordnet.NOUN, \"V\": wordnet.VERB, \"J\": wordnet.ADJ, \"R\": wordnet.ADV}\n",
    "     \n",
    "\n",
    "def lemm_word(text):\n",
    "    pos_text = pos_tag(text.split())\n",
    "    return \" \".join([lemmatizer.lemmatize(word, wordnet_map.get(pos[0], wordnet.NOUN)) for word, pos in pos_text])"
   ]
  },
  {
   "cell_type": "code",
   "execution_count": 15,
   "id": "549dd448",
   "metadata": {
    "scrolled": true
   },
   "outputs": [
    {
     "data": {
      "text/html": [
       "<div>\n",
       "<style scoped>\n",
       "    .dataframe tbody tr th:only-of-type {\n",
       "        vertical-align: middle;\n",
       "    }\n",
       "\n",
       "    .dataframe tbody tr th {\n",
       "        vertical-align: top;\n",
       "    }\n",
       "\n",
       "    .dataframe thead th {\n",
       "        text-align: right;\n",
       "    }\n",
       "</style>\n",
       "<table border=\"1\" class=\"dataframe\">\n",
       "  <thead>\n",
       "    <tr style=\"text-align: right;\">\n",
       "      <th></th>\n",
       "      <th>title</th>\n",
       "      <th>news_url</th>\n",
       "      <th>source_domain</th>\n",
       "      <th>tweet_num</th>\n",
       "      <th>real</th>\n",
       "      <th>text</th>\n",
       "    </tr>\n",
       "  </thead>\n",
       "  <tbody>\n",
       "    <tr>\n",
       "      <th>0</th>\n",
       "      <td>kandi burruss explodes rape accusation real ho...</td>\n",
       "      <td>http://toofab.com/2017/05/08/real-housewives-a...</td>\n",
       "      <td>toofab.com</td>\n",
       "      <td>42</td>\n",
       "      <td>1</td>\n",
       "      <td>kandi burruss explod rape accus real housew at...</td>\n",
       "    </tr>\n",
       "    <tr>\n",
       "      <th>1</th>\n",
       "      <td>people choice awards best red carpet looks</td>\n",
       "      <td>https://www.today.com/style/see-people-s-choic...</td>\n",
       "      <td>www.today.com</td>\n",
       "      <td>0</td>\n",
       "      <td>1</td>\n",
       "      <td>peopl choic award best red carpet look</td>\n",
       "    </tr>\n",
       "    <tr>\n",
       "      <th>2</th>\n",
       "      <td>sophia bush sends sweet birthday message one t...</td>\n",
       "      <td>https://www.etonline.com/news/220806_sophia_bu...</td>\n",
       "      <td>www.etonline.com</td>\n",
       "      <td>63</td>\n",
       "      <td>1</td>\n",
       "      <td>sophia bush send sweet birthday messag one tre...</td>\n",
       "    </tr>\n",
       "    <tr>\n",
       "      <th>3</th>\n",
       "      <td>colombian singer maluma sparks rumours inappro...</td>\n",
       "      <td>https://www.dailymail.co.uk/news/article-33655...</td>\n",
       "      <td>www.dailymail.co.uk</td>\n",
       "      <td>20</td>\n",
       "      <td>1</td>\n",
       "      <td>colombian singer maluma spark rumour inappropr...</td>\n",
       "    </tr>\n",
       "    <tr>\n",
       "      <th>4</th>\n",
       "      <td>gossip girl years later upper east siders shoc...</td>\n",
       "      <td>https://www.zerchoo.com/entertainment/gossip-g...</td>\n",
       "      <td>www.zerchoo.com</td>\n",
       "      <td>38</td>\n",
       "      <td>1</td>\n",
       "      <td>gossip girl year later upper east sider shock ...</td>\n",
       "    </tr>\n",
       "  </tbody>\n",
       "</table>\n",
       "</div>"
      ],
      "text/plain": [
       "                                               title  \\\n",
       "0  kandi burruss explodes rape accusation real ho...   \n",
       "1         people choice awards best red carpet looks   \n",
       "2  sophia bush sends sweet birthday message one t...   \n",
       "3  colombian singer maluma sparks rumours inappro...   \n",
       "4  gossip girl years later upper east siders shoc...   \n",
       "\n",
       "                                            news_url        source_domain  \\\n",
       "0  http://toofab.com/2017/05/08/real-housewives-a...           toofab.com   \n",
       "1  https://www.today.com/style/see-people-s-choic...        www.today.com   \n",
       "2  https://www.etonline.com/news/220806_sophia_bu...     www.etonline.com   \n",
       "3  https://www.dailymail.co.uk/news/article-33655...  www.dailymail.co.uk   \n",
       "4  https://www.zerchoo.com/entertainment/gossip-g...      www.zerchoo.com   \n",
       "\n",
       "   tweet_num  real                                               text  \n",
       "0         42     1  kandi burruss explod rape accus real housew at...  \n",
       "1          0     1             peopl choic award best red carpet look  \n",
       "2         63     1  sophia bush send sweet birthday messag one tre...  \n",
       "3         20     1  colombian singer maluma spark rumour inappropr...  \n",
       "4         38     1  gossip girl year later upper east sider shock ...  "
      ]
     },
     "execution_count": 15,
     "metadata": {},
     "output_type": "execute_result"
    }
   ],
   "source": [
    "df['text'] = df['text'].apply(lambda x: lemm_word(x))\n",
    "df.head()"
   ]
  },
  {
   "cell_type": "code",
   "execution_count": 34,
   "id": "e5651ebb",
   "metadata": {
    "scrolled": true
   },
   "outputs": [
    {
     "name": "stderr",
     "output_type": "stream",
     "text": [
      "[nltk_data] Downloading package averaged_perceptron_tagger to\n",
      "[nltk_data]     C:\\Users\\ADMIN\\AppData\\Roaming\\nltk_data...\n",
      "[nltk_data]   Package averaged_perceptron_tagger is already up-to-\n",
      "[nltk_data]       date!\n"
     ]
    },
    {
     "data": {
      "text/plain": [
       "True"
      ]
     },
     "execution_count": 34,
     "metadata": {},
     "output_type": "execute_result"
    }
   ],
   "source": [
    "nltk.download('averaged_perceptron_tagger')\n"
   ]
  },
  {
   "cell_type": "code",
   "execution_count": null,
   "id": "a6d13520",
   "metadata": {},
   "outputs": [],
   "source": []
  },
  {
   "cell_type": "markdown",
   "id": "f552264d",
   "metadata": {},
   "source": [
    "## Convert the text data to a matrix of TF-IDF features"
   ]
  },
  {
   "cell_type": "code",
   "execution_count": 16,
   "id": "36b474a7",
   "metadata": {},
   "outputs": [],
   "source": [
    "from sklearn.feature_extraction.text import TfidfVectorizer\n",
    "vectorizer = TfidfVectorizer(max_features=5000)\n",
    "X = vectorizer.fit_transform(df['text']).toarray()\n",
    "y = df['real']"
   ]
  },
  {
   "cell_type": "code",
   "execution_count": 17,
   "id": "01791e2e",
   "metadata": {},
   "outputs": [
    {
     "name": "stdout",
     "output_type": "stream",
     "text": [
      "Shape of X: (23196, 5000)\n",
      "Shape of y: (23196,)\n",
      "First 5 rows of X:\n",
      " [[0. 0. 0. ... 0. 0. 0.]\n",
      " [0. 0. 0. ... 0. 0. 0.]\n",
      " [0. 0. 0. ... 0. 0. 0.]\n",
      " [0. 0. 0. ... 0. 0. 0.]\n",
      " [0. 0. 0. ... 0. 0. 0.]]\n",
      "First 5 values of y:\n",
      " 0    1\n",
      "1    1\n",
      "2    1\n",
      "3    1\n",
      "4    1\n",
      "Name: real, dtype: int64\n"
     ]
    }
   ],
   "source": [
    "# Print X and y shapes\n",
    "print(\"Shape of X:\", X.shape)\n",
    "print(\"Shape of y:\", y.shape)\n",
    "\n",
    "# Print X (first 5 rows) and y (first 5 values) to understand what they contain\n",
    "print(\"First 5 rows of X:\\n\", X[:5])\n",
    "print(\"First 5 values of y:\\n\", y[:5])"
   ]
  },
  {
   "cell_type": "markdown",
   "id": "a80bffb9",
   "metadata": {},
   "source": [
    "## Split the dataset into Train, Test, and Validation sets"
   ]
  },
  {
   "cell_type": "code",
   "execution_count": 18,
   "id": "f4b9ec4d",
   "metadata": {},
   "outputs": [],
   "source": [
    "from sklearn.model_selection import train_test_split\n",
    "\n",
    "X_train, X_test, y_train, y_test = train_test_split(X, y, test_size=0.3, random_state=42)\n",
    "X_train, X_val, y_train, y_val = train_test_split(X_train, y_train, test_size=0.33, random_state=42)"
   ]
  },
  {
   "cell_type": "code",
   "execution_count": 19,
   "id": "498ff9d1",
   "metadata": {},
   "outputs": [
    {
     "name": "stdout",
     "output_type": "stream",
     "text": [
      "Train set size: 10878\n",
      "Validation set size: 5359\n",
      "Test set size: 6959\n",
      "7357     1\n",
      "8401     1\n",
      "13564    1\n",
      "2552     0\n",
      "2882     0\n",
      "        ..\n",
      "11439    1\n",
      "7607     1\n",
      "150      1\n",
      "5949     1\n",
      "6745     0\n",
      "Name: real, Length: 10878, dtype: int64\n"
     ]
    }
   ],
   "source": [
    "print(f\"Train set size: {len(X_train)}\")\n",
    "print(f\"Validation set size: {len(X_val)}\")\n",
    "print(f\"Test set size: {len(X_test)}\")\n",
    "\n",
    "print(y_train)"
   ]
  },
  {
   "cell_type": "code",
   "execution_count": 20,
   "id": "b522dcdd",
   "metadata": {},
   "outputs": [
    {
     "name": "stdout",
     "output_type": "stream",
     "text": [
      "Train data size: (10878, 5000)\n"
     ]
    }
   ],
   "source": [
    "print(f'Train data size: {X_train.shape}')"
   ]
  },
  {
   "cell_type": "markdown",
   "id": "3f760975",
   "metadata": {},
   "source": [
    "## 1. SVM Model Building"
   ]
  },
  {
   "cell_type": "code",
   "execution_count": 42,
   "id": "bf162cbd",
   "metadata": {},
   "outputs": [],
   "source": [
    "from sklearn.svm import SVC\n",
    "from sklearn.metrics import classification_report"
   ]
  },
  {
   "cell_type": "markdown",
   "id": "a5fb375f",
   "metadata": {},
   "source": [
    "### Initialize SVM classifier"
   ]
  },
  {
   "cell_type": "code",
   "execution_count": 43,
   "id": "b238345b",
   "metadata": {},
   "outputs": [],
   "source": [
    "svm_clf = SVC(kernel='linear', random_state=42)"
   ]
  },
  {
   "cell_type": "markdown",
   "id": "dde37a02",
   "metadata": {},
   "source": [
    "### Train the classifier"
   ]
  },
  {
   "cell_type": "code",
   "execution_count": 44,
   "id": "489b19ff",
   "metadata": {},
   "outputs": [
    {
     "data": {
      "text/plain": [
       "SVC(kernel='linear', random_state=42)"
      ]
     },
     "execution_count": 44,
     "metadata": {},
     "output_type": "execute_result"
    }
   ],
   "source": [
    "svm_clf.fit(X_train, y_train)"
   ]
  },
  {
   "cell_type": "markdown",
   "id": "2f472656",
   "metadata": {},
   "source": [
    "### Predict on the test set"
   ]
  },
  {
   "cell_type": "code",
   "execution_count": 45,
   "id": "52208b45",
   "metadata": {},
   "outputs": [],
   "source": [
    "y_pred = svm_clf.predict(X_test)"
   ]
  },
  {
   "cell_type": "markdown",
   "id": "287cc241",
   "metadata": {},
   "source": [
    "### accuracy score and confusion matrix"
   ]
  },
  {
   "cell_type": "code",
   "execution_count": 46,
   "id": "c4393ef8",
   "metadata": {},
   "outputs": [
    {
     "name": "stdout",
     "output_type": "stream",
     "text": [
      "Accuracy: 0.8277051300474206\n",
      "Confusion Matrix:\n",
      "[[ 822  868]\n",
      " [ 331 4938]]\n",
      "Classification Report:\n",
      "              precision    recall  f1-score   support\n",
      "\n",
      "           0       0.71      0.49      0.58      1690\n",
      "           1       0.85      0.94      0.89      5269\n",
      "\n",
      "    accuracy                           0.83      6959\n",
      "   macro avg       0.78      0.71      0.74      6959\n",
      "weighted avg       0.82      0.83      0.82      6959\n",
      "\n"
     ]
    }
   ],
   "source": [
    "from sklearn.metrics import confusion_matrix, accuracy_score, classification_report\n",
    "\n",
    "accuracy = accuracy_score(y_test, y_pred)\n",
    "print(\"Accuracy:\", accuracy)\n",
    "\n",
    "cm = confusion_matrix(y_test, y_pred)\n",
    "print(\"Confusion Matrix:\")\n",
    "print(cm)\n",
    "\n",
    "print(\"Classification Report:\")\n",
    "print(classification_report(y_test, y_pred))"
   ]
  },
  {
   "cell_type": "markdown",
   "id": "fea0aab1",
   "metadata": {},
   "source": [
    "## 2. Random Forest Model Building"
   ]
  },
  {
   "cell_type": "code",
   "execution_count": 47,
   "id": "46c0ee1d",
   "metadata": {},
   "outputs": [],
   "source": [
    "from sklearn.ensemble import RandomForestClassifier"
   ]
  },
  {
   "cell_type": "markdown",
   "id": "b1707ad2",
   "metadata": {},
   "source": [
    "### Initialize Random Forest classifier"
   ]
  },
  {
   "cell_type": "code",
   "execution_count": 48,
   "id": "d860940b",
   "metadata": {},
   "outputs": [],
   "source": [
    "rf_clf = RandomForestClassifier(n_estimators=100, random_state=42)"
   ]
  },
  {
   "cell_type": "markdown",
   "id": "d08b3cd0",
   "metadata": {},
   "source": [
    "### Train the classifier"
   ]
  },
  {
   "cell_type": "code",
   "execution_count": 49,
   "id": "5ab30724",
   "metadata": {},
   "outputs": [
    {
     "data": {
      "text/plain": [
       "RandomForestClassifier(random_state=42)"
      ]
     },
     "execution_count": 49,
     "metadata": {},
     "output_type": "execute_result"
    }
   ],
   "source": [
    "rf_clf.fit(X_train, y_train)"
   ]
  },
  {
   "cell_type": "markdown",
   "id": "539288ae",
   "metadata": {},
   "source": [
    "### Predict on the test set"
   ]
  },
  {
   "cell_type": "code",
   "execution_count": 50,
   "id": "914796fd",
   "metadata": {},
   "outputs": [],
   "source": [
    "y_pred_rf = rf_clf.predict(X_test)"
   ]
  },
  {
   "cell_type": "markdown",
   "id": "f3f10e64",
   "metadata": {},
   "source": [
    "### accuracy score and confusion matrix"
   ]
  },
  {
   "cell_type": "code",
   "execution_count": 51,
   "id": "2070fdab",
   "metadata": {},
   "outputs": [
    {
     "name": "stdout",
     "output_type": "stream",
     "text": [
      "Random Forest Accuracy: 0.8173588159218278\n",
      "Random Forest Confusion Matrix:\n",
      "[[ 819  871]\n",
      " [ 400 4869]]\n",
      "Classification Report:\n",
      "              precision    recall  f1-score   support\n",
      "\n",
      "           0       0.67      0.48      0.56      1690\n",
      "           1       0.85      0.92      0.88      5269\n",
      "\n",
      "    accuracy                           0.82      6959\n",
      "   macro avg       0.76      0.70      0.72      6959\n",
      "weighted avg       0.81      0.82      0.81      6959\n",
      "\n"
     ]
    }
   ],
   "source": [
    "### Calculate the accuracy score\n",
    "accuracy_rf = accuracy_score(y_test, y_pred_rf)\n",
    "print(\"Random Forest Accuracy:\", accuracy_rf)\n",
    "\n",
    "# Generate the confusion matrix\n",
    "cm_rf = confusion_matrix(y_test, y_pred_rf)\n",
    "print(\"Random Forest Confusion Matrix:\")\n",
    "print(cm_rf)\n",
    "\n",
    "print(\"Classification Report:\")\n",
    "print(classification_report(y_test, y_pred_rf))"
   ]
  },
  {
   "cell_type": "markdown",
   "id": "6993151f",
   "metadata": {},
   "source": [
    "## 3. Gradient Boosting Model Building"
   ]
  },
  {
   "cell_type": "code",
   "execution_count": 21,
   "id": "3953240f",
   "metadata": {},
   "outputs": [],
   "source": [
    "from sklearn.ensemble import GradientBoostingClassifier"
   ]
  },
  {
   "cell_type": "markdown",
   "id": "c7c4082c",
   "metadata": {},
   "source": [
    "### Initialize Gradient Boosting classifier"
   ]
  },
  {
   "cell_type": "code",
   "execution_count": 26,
   "id": "460e6ae4",
   "metadata": {},
   "outputs": [],
   "source": [
    "gb_clf = GradientBoostingClassifier(random_state=42)"
   ]
  },
  {
   "cell_type": "markdown",
   "id": "e1e059c2",
   "metadata": {},
   "source": [
    "### Train the classifier"
   ]
  },
  {
   "cell_type": "code",
   "execution_count": 28,
   "id": "fe36506d",
   "metadata": {},
   "outputs": [
    {
     "data": {
      "text/plain": [
       "GradientBoostingClassifier(random_state=42)"
      ]
     },
     "execution_count": 28,
     "metadata": {},
     "output_type": "execute_result"
    }
   ],
   "source": [
    "gb_clf.fit(X_train, y_train)"
   ]
  },
  {
   "cell_type": "markdown",
   "id": "dfccabab",
   "metadata": {},
   "source": [
    "### Predict on the test set"
   ]
  },
  {
   "cell_type": "code",
   "execution_count": 30,
   "id": "7ba73454",
   "metadata": {},
   "outputs": [],
   "source": [
    "y_pred_gb = gb_clf.predict(X_test)"
   ]
  },
  {
   "cell_type": "markdown",
   "id": "63a65b67",
   "metadata": {},
   "source": [
    "### accuracy score and confusion matrix"
   ]
  },
  {
   "cell_type": "code",
   "execution_count": 31,
   "id": "7099cb0b",
   "metadata": {},
   "outputs": [
    {
     "name": "stdout",
     "output_type": "stream",
     "text": [
      "Gradient Boosting Accuracy: 0.8037074292283374\n",
      "Gradient Boosting Confusion Matrix:\n",
      "[[ 458 1232]\n",
      " [ 134 5135]]\n",
      "Gradient Boosting Classification Report:\n",
      "              precision    recall  f1-score   support\n",
      "\n",
      "           0       0.77      0.27      0.40      1690\n",
      "           1       0.81      0.97      0.88      5269\n",
      "\n",
      "    accuracy                           0.80      6959\n",
      "   macro avg       0.79      0.62      0.64      6959\n",
      "weighted avg       0.80      0.80      0.77      6959\n",
      "\n"
     ]
    }
   ],
   "source": [
    "accuracy_gb = accuracy_score(y_test, y_pred_gb)\n",
    "print(\"Gradient Boosting Accuracy:\", accuracy_gb)\n",
    "\n",
    "cm_gb = confusion_matrix(y_test, y_pred_gb)\n",
    "print(\"Gradient Boosting Confusion Matrix:\")\n",
    "print(cm_gb)\n",
    "\n",
    "cr_gb = classification_report(y_test, y_pred_gb)\n",
    "print(\"Gradient Boosting Classification Report:\")\n",
    "print(cr_gb)"
   ]
  },
  {
   "cell_type": "code",
   "execution_count": null,
   "id": "ac989574",
   "metadata": {},
   "outputs": [],
   "source": []
  }
 ],
 "metadata": {
  "kernelspec": {
   "display_name": "Python 3 (ipykernel)",
   "language": "python",
   "name": "python3"
  },
  "language_info": {
   "codemirror_mode": {
    "name": "ipython",
    "version": 3
   },
   "file_extension": ".py",
   "mimetype": "text/x-python",
   "name": "python",
   "nbconvert_exporter": "python",
   "pygments_lexer": "ipython3",
   "version": "3.9.12"
  }
 },
 "nbformat": 4,
 "nbformat_minor": 5
}
