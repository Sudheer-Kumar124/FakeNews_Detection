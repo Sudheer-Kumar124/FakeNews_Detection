{
 "cells": [
  {
   "cell_type": "markdown",
   "id": "f2990c9e-0979-40c6-8cbb-3a0280e4303a",
   "metadata": {},
   "source": [
    "# LSTM"
   ]
  },
  {
   "cell_type": "markdown",
   "id": "a668596c-4f84-4574-ad17-c2f064e56fcf",
   "metadata": {},
   "source": [
    "## Import the required libraries"
   ]
  },
  {
   "cell_type": "code",
   "execution_count": 23,
   "id": "fb349653-481b-4f32-9636-b256730e0eb2",
   "metadata": {},
   "outputs": [],
   "source": [
    "import pandas as pd\n",
    "import os\n",
    "from sklearn.model_selection import train_test_split\n",
    "from sklearn.preprocessing import LabelEncoder\n",
    "from tensorflow.keras.preprocessing.text import Tokenizer\n",
    "from tensorflow.keras.preprocessing.sequence import pad_sequences\n",
    "from tensorflow.keras.models import Sequential\n",
    "from tensorflow.keras.models import load_model\n",
    "from tensorflow.keras.layers import Embedding, LSTM, Dense, SpatialDropout1D"
   ]
  },
  {
   "cell_type": "markdown",
   "id": "5c672338-03fa-4316-919e-3fa71476de62",
   "metadata": {},
   "source": [
    "## Construct paths using os.path.join"
   ]
  },
  {
   "cell_type": "code",
   "execution_count": 2,
   "id": "ea157031-2856-472c-8c5d-b1d23de44dc4",
   "metadata": {},
   "outputs": [],
   "source": [
    "true_news_path = os.path.join('..', 'artifacts', 'preprocessed_true.csv')\n",
    "fake_news_path = os.path.join('..', 'artifacts', 'preprocessed_fake.csv')"
   ]
  },
  {
   "cell_type": "markdown",
   "id": "b898d1dd-57cd-423f-a065-0669cec696ae",
   "metadata": {},
   "source": [
    "## Read the CSV files"
   ]
  },
  {
   "cell_type": "code",
   "execution_count": 3,
   "id": "c2599a04-9242-4c71-8059-3c061018a959",
   "metadata": {},
   "outputs": [],
   "source": [
    "true_news = pd.read_csv(true_news_path)\n",
    "fake_news = pd.read_csv(fake_news_path)"
   ]
  },
  {
   "cell_type": "markdown",
   "id": "1c9a0922-8e2d-48ac-b9af-ee2ed062599b",
   "metadata": {},
   "source": [
    "## Add a label column to each dataframe"
   ]
  },
  {
   "cell_type": "code",
   "execution_count": 4,
   "id": "d0263235-62fa-428f-9796-bbc9158cdbe4",
   "metadata": {},
   "outputs": [],
   "source": [
    "true_news['label'] = 1\n",
    "fake_news['label'] = 0"
   ]
  },
  {
   "cell_type": "markdown",
   "id": "9d2188bc-8069-4dac-8a38-910a8e2e0a66",
   "metadata": {},
   "source": [
    "## Combine the datasets"
   ]
  },
  {
   "cell_type": "code",
   "execution_count": 5,
   "id": "6fad93c8-9b39-44c5-9149-11bc06bafbf2",
   "metadata": {},
   "outputs": [],
   "source": [
    "data = pd.concat([true_news, fake_news], ignore_index=True)"
   ]
  },
  {
   "cell_type": "markdown",
   "id": "77ab21e1-168d-4156-8de9-8ce901f08e05",
   "metadata": {},
   "source": [
    "## Shuffle the data"
   ]
  },
  {
   "cell_type": "code",
   "execution_count": 6,
   "id": "2cf2b699-3450-49a2-b551-dd0a52c92eb7",
   "metadata": {},
   "outputs": [],
   "source": [
    "data = data.sample(frac=1).reset_index(drop=True)"
   ]
  },
  {
   "cell_type": "markdown",
   "id": "4d123660-d03a-46bb-8e96-9bc54d351257",
   "metadata": {},
   "source": [
    "## Check for missing values in the 'text' column"
   ]
  },
  {
   "cell_type": "code",
   "execution_count": 7,
   "id": "418708cc-1be3-492f-8de2-3fe66443e889",
   "metadata": {},
   "outputs": [
    {
     "data": {
      "text/plain": [
       "632"
      ]
     },
     "execution_count": 7,
     "metadata": {},
     "output_type": "execute_result"
    }
   ],
   "source": [
    "data['text'].isnull().sum()"
   ]
  },
  {
   "cell_type": "markdown",
   "id": "b6b2ed5b-1fe1-4770-b349-ea2d2abf0f3b",
   "metadata": {},
   "source": [
    "## Fill missing values with an empty string"
   ]
  },
  {
   "cell_type": "code",
   "execution_count": 8,
   "id": "f2a687d4-565d-417f-985c-61ac9aae1fef",
   "metadata": {},
   "outputs": [],
   "source": [
    "data['text'].fillna('', inplace=True)"
   ]
  },
  {
   "cell_type": "markdown",
   "id": "e52f22e8-2a46-4a3f-96e4-ff2996dff0fe",
   "metadata": {},
   "source": [
    "## Prepare text and labels"
   ]
  },
  {
   "cell_type": "code",
   "execution_count": 9,
   "id": "7f509ebb-ed1b-4f66-90c5-5582fce847f2",
   "metadata": {},
   "outputs": [],
   "source": [
    "texts = data['text'].values\n",
    "labels = data['label'].values"
   ]
  },
  {
   "cell_type": "markdown",
   "id": "850be2be-ba3a-4ffd-962d-39b55d7519a2",
   "metadata": {},
   "source": [
    "## Tokenize the text"
   ]
  },
  {
   "cell_type": "code",
   "execution_count": 10,
   "id": "8e6bf53a-789f-4327-aa5f-590175c5d78b",
   "metadata": {},
   "outputs": [],
   "source": [
    "tokenizer = Tokenizer(num_words=5000)\n",
    "tokenizer.fit_on_texts(texts)\n",
    "sequences = tokenizer.texts_to_sequences(texts)\n",
    "word_index = tokenizer.word_index"
   ]
  },
  {
   "cell_type": "markdown",
   "id": "8f093769-d8b3-40e3-8280-b174cfcc218a",
   "metadata": {},
   "source": [
    "## Pad sequences to ensure uniform input size"
   ]
  },
  {
   "cell_type": "code",
   "execution_count": 11,
   "id": "980eec7f-1b13-430a-8eda-b0333d145ddb",
   "metadata": {},
   "outputs": [],
   "source": [
    "data_padded = pad_sequences(sequences, maxlen=500)"
   ]
  },
  {
   "cell_type": "markdown",
   "id": "00a229df-c686-46ef-9574-0a5eb9f3c42d",
   "metadata": {},
   "source": [
    "## Encode the labels"
   ]
  },
  {
   "cell_type": "code",
   "execution_count": 12,
   "id": "6e9f5bf3-a073-4deb-895e-463a3ce5b348",
   "metadata": {},
   "outputs": [],
   "source": [
    "encoder = LabelEncoder()\n",
    "labels_encoded = encoder.fit_transform(labels)"
   ]
  },
  {
   "cell_type": "markdown",
   "id": "56fc95d1-26a3-412c-aadc-3edc0f9cc1b6",
   "metadata": {},
   "source": [
    "## Split the data into training (70%) and remaining (30%)"
   ]
  },
  {
   "cell_type": "code",
   "execution_count": 13,
   "id": "52c2618c-ef47-4bab-b0ce-14f907fb4a6b",
   "metadata": {},
   "outputs": [],
   "source": [
    "x_train, x_rem, y_train, y_rem = train_test_split(data_padded, labels_encoded, train_size=0.7, random_state=42)"
   ]
  },
  {
   "cell_type": "markdown",
   "id": "e1924b2f-a06b-4b94-bdd8-41f169b0de70",
   "metadata": {},
   "source": [
    "## Split the remaining data into testing (20%) and validation (10%)"
   ]
  },
  {
   "cell_type": "code",
   "execution_count": 14,
   "id": "898654f9-2f37-4d50-b182-960e08675349",
   "metadata": {},
   "outputs": [],
   "source": [
    "x_test, x_val, y_test, y_val = train_test_split(x_rem, y_rem, test_size=0.33, random_state=42)"
   ]
  },
  {
   "cell_type": "markdown",
   "id": "f275b9b0-b288-497e-94ec-74e239bdb2cd",
   "metadata": {},
   "source": [
    "## Define the model"
   ]
  },
  {
   "cell_type": "code",
   "execution_count": 15,
   "id": "fb02a939-f98f-44b5-8438-7338b64e7d2f",
   "metadata": {},
   "outputs": [],
   "source": [
    "model = Sequential([\n",
    "    Embedding(input_dim=len(word_index) + 1, output_dim=128, input_length=500),\n",
    "    SpatialDropout1D(0.2),\n",
    "    LSTM(100, dropout=0.2, recurrent_dropout=0.2),\n",
    "    Dense(1, activation='sigmoid')\n",
    "])"
   ]
  },
  {
   "cell_type": "markdown",
   "id": "c80f7938-0034-4520-bbc8-bd195ed5777e",
   "metadata": {},
   "source": [
    "## Compile the model"
   ]
  },
  {
   "cell_type": "code",
   "execution_count": 16,
   "id": "1cc4416e-0ddf-4065-b7b9-b404c6716655",
   "metadata": {},
   "outputs": [],
   "source": [
    "model.compile(loss='binary_crossentropy', optimizer='adam', metrics=['accuracy'])"
   ]
  },
  {
   "cell_type": "markdown",
   "id": "3925d205-3628-4328-974a-1330b9d7cffd",
   "metadata": {},
   "source": [
    "## Print the model summary"
   ]
  },
  {
   "cell_type": "code",
   "execution_count": 17,
   "id": "2782f9f2-ffc4-4a30-9d38-7f6c5347e8c6",
   "metadata": {},
   "outputs": [
    {
     "name": "stdout",
     "output_type": "stream",
     "text": [
      "Model: \"sequential\"\n",
      "_________________________________________________________________\n",
      " Layer (type)                Output Shape              Param #   \n",
      "=================================================================\n",
      " embedding (Embedding)       (None, 500, 128)          25906304  \n",
      "                                                                 \n",
      " spatial_dropout1d (Spatial  (None, 500, 128)          0         \n",
      " Dropout1D)                                                      \n",
      "                                                                 \n",
      " lstm (LSTM)                 (None, 100)               91600     \n",
      "                                                                 \n",
      " dense (Dense)               (None, 1)                 101       \n",
      "                                                                 \n",
      "=================================================================\n",
      "Total params: 25998005 (99.17 MB)\n",
      "Trainable params: 25998005 (99.17 MB)\n",
      "Non-trainable params: 0 (0.00 Byte)\n",
      "_________________________________________________________________\n"
     ]
    }
   ],
   "source": [
    "model.summary()"
   ]
  },
  {
   "cell_type": "markdown",
   "id": "e1fd419c-21d9-4d78-91ff-9f9af5e184f2",
   "metadata": {},
   "source": [
    "## Train the model"
   ]
  },
  {
   "cell_type": "code",
   "execution_count": 18,
   "id": "7c009ac3-1c0e-4583-839d-47113df95e37",
   "metadata": {},
   "outputs": [
    {
     "name": "stdout",
     "output_type": "stream",
     "text": [
      "Epoch 1/5\n",
      "492/492 [==============================] - 2353s 5s/step - loss: 0.0999 - accuracy: 0.9640 - val_loss: 0.0640 - val_accuracy: 0.9827\n",
      "Epoch 2/5\n",
      "492/492 [==============================] - 2340s 5s/step - loss: 0.0196 - accuracy: 0.9953 - val_loss: 0.0099 - val_accuracy: 0.9980\n",
      "Epoch 3/5\n",
      "492/492 [==============================] - 2986s 6s/step - loss: 0.1749 - accuracy: 0.9398 - val_loss: 0.0792 - val_accuracy: 0.9714\n",
      "Epoch 4/5\n",
      "492/492 [==============================] - 2484s 5s/step - loss: 0.0607 - accuracy: 0.9782 - val_loss: 0.0963 - val_accuracy: 0.9640\n",
      "Epoch 5/5\n",
      "492/492 [==============================] - 2326s 5s/step - loss: 0.0315 - accuracy: 0.9910 - val_loss: 0.0601 - val_accuracy: 0.9849\n"
     ]
    }
   ],
   "source": [
    "history = model.fit(x_train, y_train, epochs=5, batch_size=64, validation_data=(x_val, y_val), verbose=1)"
   ]
  },
  {
   "cell_type": "markdown",
   "id": "7cf59a9c-dc8b-4ac3-834b-6cc342f498aa",
   "metadata": {},
   "source": [
    "## Evaluate the model"
   ]
  },
  {
   "cell_type": "code",
   "execution_count": 19,
   "id": "11eb525f-172d-4594-8ffa-54bf012c4894",
   "metadata": {},
   "outputs": [
    {
     "name": "stdout",
     "output_type": "stream",
     "text": [
      "282/282 [==============================] - 18s 64ms/step - loss: 0.0566 - accuracy: 0.9846\n",
      "Test Accuracy: 0.9846\n"
     ]
    }
   ],
   "source": [
    "loss, accuracy = model.evaluate(x_test, y_test, verbose=1)\n",
    "print(f'Test Accuracy: {accuracy:.4f}')"
   ]
  },
  {
   "cell_type": "markdown",
   "id": "f6a59252-d2eb-4600-baf3-59a8000c2e79",
   "metadata": {},
   "source": [
    "## Save the model"
   ]
  },
  {
   "cell_type": "code",
   "execution_count": 24,
   "id": "99f3c832-2e4a-48a0-bb52-bb49866cee6d",
   "metadata": {},
   "outputs": [],
   "source": [
    "model.save('news_classification_model.keras')"
   ]
  },
  {
   "cell_type": "markdown",
   "id": "dd25af3b-9955-4a74-ab91-0d532e0aed0f",
   "metadata": {},
   "source": [
    "## Load the model"
   ]
  },
  {
   "cell_type": "code",
   "execution_count": 25,
   "id": "0fb57686-5091-41a4-8df9-c4f56d343650",
   "metadata": {},
   "outputs": [],
   "source": [
    "from tensorflow.keras.models import load_model\n",
    "model = load_model('news_classification_model.h5')"
   ]
  },
  {
   "cell_type": "markdown",
   "id": "55bc769a-2fa9-45f8-b275-25dd16f49aec",
   "metadata": {},
   "source": [
    "## Sample prediction"
   ]
  },
  {
   "cell_type": "code",
   "execution_count": 26,
   "id": "f845df68-5f04-420a-ab4e-3a292880b9d7",
   "metadata": {},
   "outputs": [
    {
     "name": "stdout",
     "output_type": "stream",
     "text": [
      "1/1 [==============================] - 0s 403ms/step\n",
      "Fake News\n"
     ]
    }
   ],
   "source": [
    "sample_text = [\"Donald Trump just couldn t wish all Americans a Happy New Year and leave it at that.\"]\n",
    "sample_sequence = tokenizer.texts_to_sequences(sample_text)\n",
    "sample_padded = pad_sequences(sample_sequence, maxlen=500)\n",
    "prediction = model.predict(sample_padded)\n",
    "print('Fake News' if prediction < 0.5 else 'True News')"
   ]
  }
 ],
 "metadata": {
  "kernelspec": {
   "display_name": "Python 3 (ipykernel)",
   "language": "python",
   "name": "python3"
  },
  "language_info": {
   "codemirror_mode": {
    "name": "ipython",
    "version": 3
   },
   "file_extension": ".py",
   "mimetype": "text/x-python",
   "name": "python",
   "nbconvert_exporter": "python",
   "pygments_lexer": "ipython3",
   "version": "3.11.7"
  }
 },
 "nbformat": 4,
 "nbformat_minor": 5
}
