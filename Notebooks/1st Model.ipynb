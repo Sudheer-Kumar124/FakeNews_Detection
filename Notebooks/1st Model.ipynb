{
 "cells": [
  {
   "cell_type": "markdown",
   "id": "8fdd4766-1886-4476-898a-4c9bcbcb4da5",
   "metadata": {},
   "source": [
    "# Random Forest Classifier"
   ]
  },
  {
   "cell_type": "markdown",
   "id": "eadceaee-c776-441e-a28a-d3b0ba6ced0f",
   "metadata": {},
   "source": [
    "## Import the required libraries"
   ]
  },
  {
   "cell_type": "code",
   "execution_count": 1,
   "id": "e42f12d6-c532-48b2-aa90-54bde6421ea4",
   "metadata": {},
   "outputs": [],
   "source": [
    "import pandas as pd\n",
    "import numpy as np\n",
    "from sklearn.metrics import mean_squared_error, mean_absolute_error, r2_score\n",
    "from sklearn.model_selection import train_test_split\n",
    "from sklearn.feature_extraction.text import TfidfVectorizer\n",
    "from sklearn.ensemble import RandomForestClassifier\n",
    "from sklearn.metrics import classification_report, confusion_matrix\n",
    "from sklearn.preprocessing import LabelEncoder\n",
    "import nltk\n",
    "import os"
   ]
  },
  {
   "cell_type": "markdown",
   "id": "238e40d0-ff88-4d3c-9d78-a1a370f642fd",
   "metadata": {},
   "source": [
    "## Construct paths using os.path.join"
   ]
  },
  {
   "cell_type": "code",
   "execution_count": 2,
   "id": "d147f49f-c311-404a-badc-e5a96e4c8676",
   "metadata": {},
   "outputs": [],
   "source": [
    "true_news_path = os.path.join('..', 'artifacts', 'preprocessed_true.csv')\n",
    "fake_news_path = os.path.join('..', 'artifacts', 'preprocessed_fake.csv')"
   ]
  },
  {
   "cell_type": "markdown",
   "id": "bc76ad8a-d237-4ab9-9ba6-a6907a933854",
   "metadata": {},
   "source": [
    "## Read the CSV files"
   ]
  },
  {
   "cell_type": "code",
   "execution_count": 3,
   "id": "0d92c370-9cc8-432a-9499-ac12a75068cc",
   "metadata": {},
   "outputs": [],
   "source": [
    "true_news = pd.read_csv(true_news_path)\n",
    "fake_news = pd.read_csv(fake_news_path)"
   ]
  },
  {
   "cell_type": "markdown",
   "id": "5b5dcc44-91ea-4282-a8e6-af6ed48bc7d8",
   "metadata": {},
   "source": [
    "## Add a label column to each dataframe"
   ]
  },
  {
   "cell_type": "code",
   "execution_count": 4,
   "id": "4db859a1-b680-41e8-8c64-9994cb31b73a",
   "metadata": {},
   "outputs": [],
   "source": [
    "true_news['label'] = 'true'\n",
    "fake_news['label'] = 'fake'"
   ]
  },
  {
   "cell_type": "markdown",
   "id": "47ee46c1-d4a0-4dd8-b384-4b881384a7dc",
   "metadata": {},
   "source": [
    "## Combine the datasets"
   ]
  },
  {
   "cell_type": "code",
   "execution_count": 5,
   "id": "32761249-390a-48ac-9856-0ee768a1d53c",
   "metadata": {},
   "outputs": [],
   "source": [
    "data = pd.concat([true_news, fake_news])"
   ]
  },
  {
   "cell_type": "markdown",
   "id": "5599673d-22a0-4d3b-a1b0-3b0813a7fc7d",
   "metadata": {},
   "source": [
    "## Display first few rows"
   ]
  },
  {
   "cell_type": "code",
   "execution_count": 6,
   "id": "b8c6420c-92db-426f-bf1c-b3a4b9ea426d",
   "metadata": {},
   "outputs": [
    {
     "name": "stdout",
     "output_type": "stream",
     "text": [
      "                                               title  \\\n",
      "0  Obama paints Trump as no friend of the working...   \n",
      "1  Justice Department seeks warrant to seize anci...   \n",
      "2  Democratic nomination will likely be won in Ma...   \n",
      "3  Kurds say reject Iraqi warning to withdraw fro...   \n",
      "4  Peru's central bank chief says Trump gives him...   \n",
      "\n",
      "                                                text       subject  \\\n",
      "0  philadelphia reuters hillary clinton sidelined...  politicsNews   \n",
      "1  washington reuters u justice department said w...  politicsNews   \n",
      "2  new york reuters hillary clinton ’ campaign ma...  politicsNews   \n",
      "3  baghdad reuters kurdish peshmerga fighter reje...     worldnews   \n",
      "4  lima reuters head peru ’ central bank said wed...  politicsNews   \n",
      "\n",
      "                  date label  \n",
      "0  September 13, 2016   true  \n",
      "1    December 6, 2017   true  \n",
      "2   February 10, 2016   true  \n",
      "3    October 14, 2017   true  \n",
      "4   September 8, 2016   true  \n"
     ]
    }
   ],
   "source": [
    "print(data.head())"
   ]
  },
  {
   "cell_type": "markdown",
   "id": "65a6653d-fe35-4e0a-8d10-24b18dded3de",
   "metadata": {},
   "source": [
    "## Check for missing values"
   ]
  },
  {
   "cell_type": "code",
   "execution_count": 7,
   "id": "66559996-1afb-4e77-8500-0882ffaaa387",
   "metadata": {},
   "outputs": [
    {
     "name": "stdout",
     "output_type": "stream",
     "text": [
      "title        0\n",
      "text       632\n",
      "subject      0\n",
      "date         0\n",
      "label        0\n",
      "dtype: int64\n"
     ]
    }
   ],
   "source": [
    "print(data.isnull().sum())"
   ]
  },
  {
   "cell_type": "markdown",
   "id": "1dc35893-ccb4-43aa-a9bd-98498dbbb452",
   "metadata": {},
   "source": [
    "## Drop rows with missing 'text' or 'title' values"
   ]
  },
  {
   "cell_type": "code",
   "execution_count": 8,
   "id": "ea01e167-dabb-41eb-ad33-21f6c5f25ddc",
   "metadata": {},
   "outputs": [],
   "source": [
    "data = data.dropna(subset=['text', 'title'])"
   ]
  },
  {
   "cell_type": "markdown",
   "id": "543245e8-3e7f-4a84-bb37-ca27482c5260",
   "metadata": {},
   "source": [
    "## Combine 'title' and 'text' for vectorization"
   ]
  },
  {
   "cell_type": "code",
   "execution_count": 9,
   "id": "466022f0-edf6-40b3-b8a2-18aaa6d9d874",
   "metadata": {},
   "outputs": [],
   "source": [
    "data['combined_text'] = data['title'] + ' ' + data['text']"
   ]
  },
  {
   "cell_type": "markdown",
   "id": "0c6a849b-905c-438c-9f8d-3316b3f85b13",
   "metadata": {},
   "source": [
    "## Encode labels"
   ]
  },
  {
   "cell_type": "code",
   "execution_count": 10,
   "id": "6a2c64e2-0c7a-43a4-af1f-cd47d2831a3f",
   "metadata": {},
   "outputs": [],
   "source": [
    "label_encoder = LabelEncoder()\n",
    "data['label'] = label_encoder.fit_transform(data['label'])"
   ]
  },
  {
   "cell_type": "markdown",
   "id": "babba452-1bf1-4839-ac86-24092815f2ba",
   "metadata": {},
   "source": [
    "## Split the data"
   ]
  },
  {
   "cell_type": "code",
   "execution_count": 11,
   "id": "df952757-4149-485e-b4c7-140103c18e0a",
   "metadata": {},
   "outputs": [],
   "source": [
    "train_data, temp_data = train_test_split(data, test_size=0.3, random_state=42)\n",
    "test_data, val_data = train_test_split(temp_data, test_size=0.33, random_state=42)"
   ]
  },
  {
   "cell_type": "markdown",
   "id": "01baf838-b1bc-4658-a91e-7792bf8010d9",
   "metadata": {},
   "source": [
    "## Display the size of each split"
   ]
  },
  {
   "cell_type": "code",
   "execution_count": 12,
   "id": "f6ce193d-00f3-4026-8af6-ffee1b28d113",
   "metadata": {},
   "outputs": [
    {
     "name": "stdout",
     "output_type": "stream",
     "text": [
      "Train data size: (30986, 6)\n",
      "Test data size: (8897, 6)\n",
      "Validation data size: (4383, 6)\n"
     ]
    }
   ],
   "source": [
    "print(f'Train data size: {train_data.shape}')\n",
    "print(f'Test data size: {test_data.shape}')\n",
    "print(f'Validation data size: {val_data.shape}')"
   ]
  },
  {
   "cell_type": "markdown",
   "id": "c4684a59-86d1-4182-b97c-9321f904a7ae",
   "metadata": {},
   "source": [
    "## Vectorize the text data"
   ]
  },
  {
   "cell_type": "code",
   "execution_count": 13,
   "id": "f839a499-bc54-4d40-bbe0-b38d14458f8c",
   "metadata": {},
   "outputs": [],
   "source": [
    "vectorizer = TfidfVectorizer(max_features=5000, stop_words='english')\n",
    "X_train = vectorizer.fit_transform(train_data['combined_text'])\n",
    "X_test = vectorizer.transform(test_data['combined_text'])\n",
    "X_val = vectorizer.transform(val_data['combined_text'])\n",
    "\n",
    "y_train = train_data['label']\n",
    "y_test = test_data['label']\n",
    "y_val = val_data['label']"
   ]
  },
  {
   "cell_type": "markdown",
   "id": "d94705d5-09b1-44d6-adb2-cc96cb62edb8",
   "metadata": {},
   "source": [
    "## Create the Random Forest model with custom parameters"
   ]
  },
  {
   "cell_type": "code",
   "execution_count": 14,
   "id": "70d2d2e1-1c31-4d1f-8406-e27599960c69",
   "metadata": {},
   "outputs": [],
   "source": [
    "model = RandomForestClassifier(n_estimators=100, max_depth=None, random_state=42)"
   ]
  },
  {
   "cell_type": "markdown",
   "id": "ae2c6a3d-6e7c-4ef7-a7d7-ad13866a028e",
   "metadata": {},
   "source": [
    "## Fit the model to the training data"
   ]
  },
  {
   "cell_type": "code",
   "execution_count": 15,
   "id": "59c9004b-06bd-4d13-be6d-03c9ff0bb2ee",
   "metadata": {},
   "outputs": [
    {
     "data": {
      "text/html": [
       "<style>#sk-container-id-1 {color: black;background-color: white;}#sk-container-id-1 pre{padding: 0;}#sk-container-id-1 div.sk-toggleable {background-color: white;}#sk-container-id-1 label.sk-toggleable__label {cursor: pointer;display: block;width: 100%;margin-bottom: 0;padding: 0.3em;box-sizing: border-box;text-align: center;}#sk-container-id-1 label.sk-toggleable__label-arrow:before {content: \"▸\";float: left;margin-right: 0.25em;color: #696969;}#sk-container-id-1 label.sk-toggleable__label-arrow:hover:before {color: black;}#sk-container-id-1 div.sk-estimator:hover label.sk-toggleable__label-arrow:before {color: black;}#sk-container-id-1 div.sk-toggleable__content {max-height: 0;max-width: 0;overflow: hidden;text-align: left;background-color: #f0f8ff;}#sk-container-id-1 div.sk-toggleable__content pre {margin: 0.2em;color: black;border-radius: 0.25em;background-color: #f0f8ff;}#sk-container-id-1 input.sk-toggleable__control:checked~div.sk-toggleable__content {max-height: 200px;max-width: 100%;overflow: auto;}#sk-container-id-1 input.sk-toggleable__control:checked~label.sk-toggleable__label-arrow:before {content: \"▾\";}#sk-container-id-1 div.sk-estimator input.sk-toggleable__control:checked~label.sk-toggleable__label {background-color: #d4ebff;}#sk-container-id-1 div.sk-label input.sk-toggleable__control:checked~label.sk-toggleable__label {background-color: #d4ebff;}#sk-container-id-1 input.sk-hidden--visually {border: 0;clip: rect(1px 1px 1px 1px);clip: rect(1px, 1px, 1px, 1px);height: 1px;margin: -1px;overflow: hidden;padding: 0;position: absolute;width: 1px;}#sk-container-id-1 div.sk-estimator {font-family: monospace;background-color: #f0f8ff;border: 1px dotted black;border-radius: 0.25em;box-sizing: border-box;margin-bottom: 0.5em;}#sk-container-id-1 div.sk-estimator:hover {background-color: #d4ebff;}#sk-container-id-1 div.sk-parallel-item::after {content: \"\";width: 100%;border-bottom: 1px solid gray;flex-grow: 1;}#sk-container-id-1 div.sk-label:hover label.sk-toggleable__label {background-color: #d4ebff;}#sk-container-id-1 div.sk-serial::before {content: \"\";position: absolute;border-left: 1px solid gray;box-sizing: border-box;top: 0;bottom: 0;left: 50%;z-index: 0;}#sk-container-id-1 div.sk-serial {display: flex;flex-direction: column;align-items: center;background-color: white;padding-right: 0.2em;padding-left: 0.2em;position: relative;}#sk-container-id-1 div.sk-item {position: relative;z-index: 1;}#sk-container-id-1 div.sk-parallel {display: flex;align-items: stretch;justify-content: center;background-color: white;position: relative;}#sk-container-id-1 div.sk-item::before, #sk-container-id-1 div.sk-parallel-item::before {content: \"\";position: absolute;border-left: 1px solid gray;box-sizing: border-box;top: 0;bottom: 0;left: 50%;z-index: -1;}#sk-container-id-1 div.sk-parallel-item {display: flex;flex-direction: column;z-index: 1;position: relative;background-color: white;}#sk-container-id-1 div.sk-parallel-item:first-child::after {align-self: flex-end;width: 50%;}#sk-container-id-1 div.sk-parallel-item:last-child::after {align-self: flex-start;width: 50%;}#sk-container-id-1 div.sk-parallel-item:only-child::after {width: 0;}#sk-container-id-1 div.sk-dashed-wrapped {border: 1px dashed gray;margin: 0 0.4em 0.5em 0.4em;box-sizing: border-box;padding-bottom: 0.4em;background-color: white;}#sk-container-id-1 div.sk-label label {font-family: monospace;font-weight: bold;display: inline-block;line-height: 1.2em;}#sk-container-id-1 div.sk-label-container {text-align: center;}#sk-container-id-1 div.sk-container {/* jupyter's `normalize.less` sets `[hidden] { display: none; }` but bootstrap.min.css set `[hidden] { display: none !important; }` so we also need the `!important` here to be able to override the default hidden behavior on the sphinx rendered scikit-learn.org. See: https://github.com/scikit-learn/scikit-learn/issues/21755 */display: inline-block !important;position: relative;}#sk-container-id-1 div.sk-text-repr-fallback {display: none;}</style><div id=\"sk-container-id-1\" class=\"sk-top-container\"><div class=\"sk-text-repr-fallback\"><pre>RandomForestClassifier(random_state=42)</pre><b>In a Jupyter environment, please rerun this cell to show the HTML representation or trust the notebook. <br />On GitHub, the HTML representation is unable to render, please try loading this page with nbviewer.org.</b></div><div class=\"sk-container\" hidden><div class=\"sk-item\"><div class=\"sk-estimator sk-toggleable\"><input class=\"sk-toggleable__control sk-hidden--visually\" id=\"sk-estimator-id-1\" type=\"checkbox\" checked><label for=\"sk-estimator-id-1\" class=\"sk-toggleable__label sk-toggleable__label-arrow\">RandomForestClassifier</label><div class=\"sk-toggleable__content\"><pre>RandomForestClassifier(random_state=42)</pre></div></div></div></div></div>"
      ],
      "text/plain": [
       "RandomForestClassifier(random_state=42)"
      ]
     },
     "execution_count": 15,
     "metadata": {},
     "output_type": "execute_result"
    }
   ],
   "source": [
    "model.fit(X_train, y_train)"
   ]
  },
  {
   "cell_type": "markdown",
   "id": "784cbf4a-145a-4731-91ba-0b8aa0409679",
   "metadata": {},
   "source": [
    "## Make predictions"
   ]
  },
  {
   "cell_type": "code",
   "execution_count": 16,
   "id": "c10c90e8-a795-404b-9b8f-1be90be8780a",
   "metadata": {},
   "outputs": [],
   "source": [
    "y_pred_train = model.predict(X_train)\n",
    "y_pred_test = model.predict(X_test)\n",
    "y_pred_val = model.predict(X_val)"
   ]
  },
  {
   "cell_type": "markdown",
   "id": "b05c65db-c05d-4fe2-8051-a2ddb841eeed",
   "metadata": {},
   "source": [
    "## Evaluate the model"
   ]
  },
  {
   "cell_type": "code",
   "execution_count": 17,
   "id": "3334fcf6-13f8-4c12-b804-e9e4a309c282",
   "metadata": {},
   "outputs": [
    {
     "name": "stdout",
     "output_type": "stream",
     "text": [
      "Training Data Evaluation\n",
      "              precision    recall  f1-score   support\n",
      "\n",
      "           0       1.00      1.00      1.00     16001\n",
      "           1       1.00      1.00      1.00     14985\n",
      "\n",
      "    accuracy                           1.00     30986\n",
      "   macro avg       1.00      1.00      1.00     30986\n",
      "weighted avg       1.00      1.00      1.00     30986\n",
      "\n",
      "[[16001     0]\n",
      " [    0 14985]]\n",
      "Test Data Evaluation\n",
      "              precision    recall  f1-score   support\n",
      "\n",
      "           0       1.00      1.00      1.00      4593\n",
      "           1       1.00      1.00      1.00      4304\n",
      "\n",
      "    accuracy                           1.00      8897\n",
      "   macro avg       1.00      1.00      1.00      8897\n",
      "weighted avg       1.00      1.00      1.00      8897\n",
      "\n",
      "[[4580   13]\n",
      " [   9 4295]]\n",
      "Validation Data Evaluation\n",
      "              precision    recall  f1-score   support\n",
      "\n",
      "           0       1.00      1.00      1.00      2256\n",
      "           1       1.00      1.00      1.00      2127\n",
      "\n",
      "    accuracy                           1.00      4383\n",
      "   macro avg       1.00      1.00      1.00      4383\n",
      "weighted avg       1.00      1.00      1.00      4383\n",
      "\n",
      "[[2249    7]\n",
      " [   3 2124]]\n"
     ]
    }
   ],
   "source": [
    "print(\"Training Data Evaluation\")\n",
    "print(classification_report(y_train, y_pred_train))\n",
    "print(confusion_matrix(y_train, y_pred_train))\n",
    "\n",
    "print(\"Test Data Evaluation\")\n",
    "print(classification_report(y_test, y_pred_test))\n",
    "print(confusion_matrix(y_test, y_pred_test))\n",
    "\n",
    "print(\"Validation Data Evaluation\")\n",
    "print(classification_report(y_val, y_pred_val))\n",
    "print(confusion_matrix(y_val, y_pred_val))"
   ]
  },
  {
   "cell_type": "markdown",
   "id": "261b61fd-1b03-4d88-95e4-9764ea9c5192",
   "metadata": {},
   "source": [
    "## Assuming you have predicted values y_pred and actual values y_true"
   ]
  },
  {
   "cell_type": "code",
   "execution_count": 18,
   "id": "a0677efb-80f3-4643-b52b-eaa6a4b4d1ad",
   "metadata": {},
   "outputs": [],
   "source": [
    "y_pred = model.predict(X_test)\n",
    "y_true = y_test  # Assuming y_test is the true labels"
   ]
  },
  {
   "cell_type": "markdown",
   "id": "8113fa5b-9715-4a38-8ef7-f02b7d9bf4a3",
   "metadata": {},
   "source": [
    "## Function to calculate metrics"
   ]
  },
  {
   "cell_type": "code",
   "execution_count": 19,
   "id": "748c1448-ceb4-48e0-aeb7-c0e1df30a924",
   "metadata": {},
   "outputs": [],
   "source": [
    "def model_evaluation(y_true, y_pred):\n",
    "    mae = mean_absolute_error(y_true, y_pred)\n",
    "    rmse = np.sqrt(mean_squared_error(y_true, y_pred))\n",
    "    r2 = r2_score(y_true, y_pred)\n",
    "    return mae, rmse, r2"
   ]
  },
  {
   "cell_type": "markdown",
   "id": "1c77f5cc-4c74-449e-a1b2-480ba40fa474",
   "metadata": {},
   "source": [
    "## Calculate metrics"
   ]
  },
  {
   "cell_type": "code",
   "execution_count": 20,
   "id": "e99e4248-98e8-41c9-a145-5e389a7e333e",
   "metadata": {},
   "outputs": [],
   "source": [
    "mae, rmse, r2_square = model_evaluation(y_true, y_pred)"
   ]
  },
  {
   "cell_type": "markdown",
   "id": "482c2b03-3faa-4528-91c8-7a4a21e98327",
   "metadata": {},
   "source": [
    "## Print the results in the desired format"
   ]
  },
  {
   "cell_type": "code",
   "execution_count": 21,
   "id": "7698c875-fb98-4598-abdc-bddbc036d817",
   "metadata": {},
   "outputs": [
    {
     "name": "stdout",
     "output_type": "stream",
     "text": [
      "Model Training Performance\n",
      "RMSE: 0.04972668922666611\n",
      "MAE: 0.002472743621445431\n",
      "R2 score: 99.00985781660633\n",
      "***********************************\n",
      "\n",
      "\n"
     ]
    }
   ],
   "source": [
    "print(\"Model Training Performance\")\n",
    "print(\"RMSE:\", rmse)\n",
    "print(\"MAE:\", mae)\n",
    "print(\"R2 score:\", r2_square * 100)\n",
    "\n",
    "print('*' * 35)\n",
    "print('\\n')"
   ]
  }
 ],
 "metadata": {
  "kernelspec": {
   "display_name": "Python 3 (ipykernel)",
   "language": "python",
   "name": "python3"
  },
  "language_info": {
   "codemirror_mode": {
    "name": "ipython",
    "version": 3
   },
   "file_extension": ".py",
   "mimetype": "text/x-python",
   "name": "python",
   "nbconvert_exporter": "python",
   "pygments_lexer": "ipython3",
   "version": "3.11.7"
  }
 },
 "nbformat": 4,
 "nbformat_minor": 5
}
