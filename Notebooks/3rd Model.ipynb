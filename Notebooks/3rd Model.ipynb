{
 "cells": [
  {
   "cell_type": "markdown",
   "id": "41f4aac0-811f-467a-adf0-70764c63292e",
   "metadata": {},
   "source": [
    "# Gradient Boosting Classifier"
   ]
  },
  {
   "cell_type": "markdown",
   "id": "edf85066-a9b5-4bb3-80c3-620825255588",
   "metadata": {},
   "source": [
    "## Import the required libraries"
   ]
  },
  {
   "cell_type": "code",
   "execution_count": 1,
   "id": "4d386a51-696c-495e-a2b4-c4368982e98c",
   "metadata": {},
   "outputs": [],
   "source": [
    "import pandas as pd\n",
    "import numpy as np\n",
    "from sklearn.metrics import mean_squared_error, mean_absolute_error, r2_score\n",
    "from sklearn.model_selection import train_test_split\n",
    "from sklearn.feature_extraction.text import TfidfVectorizer\n",
    "from sklearn.ensemble import GradientBoostingClassifier\n",
    "from sklearn.metrics import classification_report, confusion_matrix\n",
    "from sklearn.preprocessing import LabelEncoder\n",
    "import nltk\n",
    "import os"
   ]
  },
  {
   "cell_type": "markdown",
   "id": "9c1e2368-ecb1-4f46-9a07-43ba84bfe14c",
   "metadata": {},
   "source": [
    "## Construct paths using os.path.join"
   ]
  },
  {
   "cell_type": "code",
   "execution_count": 2,
   "id": "97147297-908b-4a37-95b2-127e6373fa65",
   "metadata": {},
   "outputs": [],
   "source": [
    "true_news_path = os.path.join('..', 'artifacts', 'preprocessed_true.csv')\n",
    "fake_news_path = os.path.join('..', 'artifacts', 'preprocessed_fake.csv')"
   ]
  },
  {
   "cell_type": "markdown",
   "id": "5633bee0-3bee-4a4e-8657-60ab6fcb49ff",
   "metadata": {},
   "source": [
    "## Read the CSV files"
   ]
  },
  {
   "cell_type": "code",
   "execution_count": 3,
   "id": "717b2b1f-63e6-4e2f-a91a-85e7002023e6",
   "metadata": {},
   "outputs": [],
   "source": [
    "true_news = pd.read_csv(true_news_path)\n",
    "fake_news = pd.read_csv(fake_news_path)"
   ]
  },
  {
   "cell_type": "markdown",
   "id": "941075e0-b9a5-4a2b-a13f-893047316a57",
   "metadata": {},
   "source": [
    "## Add a label column to each dataframe"
   ]
  },
  {
   "cell_type": "code",
   "execution_count": 4,
   "id": "79f7e650-a34b-48dc-b59a-37a1b96dbf35",
   "metadata": {},
   "outputs": [],
   "source": [
    "true_news['label'] = 'true'\n",
    "fake_news['label'] = 'fake'"
   ]
  },
  {
   "cell_type": "markdown",
   "id": "d2e57c59-cef8-4238-bac5-59cc1ae5f8bf",
   "metadata": {},
   "source": [
    "## Combine the datasets"
   ]
  },
  {
   "cell_type": "code",
   "execution_count": 5,
   "id": "c2a99ae2-8ba8-455a-9ecf-4c331db85346",
   "metadata": {},
   "outputs": [],
   "source": [
    "data = pd.concat([true_news, fake_news])"
   ]
  },
  {
   "cell_type": "markdown",
   "id": "400ccf54-45f2-4552-9407-3e8ad281ca5c",
   "metadata": {},
   "source": [
    "## Display first few rows"
   ]
  },
  {
   "cell_type": "code",
   "execution_count": 6,
   "id": "753eac32-1f56-4bab-a5f8-9c82baba85b6",
   "metadata": {},
   "outputs": [
    {
     "name": "stdout",
     "output_type": "stream",
     "text": [
      "                                               title  \\\n",
      "0  Obama paints Trump as no friend of the working...   \n",
      "1  Justice Department seeks warrant to seize anci...   \n",
      "2  Democratic nomination will likely be won in Ma...   \n",
      "3  Kurds say reject Iraqi warning to withdraw fro...   \n",
      "4  Peru's central bank chief says Trump gives him...   \n",
      "\n",
      "                                                text       subject  \\\n",
      "0  philadelphia reuters hillary clinton sidelined...  politicsNews   \n",
      "1  washington reuters u justice department said w...  politicsNews   \n",
      "2  new york reuters hillary clinton ’ campaign ma...  politicsNews   \n",
      "3  baghdad reuters kurdish peshmerga fighter reje...     worldnews   \n",
      "4  lima reuters head peru ’ central bank said wed...  politicsNews   \n",
      "\n",
      "                  date label  \n",
      "0  September 13, 2016   true  \n",
      "1    December 6, 2017   true  \n",
      "2   February 10, 2016   true  \n",
      "3    October 14, 2017   true  \n",
      "4   September 8, 2016   true  \n"
     ]
    }
   ],
   "source": [
    "print(data.head())"
   ]
  },
  {
   "cell_type": "markdown",
   "id": "f0e7f37e-fa7f-4bb8-8dfe-16042d3ed939",
   "metadata": {},
   "source": [
    "## Check for missing values"
   ]
  },
  {
   "cell_type": "code",
   "execution_count": 7,
   "id": "742c171d-9a07-4971-9609-59a1075e0eba",
   "metadata": {},
   "outputs": [
    {
     "name": "stdout",
     "output_type": "stream",
     "text": [
      "title        0\n",
      "text       632\n",
      "subject      0\n",
      "date         0\n",
      "label        0\n",
      "dtype: int64\n"
     ]
    }
   ],
   "source": [
    "print(data.isnull().sum())"
   ]
  },
  {
   "cell_type": "markdown",
   "id": "522eea84-a230-4aa2-9798-9226ee1a2ddd",
   "metadata": {},
   "source": [
    "## Drop rows with missing 'text' or 'title' values"
   ]
  },
  {
   "cell_type": "code",
   "execution_count": 8,
   "id": "856d8817-168e-49b5-95d8-ed073b52a379",
   "metadata": {},
   "outputs": [],
   "source": [
    "data = data.dropna(subset=['text', 'title'])"
   ]
  },
  {
   "cell_type": "markdown",
   "id": "e112b418-639d-4b97-bcd6-96b2b0e22ddb",
   "metadata": {},
   "source": [
    "## Combine 'title' and 'text' for vectorization"
   ]
  },
  {
   "cell_type": "code",
   "execution_count": 9,
   "id": "36b04bbb-e2aa-4fbe-af30-2a7b1be31480",
   "metadata": {},
   "outputs": [],
   "source": [
    "data['combined_text'] = data['title'] + ' ' + data['text']"
   ]
  },
  {
   "cell_type": "markdown",
   "id": "2850c1da-5934-47aa-b5b6-f51add097e8b",
   "metadata": {},
   "source": [
    "## Encode labels"
   ]
  },
  {
   "cell_type": "code",
   "execution_count": 10,
   "id": "571b213c-44af-451e-b9e8-673e3fdc2997",
   "metadata": {},
   "outputs": [],
   "source": [
    "label_encoder = LabelEncoder()\n",
    "data['label'] = label_encoder.fit_transform(data['label'])"
   ]
  },
  {
   "cell_type": "markdown",
   "id": "5f9959fb-bed2-4a91-baff-3a572f0702e5",
   "metadata": {},
   "source": [
    "## Split the data"
   ]
  },
  {
   "cell_type": "code",
   "execution_count": 11,
   "id": "cad84e43-822d-437b-9c4b-5f3a235d4ac8",
   "metadata": {},
   "outputs": [],
   "source": [
    "train_data, temp_data = train_test_split(data, test_size=0.3, random_state=42)\n",
    "test_data, val_data = train_test_split(temp_data, test_size=0.33, random_state=42)"
   ]
  },
  {
   "cell_type": "markdown",
   "id": "20db93a9-b66a-4c17-9818-bd7d1cfeaa49",
   "metadata": {},
   "source": [
    "## Display the size of each split"
   ]
  },
  {
   "cell_type": "code",
   "execution_count": 12,
   "id": "eced65a8-1edb-40f7-923b-784a5651e6f6",
   "metadata": {},
   "outputs": [
    {
     "name": "stdout",
     "output_type": "stream",
     "text": [
      "Train data size: (30986, 6)\n",
      "Test data size: (8897, 6)\n",
      "Validation data size: (4383, 6)\n"
     ]
    }
   ],
   "source": [
    "print(f'Train data size: {train_data.shape}')\n",
    "print(f'Test data size: {test_data.shape}')\n",
    "print(f'Validation data size: {val_data.shape}')"
   ]
  },
  {
   "cell_type": "markdown",
   "id": "a8405fdd-d507-4d2d-98f8-5460207a58e1",
   "metadata": {},
   "source": [
    "## Vectorize the text data"
   ]
  },
  {
   "cell_type": "code",
   "execution_count": 13,
   "id": "cba67314-8a1a-46e3-9dee-5316678c4411",
   "metadata": {},
   "outputs": [],
   "source": [
    "vectorizer = TfidfVectorizer(max_features=5000, stop_words='english')\n",
    "X_train = vectorizer.fit_transform(train_data['combined_text'])\n",
    "X_test = vectorizer.transform(test_data['combined_text'])\n",
    "X_val = vectorizer.transform(val_data['combined_text'])\n",
    "\n",
    "y_train = train_data['label']\n",
    "y_test = test_data['label']\n",
    "y_val = val_data['label']"
   ]
  },
  {
   "cell_type": "markdown",
   "id": "6b8fe955-db05-4036-b961-f16f6a12c420",
   "metadata": {},
   "source": [
    "## Initialize and train the Gradient Boosting model"
   ]
  },
  {
   "cell_type": "code",
   "execution_count": 14,
   "id": "9e801bda-d056-485d-9521-64e33dcfb751",
   "metadata": {},
   "outputs": [
    {
     "data": {
      "text/html": [
       "<style>#sk-container-id-1 {color: black;background-color: white;}#sk-container-id-1 pre{padding: 0;}#sk-container-id-1 div.sk-toggleable {background-color: white;}#sk-container-id-1 label.sk-toggleable__label {cursor: pointer;display: block;width: 100%;margin-bottom: 0;padding: 0.3em;box-sizing: border-box;text-align: center;}#sk-container-id-1 label.sk-toggleable__label-arrow:before {content: \"▸\";float: left;margin-right: 0.25em;color: #696969;}#sk-container-id-1 label.sk-toggleable__label-arrow:hover:before {color: black;}#sk-container-id-1 div.sk-estimator:hover label.sk-toggleable__label-arrow:before {color: black;}#sk-container-id-1 div.sk-toggleable__content {max-height: 0;max-width: 0;overflow: hidden;text-align: left;background-color: #f0f8ff;}#sk-container-id-1 div.sk-toggleable__content pre {margin: 0.2em;color: black;border-radius: 0.25em;background-color: #f0f8ff;}#sk-container-id-1 input.sk-toggleable__control:checked~div.sk-toggleable__content {max-height: 200px;max-width: 100%;overflow: auto;}#sk-container-id-1 input.sk-toggleable__control:checked~label.sk-toggleable__label-arrow:before {content: \"▾\";}#sk-container-id-1 div.sk-estimator input.sk-toggleable__control:checked~label.sk-toggleable__label {background-color: #d4ebff;}#sk-container-id-1 div.sk-label input.sk-toggleable__control:checked~label.sk-toggleable__label {background-color: #d4ebff;}#sk-container-id-1 input.sk-hidden--visually {border: 0;clip: rect(1px 1px 1px 1px);clip: rect(1px, 1px, 1px, 1px);height: 1px;margin: -1px;overflow: hidden;padding: 0;position: absolute;width: 1px;}#sk-container-id-1 div.sk-estimator {font-family: monospace;background-color: #f0f8ff;border: 1px dotted black;border-radius: 0.25em;box-sizing: border-box;margin-bottom: 0.5em;}#sk-container-id-1 div.sk-estimator:hover {background-color: #d4ebff;}#sk-container-id-1 div.sk-parallel-item::after {content: \"\";width: 100%;border-bottom: 1px solid gray;flex-grow: 1;}#sk-container-id-1 div.sk-label:hover label.sk-toggleable__label {background-color: #d4ebff;}#sk-container-id-1 div.sk-serial::before {content: \"\";position: absolute;border-left: 1px solid gray;box-sizing: border-box;top: 0;bottom: 0;left: 50%;z-index: 0;}#sk-container-id-1 div.sk-serial {display: flex;flex-direction: column;align-items: center;background-color: white;padding-right: 0.2em;padding-left: 0.2em;position: relative;}#sk-container-id-1 div.sk-item {position: relative;z-index: 1;}#sk-container-id-1 div.sk-parallel {display: flex;align-items: stretch;justify-content: center;background-color: white;position: relative;}#sk-container-id-1 div.sk-item::before, #sk-container-id-1 div.sk-parallel-item::before {content: \"\";position: absolute;border-left: 1px solid gray;box-sizing: border-box;top: 0;bottom: 0;left: 50%;z-index: -1;}#sk-container-id-1 div.sk-parallel-item {display: flex;flex-direction: column;z-index: 1;position: relative;background-color: white;}#sk-container-id-1 div.sk-parallel-item:first-child::after {align-self: flex-end;width: 50%;}#sk-container-id-1 div.sk-parallel-item:last-child::after {align-self: flex-start;width: 50%;}#sk-container-id-1 div.sk-parallel-item:only-child::after {width: 0;}#sk-container-id-1 div.sk-dashed-wrapped {border: 1px dashed gray;margin: 0 0.4em 0.5em 0.4em;box-sizing: border-box;padding-bottom: 0.4em;background-color: white;}#sk-container-id-1 div.sk-label label {font-family: monospace;font-weight: bold;display: inline-block;line-height: 1.2em;}#sk-container-id-1 div.sk-label-container {text-align: center;}#sk-container-id-1 div.sk-container {/* jupyter's `normalize.less` sets `[hidden] { display: none; }` but bootstrap.min.css set `[hidden] { display: none !important; }` so we also need the `!important` here to be able to override the default hidden behavior on the sphinx rendered scikit-learn.org. See: https://github.com/scikit-learn/scikit-learn/issues/21755 */display: inline-block !important;position: relative;}#sk-container-id-1 div.sk-text-repr-fallback {display: none;}</style><div id=\"sk-container-id-1\" class=\"sk-top-container\"><div class=\"sk-text-repr-fallback\"><pre>GradientBoostingClassifier(random_state=42)</pre><b>In a Jupyter environment, please rerun this cell to show the HTML representation or trust the notebook. <br />On GitHub, the HTML representation is unable to render, please try loading this page with nbviewer.org.</b></div><div class=\"sk-container\" hidden><div class=\"sk-item\"><div class=\"sk-estimator sk-toggleable\"><input class=\"sk-toggleable__control sk-hidden--visually\" id=\"sk-estimator-id-1\" type=\"checkbox\" checked><label for=\"sk-estimator-id-1\" class=\"sk-toggleable__label sk-toggleable__label-arrow\">GradientBoostingClassifier</label><div class=\"sk-toggleable__content\"><pre>GradientBoostingClassifier(random_state=42)</pre></div></div></div></div></div>"
      ],
      "text/plain": [
       "GradientBoostingClassifier(random_state=42)"
      ]
     },
     "execution_count": 14,
     "metadata": {},
     "output_type": "execute_result"
    }
   ],
   "source": [
    "model = GradientBoostingClassifier(n_estimators=100, learning_rate=0.1, max_depth=3, random_state=42)\n",
    "model.fit(X_train, y_train)"
   ]
  },
  {
   "cell_type": "markdown",
   "id": "d62e45e5-2bdc-40fe-9a97-aed5cb5fa321",
   "metadata": {},
   "source": [
    "## Make predictions"
   ]
  },
  {
   "cell_type": "code",
   "execution_count": 15,
   "id": "aa9d840a-ad64-413f-b743-994093e01957",
   "metadata": {},
   "outputs": [],
   "source": [
    "y_pred_train = model.predict(X_train)\n",
    "y_pred_test = model.predict(X_test)\n",
    "y_pred_val = model.predict(X_val)"
   ]
  },
  {
   "cell_type": "markdown",
   "id": "5db6585e-c725-4cfd-a03a-146238880316",
   "metadata": {},
   "source": [
    "## Evaluate the model"
   ]
  },
  {
   "cell_type": "code",
   "execution_count": 16,
   "id": "6cf40d86-494c-4d9e-bfe9-6a4669abcdd4",
   "metadata": {},
   "outputs": [
    {
     "name": "stdout",
     "output_type": "stream",
     "text": [
      "Training Data Evaluation\n",
      "              precision    recall  f1-score   support\n",
      "\n",
      "           0       1.00      1.00      1.00     16001\n",
      "           1       1.00      1.00      1.00     14985\n",
      "\n",
      "    accuracy                           1.00     30986\n",
      "   macro avg       1.00      1.00      1.00     30986\n",
      "weighted avg       1.00      1.00      1.00     30986\n",
      "\n",
      "[[15937    64]\n",
      " [   23 14962]]\n",
      "Test Data Evaluation\n",
      "              precision    recall  f1-score   support\n",
      "\n",
      "           0       1.00      0.99      0.99      4593\n",
      "           1       0.99      1.00      0.99      4304\n",
      "\n",
      "    accuracy                           0.99      8897\n",
      "   macro avg       0.99      0.99      0.99      8897\n",
      "weighted avg       0.99      0.99      0.99      8897\n",
      "\n",
      "[[4560   33]\n",
      " [  14 4290]]\n",
      "Validation Data Evaluation\n",
      "              precision    recall  f1-score   support\n",
      "\n",
      "           0       1.00      0.99      0.99      2256\n",
      "           1       0.99      1.00      0.99      2127\n",
      "\n",
      "    accuracy                           0.99      4383\n",
      "   macro avg       0.99      0.99      0.99      4383\n",
      "weighted avg       0.99      0.99      0.99      4383\n",
      "\n",
      "[[2236   20]\n",
      " [   8 2119]]\n"
     ]
    }
   ],
   "source": [
    "print(\"Training Data Evaluation\")\n",
    "print(classification_report(y_train, y_pred_train))\n",
    "print(confusion_matrix(y_train, y_pred_train))\n",
    "\n",
    "print(\"Test Data Evaluation\")\n",
    "print(classification_report(y_test, y_pred_test))\n",
    "print(confusion_matrix(y_test, y_pred_test))\n",
    "\n",
    "print(\"Validation Data Evaluation\")\n",
    "print(classification_report(y_val, y_pred_val))\n",
    "print(confusion_matrix(y_val, y_pred_val))"
   ]
  },
  {
   "cell_type": "markdown",
   "id": "31790d74-c8a9-4bd7-8a22-fab1cb07a81b",
   "metadata": {},
   "source": [
    "## Assuming you have predicted values y_pred and actual values y_true"
   ]
  },
  {
   "cell_type": "code",
   "execution_count": 17,
   "id": "bf36b64f-53b7-44af-8629-07a0093167ff",
   "metadata": {},
   "outputs": [],
   "source": [
    "y_pred = model.predict(X_test)\n",
    "y_true = y_test  # Assuming y_test is the true labels"
   ]
  },
  {
   "cell_type": "markdown",
   "id": "c5be1705-b951-47d7-aed5-e2ac3fc57853",
   "metadata": {},
   "source": [
    "## Function to calculate metrics"
   ]
  },
  {
   "cell_type": "code",
   "execution_count": 18,
   "id": "575a3875-12d0-4332-a3d3-fb13a5043f75",
   "metadata": {},
   "outputs": [],
   "source": [
    "def model_evaluation(y_true, y_pred):\n",
    "    mae = mean_absolute_error(y_true, y_pred)\n",
    "    rmse = np.sqrt(mean_squared_error(y_true, y_pred))\n",
    "    r2 = r2_score(y_true, y_pred)\n",
    "    return mae, rmse, r2"
   ]
  },
  {
   "cell_type": "markdown",
   "id": "dce83afa-f568-4bf2-abf9-aa54845ffcf7",
   "metadata": {},
   "source": [
    "## Calculate metrics"
   ]
  },
  {
   "cell_type": "code",
   "execution_count": 19,
   "id": "51f11fa3-544b-4490-a437-e91526ef8412",
   "metadata": {},
   "outputs": [],
   "source": [
    "mae, rmse, r2_square = model_evaluation(y_true, y_pred)"
   ]
  },
  {
   "cell_type": "markdown",
   "id": "4a2c45ad-f86c-45d4-963a-5868b46eb271",
   "metadata": {},
   "source": [
    "## Print the results in the desired format"
   ]
  },
  {
   "cell_type": "code",
   "execution_count": 20,
   "id": "fea02df3-661d-41dc-995d-8b2f57850fad",
   "metadata": {},
   "outputs": [
    {
     "name": "stdout",
     "output_type": "stream",
     "text": [
      "Model Training Performance\n",
      "RMSE: 0.07268204424000571\n",
      "MAE: 0.005282679554906148\n",
      "R2 score: 97.88469624456806\n",
      "***********************************\n",
      "\n",
      "\n"
     ]
    }
   ],
   "source": [
    "print(\"Model Training Performance\")\n",
    "print(\"RMSE:\", rmse)\n",
    "print(\"MAE:\", mae)\n",
    "print(\"R2 score:\", r2_square * 100)\n",
    "\n",
    "print('*' * 35)\n",
    "print('\\n')"
   ]
  }
 ],
 "metadata": {
  "kernelspec": {
   "display_name": "Python 3 (ipykernel)",
   "language": "python",
   "name": "python3"
  },
  "language_info": {
   "codemirror_mode": {
    "name": "ipython",
    "version": 3
   },
   "file_extension": ".py",
   "mimetype": "text/x-python",
   "name": "python",
   "nbconvert_exporter": "python",
   "pygments_lexer": "ipython3",
   "version": "3.11.7"
  }
 },
 "nbformat": 4,
 "nbformat_minor": 5
}
