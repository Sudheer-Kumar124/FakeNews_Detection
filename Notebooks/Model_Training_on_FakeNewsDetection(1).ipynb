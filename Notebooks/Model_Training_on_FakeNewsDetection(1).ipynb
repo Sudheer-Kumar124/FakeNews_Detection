{
 "cells": [
  {
   "cell_type": "markdown",
   "id": "ee236997",
   "metadata": {},
   "source": [
    "## 1. DATAPREPROCESSING STEPS:\n"
   ]
  },
  {
   "cell_type": "markdown",
   "id": "3d12e608",
   "metadata": {},
   "source": [
    "### 1.1 Importing the libraries & Loading the dataset:\n",
    "- Importing essential libraries for data manipulation and text processing\n",
    "- Load the dataset from the specified file path"
   ]
  },
  {
   "cell_type": "code",
   "execution_count": 3,
   "id": "66cd3645",
   "metadata": {
    "scrolled": false
   },
   "outputs": [
    {
     "data": {
      "text/html": [
       "<div>\n",
       "<style scoped>\n",
       "    .dataframe tbody tr th:only-of-type {\n",
       "        vertical-align: middle;\n",
       "    }\n",
       "\n",
       "    .dataframe tbody tr th {\n",
       "        vertical-align: top;\n",
       "    }\n",
       "\n",
       "    .dataframe thead th {\n",
       "        text-align: right;\n",
       "    }\n",
       "</style>\n",
       "<table border=\"1\" class=\"dataframe\">\n",
       "  <thead>\n",
       "    <tr style=\"text-align: right;\">\n",
       "      <th></th>\n",
       "      <th>title</th>\n",
       "      <th>news_url</th>\n",
       "      <th>source_domain</th>\n",
       "      <th>tweet_num</th>\n",
       "      <th>real</th>\n",
       "    </tr>\n",
       "  </thead>\n",
       "  <tbody>\n",
       "    <tr>\n",
       "      <th>0</th>\n",
       "      <td>Kandi Burruss Explodes Over Rape Accusation on...</td>\n",
       "      <td>http://toofab.com/2017/05/08/real-housewives-a...</td>\n",
       "      <td>toofab.com</td>\n",
       "      <td>42</td>\n",
       "      <td>1</td>\n",
       "    </tr>\n",
       "    <tr>\n",
       "      <th>1</th>\n",
       "      <td>People's Choice Awards 2018: The best red carp...</td>\n",
       "      <td>https://www.today.com/style/see-people-s-choic...</td>\n",
       "      <td>www.today.com</td>\n",
       "      <td>0</td>\n",
       "      <td>1</td>\n",
       "    </tr>\n",
       "    <tr>\n",
       "      <th>2</th>\n",
       "      <td>Sophia Bush Sends Sweet Birthday Message to 'O...</td>\n",
       "      <td>https://www.etonline.com/news/220806_sophia_bu...</td>\n",
       "      <td>www.etonline.com</td>\n",
       "      <td>63</td>\n",
       "      <td>1</td>\n",
       "    </tr>\n",
       "    <tr>\n",
       "      <th>3</th>\n",
       "      <td>Colombian singer Maluma sparks rumours of inap...</td>\n",
       "      <td>https://www.dailymail.co.uk/news/article-33655...</td>\n",
       "      <td>www.dailymail.co.uk</td>\n",
       "      <td>20</td>\n",
       "      <td>1</td>\n",
       "    </tr>\n",
       "    <tr>\n",
       "      <th>4</th>\n",
       "      <td>Gossip Girl 10 Years Later: How Upper East Sid...</td>\n",
       "      <td>https://www.zerchoo.com/entertainment/gossip-g...</td>\n",
       "      <td>www.zerchoo.com</td>\n",
       "      <td>38</td>\n",
       "      <td>1</td>\n",
       "    </tr>\n",
       "  </tbody>\n",
       "</table>\n",
       "</div>"
      ],
      "text/plain": [
       "                                               title  \\\n",
       "0  Kandi Burruss Explodes Over Rape Accusation on...   \n",
       "1  People's Choice Awards 2018: The best red carp...   \n",
       "2  Sophia Bush Sends Sweet Birthday Message to 'O...   \n",
       "3  Colombian singer Maluma sparks rumours of inap...   \n",
       "4  Gossip Girl 10 Years Later: How Upper East Sid...   \n",
       "\n",
       "                                            news_url        source_domain  \\\n",
       "0  http://toofab.com/2017/05/08/real-housewives-a...           toofab.com   \n",
       "1  https://www.today.com/style/see-people-s-choic...        www.today.com   \n",
       "2  https://www.etonline.com/news/220806_sophia_bu...     www.etonline.com   \n",
       "3  https://www.dailymail.co.uk/news/article-33655...  www.dailymail.co.uk   \n",
       "4  https://www.zerchoo.com/entertainment/gossip-g...      www.zerchoo.com   \n",
       "\n",
       "   tweet_num  real  \n",
       "0         42     1  \n",
       "1          0     1  \n",
       "2         63     1  \n",
       "3         20     1  \n",
       "4         38     1  "
      ]
     },
     "execution_count": 3,
     "metadata": {},
     "output_type": "execute_result"
    }
   ],
   "source": [
    "import pandas as pd\n",
    "import re\n",
    "df = pd.read_csv('C:\\\\Users\\\\ADMIN\\\\FakeNewsNet.csv')\n",
    "df.head()"
   ]
  },
  {
   "cell_type": "markdown",
   "id": "c42d22f8",
   "metadata": {},
   "source": [
    " ## 1.2 Converting text to lowercase:\n",
    " - Convert the text in the 'title' column to lowercase for uniformity"
   ]
  },
  {
   "cell_type": "code",
   "execution_count": 4,
   "id": "e7140cb8",
   "metadata": {},
   "outputs": [
    {
     "data": {
      "text/html": [
       "<div>\n",
       "<style scoped>\n",
       "    .dataframe tbody tr th:only-of-type {\n",
       "        vertical-align: middle;\n",
       "    }\n",
       "\n",
       "    .dataframe tbody tr th {\n",
       "        vertical-align: top;\n",
       "    }\n",
       "\n",
       "    .dataframe thead th {\n",
       "        text-align: right;\n",
       "    }\n",
       "</style>\n",
       "<table border=\"1\" class=\"dataframe\">\n",
       "  <thead>\n",
       "    <tr style=\"text-align: right;\">\n",
       "      <th></th>\n",
       "      <th>title</th>\n",
       "      <th>news_url</th>\n",
       "      <th>source_domain</th>\n",
       "      <th>tweet_num</th>\n",
       "      <th>real</th>\n",
       "    </tr>\n",
       "  </thead>\n",
       "  <tbody>\n",
       "    <tr>\n",
       "      <th>0</th>\n",
       "      <td>kandi burruss explodes over rape accusation on...</td>\n",
       "      <td>http://toofab.com/2017/05/08/real-housewives-a...</td>\n",
       "      <td>toofab.com</td>\n",
       "      <td>42</td>\n",
       "      <td>1</td>\n",
       "    </tr>\n",
       "    <tr>\n",
       "      <th>1</th>\n",
       "      <td>people's choice awards 2018: the best red carp...</td>\n",
       "      <td>https://www.today.com/style/see-people-s-choic...</td>\n",
       "      <td>www.today.com</td>\n",
       "      <td>0</td>\n",
       "      <td>1</td>\n",
       "    </tr>\n",
       "    <tr>\n",
       "      <th>2</th>\n",
       "      <td>sophia bush sends sweet birthday message to 'o...</td>\n",
       "      <td>https://www.etonline.com/news/220806_sophia_bu...</td>\n",
       "      <td>www.etonline.com</td>\n",
       "      <td>63</td>\n",
       "      <td>1</td>\n",
       "    </tr>\n",
       "    <tr>\n",
       "      <th>3</th>\n",
       "      <td>colombian singer maluma sparks rumours of inap...</td>\n",
       "      <td>https://www.dailymail.co.uk/news/article-33655...</td>\n",
       "      <td>www.dailymail.co.uk</td>\n",
       "      <td>20</td>\n",
       "      <td>1</td>\n",
       "    </tr>\n",
       "    <tr>\n",
       "      <th>4</th>\n",
       "      <td>gossip girl 10 years later: how upper east sid...</td>\n",
       "      <td>https://www.zerchoo.com/entertainment/gossip-g...</td>\n",
       "      <td>www.zerchoo.com</td>\n",
       "      <td>38</td>\n",
       "      <td>1</td>\n",
       "    </tr>\n",
       "  </tbody>\n",
       "</table>\n",
       "</div>"
      ],
      "text/plain": [
       "                                               title  \\\n",
       "0  kandi burruss explodes over rape accusation on...   \n",
       "1  people's choice awards 2018: the best red carp...   \n",
       "2  sophia bush sends sweet birthday message to 'o...   \n",
       "3  colombian singer maluma sparks rumours of inap...   \n",
       "4  gossip girl 10 years later: how upper east sid...   \n",
       "\n",
       "                                            news_url        source_domain  \\\n",
       "0  http://toofab.com/2017/05/08/real-housewives-a...           toofab.com   \n",
       "1  https://www.today.com/style/see-people-s-choic...        www.today.com   \n",
       "2  https://www.etonline.com/news/220806_sophia_bu...     www.etonline.com   \n",
       "3  https://www.dailymail.co.uk/news/article-33655...  www.dailymail.co.uk   \n",
       "4  https://www.zerchoo.com/entertainment/gossip-g...      www.zerchoo.com   \n",
       "\n",
       "   tweet_num  real  \n",
       "0         42     1  \n",
       "1          0     1  \n",
       "2         63     1  \n",
       "3         20     1  \n",
       "4         38     1  "
      ]
     },
     "execution_count": 4,
     "metadata": {},
     "output_type": "execute_result"
    }
   ],
   "source": [
    "df['title'] = df['title'].str.lower()\n",
    "df.head()"
   ]
  },
  {
   "cell_type": "markdown",
   "id": "0f85ba49",
   "metadata": {},
   "source": [
    "## 1.3 Removing links and newline characters:\n",
    "- Define a function to remove links and newline characters from text"
   ]
  },
  {
   "cell_type": "code",
   "execution_count": 5,
   "id": "af84977d",
   "metadata": {},
   "outputs": [],
   "source": [
    "def remove_links(text):\n",
    "    if not isinstance(text, str):\n",
    "        return text\n",
    "    # Remove links\n",
    "    text = re.sub(r'http\\S+|www\\S+|https\\S+', '', text)\n",
    "    # Remove newline characters\n",
    "    text = text.replace('\\n', ' ')\n",
    "    return text"
   ]
  },
  {
   "cell_type": "code",
   "execution_count": 6,
   "id": "832e9a1c",
   "metadata": {
    "scrolled": true
   },
   "outputs": [
    {
     "data": {
      "text/html": [
       "<div>\n",
       "<style scoped>\n",
       "    .dataframe tbody tr th:only-of-type {\n",
       "        vertical-align: middle;\n",
       "    }\n",
       "\n",
       "    .dataframe tbody tr th {\n",
       "        vertical-align: top;\n",
       "    }\n",
       "\n",
       "    .dataframe thead th {\n",
       "        text-align: right;\n",
       "    }\n",
       "</style>\n",
       "<table border=\"1\" class=\"dataframe\">\n",
       "  <thead>\n",
       "    <tr style=\"text-align: right;\">\n",
       "      <th></th>\n",
       "      <th>title</th>\n",
       "      <th>news_url</th>\n",
       "      <th>source_domain</th>\n",
       "      <th>tweet_num</th>\n",
       "      <th>real</th>\n",
       "    </tr>\n",
       "  </thead>\n",
       "  <tbody>\n",
       "    <tr>\n",
       "      <th>0</th>\n",
       "      <td>kandi burruss explodes over rape accusation on...</td>\n",
       "      <td>http://toofab.com/2017/05/08/real-housewives-a...</td>\n",
       "      <td>toofab.com</td>\n",
       "      <td>42</td>\n",
       "      <td>1</td>\n",
       "    </tr>\n",
       "    <tr>\n",
       "      <th>1</th>\n",
       "      <td>people's choice awards 2018: the best red carp...</td>\n",
       "      <td>https://www.today.com/style/see-people-s-choic...</td>\n",
       "      <td>www.today.com</td>\n",
       "      <td>0</td>\n",
       "      <td>1</td>\n",
       "    </tr>\n",
       "    <tr>\n",
       "      <th>2</th>\n",
       "      <td>sophia bush sends sweet birthday message to 'o...</td>\n",
       "      <td>https://www.etonline.com/news/220806_sophia_bu...</td>\n",
       "      <td>www.etonline.com</td>\n",
       "      <td>63</td>\n",
       "      <td>1</td>\n",
       "    </tr>\n",
       "    <tr>\n",
       "      <th>3</th>\n",
       "      <td>colombian singer maluma sparks rumours of inap...</td>\n",
       "      <td>https://www.dailymail.co.uk/news/article-33655...</td>\n",
       "      <td>www.dailymail.co.uk</td>\n",
       "      <td>20</td>\n",
       "      <td>1</td>\n",
       "    </tr>\n",
       "    <tr>\n",
       "      <th>4</th>\n",
       "      <td>gossip girl 10 years later: how upper east sid...</td>\n",
       "      <td>https://www.zerchoo.com/entertainment/gossip-g...</td>\n",
       "      <td>www.zerchoo.com</td>\n",
       "      <td>38</td>\n",
       "      <td>1</td>\n",
       "    </tr>\n",
       "  </tbody>\n",
       "</table>\n",
       "</div>"
      ],
      "text/plain": [
       "                                               title  \\\n",
       "0  kandi burruss explodes over rape accusation on...   \n",
       "1  people's choice awards 2018: the best red carp...   \n",
       "2  sophia bush sends sweet birthday message to 'o...   \n",
       "3  colombian singer maluma sparks rumours of inap...   \n",
       "4  gossip girl 10 years later: how upper east sid...   \n",
       "\n",
       "                                            news_url        source_domain  \\\n",
       "0  http://toofab.com/2017/05/08/real-housewives-a...           toofab.com   \n",
       "1  https://www.today.com/style/see-people-s-choic...        www.today.com   \n",
       "2  https://www.etonline.com/news/220806_sophia_bu...     www.etonline.com   \n",
       "3  https://www.dailymail.co.uk/news/article-33655...  www.dailymail.co.uk   \n",
       "4  https://www.zerchoo.com/entertainment/gossip-g...      www.zerchoo.com   \n",
       "\n",
       "   tweet_num  real  \n",
       "0         42     1  \n",
       "1          0     1  \n",
       "2         63     1  \n",
       "3         20     1  \n",
       "4         38     1  "
      ]
     },
     "execution_count": 6,
     "metadata": {},
     "output_type": "execute_result"
    }
   ],
   "source": [
    "# Apply function to relevant columns\n",
    "df['title'] = df['title'].apply(remove_links)\n",
    "df.head()"
   ]
  },
  {
   "cell_type": "markdown",
   "id": "d41ad365",
   "metadata": {},
   "source": [
    "## 1.4 Removing words containing numbers and extra spaces:\n",
    "- Define a function to remove words containing numbers and extra spaces from text"
   ]
  },
  {
   "cell_type": "code",
   "execution_count": 7,
   "id": "8da917c2",
   "metadata": {},
   "outputs": [
    {
     "data": {
      "text/html": [
       "<div>\n",
       "<style scoped>\n",
       "    .dataframe tbody tr th:only-of-type {\n",
       "        vertical-align: middle;\n",
       "    }\n",
       "\n",
       "    .dataframe tbody tr th {\n",
       "        vertical-align: top;\n",
       "    }\n",
       "\n",
       "    .dataframe thead th {\n",
       "        text-align: right;\n",
       "    }\n",
       "</style>\n",
       "<table border=\"1\" class=\"dataframe\">\n",
       "  <thead>\n",
       "    <tr style=\"text-align: right;\">\n",
       "      <th></th>\n",
       "      <th>title</th>\n",
       "      <th>news_url</th>\n",
       "      <th>source_domain</th>\n",
       "      <th>tweet_num</th>\n",
       "      <th>real</th>\n",
       "    </tr>\n",
       "  </thead>\n",
       "  <tbody>\n",
       "    <tr>\n",
       "      <th>17348</th>\n",
       "      <td>diplo responds to katy perry's sex ranking</td>\n",
       "      <td>https://www.refinery29.com/en-us/2017/06/15889...</td>\n",
       "      <td>www.refinery29.com</td>\n",
       "      <td>1</td>\n",
       "      <td>1</td>\n",
       "    </tr>\n",
       "    <tr>\n",
       "      <th>17571</th>\n",
       "      <td>selena gomez is making more than $ million for...</td>\n",
       "      <td>https://www.wearelatinlive.com/article/7176/se...</td>\n",
       "      <td>www.wearelatinlive.com</td>\n",
       "      <td>65</td>\n",
       "      <td>1</td>\n",
       "    </tr>\n",
       "    <tr>\n",
       "      <th>1233</th>\n",
       "      <td>'roseanne' canceled at abc following racist tweet</td>\n",
       "      <td>https://www.hollywoodreporter.com/live-feed/ro...</td>\n",
       "      <td>www.hollywoodreporter.com</td>\n",
       "      <td>41</td>\n",
       "      <td>1</td>\n",
       "    </tr>\n",
       "    <tr>\n",
       "      <th>22271</th>\n",
       "      <td>‘once upon a time’ to end with season on abc</td>\n",
       "      <td>https://deadline.com/2018/02/once-upon-a-time-...</td>\n",
       "      <td>deadline.com</td>\n",
       "      <td>1</td>\n",
       "      <td>1</td>\n",
       "    </tr>\n",
       "    <tr>\n",
       "      <th>11771</th>\n",
       "      <td>wags atlanta's kaylin jurrjens breaks down at ...</td>\n",
       "      <td>https://www.storiesflow.com/article/6907901712...</td>\n",
       "      <td>www.storiesflow.com</td>\n",
       "      <td>37</td>\n",
       "      <td>1</td>\n",
       "    </tr>\n",
       "  </tbody>\n",
       "</table>\n",
       "</div>"
      ],
      "text/plain": [
       "                                                   title  \\\n",
       "17348         diplo responds to katy perry's sex ranking   \n",
       "17571  selena gomez is making more than $ million for...   \n",
       "1233   'roseanne' canceled at abc following racist tweet   \n",
       "22271       ‘once upon a time’ to end with season on abc   \n",
       "11771  wags atlanta's kaylin jurrjens breaks down at ...   \n",
       "\n",
       "                                                news_url  \\\n",
       "17348  https://www.refinery29.com/en-us/2017/06/15889...   \n",
       "17571  https://www.wearelatinlive.com/article/7176/se...   \n",
       "1233   https://www.hollywoodreporter.com/live-feed/ro...   \n",
       "22271  https://deadline.com/2018/02/once-upon-a-time-...   \n",
       "11771  https://www.storiesflow.com/article/6907901712...   \n",
       "\n",
       "                   source_domain  tweet_num  real  \n",
       "17348         www.refinery29.com          1     1  \n",
       "17571     www.wearelatinlive.com         65     1  \n",
       "1233   www.hollywoodreporter.com         41     1  \n",
       "22271               deadline.com          1     1  \n",
       "11771        www.storiesflow.com         37     1  "
      ]
     },
     "execution_count": 7,
     "metadata": {},
     "output_type": "execute_result"
    }
   ],
   "source": [
    "def remove_extraSpace(text):\n",
    "    if not isinstance(text, str):\n",
    "        return text\n",
    "    # Remove words containing numbers\n",
    "    text = re.sub(r'\\b\\w*\\d\\w*\\b', '', text)\n",
    "    # Remove extra spaces\n",
    "    text = re.sub(r'\\s+', ' ', text)\n",
    "    return text.strip() \n",
    "\n",
    "df['title'] = df['title'].apply(remove_extraSpace)\n",
    "#df.head()\n",
    "df.sample(frac=1).head(5)"
   ]
  },
  {
   "cell_type": "markdown",
   "id": "1fba77c2",
   "metadata": {},
   "source": [
    "## 1.5 Removal of special characters:\n",
    "- Define a function to remove special characters from text"
   ]
  },
  {
   "cell_type": "code",
   "execution_count": 8,
   "id": "3a8cab4d",
   "metadata": {},
   "outputs": [
    {
     "data": {
      "text/html": [
       "<div>\n",
       "<style scoped>\n",
       "    .dataframe tbody tr th:only-of-type {\n",
       "        vertical-align: middle;\n",
       "    }\n",
       "\n",
       "    .dataframe tbody tr th {\n",
       "        vertical-align: top;\n",
       "    }\n",
       "\n",
       "    .dataframe thead th {\n",
       "        text-align: right;\n",
       "    }\n",
       "</style>\n",
       "<table border=\"1\" class=\"dataframe\">\n",
       "  <thead>\n",
       "    <tr style=\"text-align: right;\">\n",
       "      <th></th>\n",
       "      <th>title</th>\n",
       "      <th>news_url</th>\n",
       "      <th>source_domain</th>\n",
       "      <th>tweet_num</th>\n",
       "      <th>real</th>\n",
       "    </tr>\n",
       "  </thead>\n",
       "  <tbody>\n",
       "    <tr>\n",
       "      <th>10145</th>\n",
       "      <td>jenna dewan tatum opens up to  hollywood mediu...</td>\n",
       "      <td>https://www.today.com/popculture/jenna-dewan-t...</td>\n",
       "      <td>www.today.com</td>\n",
       "      <td>4</td>\n",
       "      <td>1</td>\n",
       "    </tr>\n",
       "    <tr>\n",
       "      <th>21258</th>\n",
       "      <td>a ranking of the richest real housewives from ...</td>\n",
       "      <td>http://time.com/money/5117815/richest-real-hou...</td>\n",
       "      <td>time.com</td>\n",
       "      <td>24</td>\n",
       "      <td>1</td>\n",
       "    </tr>\n",
       "    <tr>\n",
       "      <th>13968</th>\n",
       "      <td>expressions to sum up kanye s claims that beyo...</td>\n",
       "      <td>www.dailyedge.ie/reaction-to-kanye-kim-beyonce...</td>\n",
       "      <td>www.dailyedge.ie</td>\n",
       "      <td>13</td>\n",
       "      <td>0</td>\n",
       "    </tr>\n",
       "    <tr>\n",
       "      <th>1971</th>\n",
       "      <td>justin theroux  was with girlfriend heidi bive...</td>\n",
       "      <td>https://www.dailymail.co.uk/tvshowbiz/article-...</td>\n",
       "      <td>www.dailymail.co.uk</td>\n",
       "      <td>40</td>\n",
       "      <td>1</td>\n",
       "    </tr>\n",
       "    <tr>\n",
       "      <th>8955</th>\n",
       "      <td>bachelorette  rachel lindsay shows off her  n...</td>\n",
       "      <td>https://www.etonline.com/fashion/218739_bachel...</td>\n",
       "      <td>www.etonline.com</td>\n",
       "      <td>92</td>\n",
       "      <td>1</td>\n",
       "    </tr>\n",
       "  </tbody>\n",
       "</table>\n",
       "</div>"
      ],
      "text/plain": [
       "                                                   title  \\\n",
       "10145  jenna dewan tatum opens up to  hollywood mediu...   \n",
       "21258  a ranking of the richest real housewives from ...   \n",
       "13968  expressions to sum up kanye s claims that beyo...   \n",
       "1971   justin theroux  was with girlfriend heidi bive...   \n",
       "8955    bachelorette  rachel lindsay shows off her  n...   \n",
       "\n",
       "                                                news_url        source_domain  \\\n",
       "10145  https://www.today.com/popculture/jenna-dewan-t...        www.today.com   \n",
       "21258  http://time.com/money/5117815/richest-real-hou...             time.com   \n",
       "13968  www.dailyedge.ie/reaction-to-kanye-kim-beyonce...     www.dailyedge.ie   \n",
       "1971   https://www.dailymail.co.uk/tvshowbiz/article-...  www.dailymail.co.uk   \n",
       "8955   https://www.etonline.com/fashion/218739_bachel...     www.etonline.com   \n",
       "\n",
       "       tweet_num  real  \n",
       "10145          4     1  \n",
       "21258         24     1  \n",
       "13968         13     0  \n",
       "1971          40     1  \n",
       "8955          92     1  "
      ]
     },
     "execution_count": 8,
     "metadata": {},
     "output_type": "execute_result"
    }
   ],
   "source": [
    "def remove_spl_chars(text):\n",
    "    text = re.sub('[^a-zA-Z0-9]',' ', text)\n",
    "    return text\n",
    "df['title'] = df['title'].apply(remove_spl_chars)\n",
    "df.sample(frac=1).head(5)"
   ]
  },
  {
   "cell_type": "markdown",
   "id": "3678e94b",
   "metadata": {},
   "source": [
    "## 1.6 Removal of stopwords:\n",
    "- Import NLTK stopwords and define a set of stopwords"
   ]
  },
  {
   "cell_type": "code",
   "execution_count": 9,
   "id": "d75d34d5",
   "metadata": {},
   "outputs": [],
   "source": [
    "from nltk.corpus import stopwords\n",
    "#\", \".join(stopwords.words('english'))"
   ]
  },
  {
   "cell_type": "code",
   "execution_count": 10,
   "id": "ef6cdc7f",
   "metadata": {},
   "outputs": [
    {
     "data": {
      "text/html": [
       "<div>\n",
       "<style scoped>\n",
       "    .dataframe tbody tr th:only-of-type {\n",
       "        vertical-align: middle;\n",
       "    }\n",
       "\n",
       "    .dataframe tbody tr th {\n",
       "        vertical-align: top;\n",
       "    }\n",
       "\n",
       "    .dataframe thead th {\n",
       "        text-align: right;\n",
       "    }\n",
       "</style>\n",
       "<table border=\"1\" class=\"dataframe\">\n",
       "  <thead>\n",
       "    <tr style=\"text-align: right;\">\n",
       "      <th></th>\n",
       "      <th>title</th>\n",
       "      <th>news_url</th>\n",
       "      <th>source_domain</th>\n",
       "      <th>tweet_num</th>\n",
       "      <th>real</th>\n",
       "    </tr>\n",
       "  </thead>\n",
       "  <tbody>\n",
       "    <tr>\n",
       "      <th>15717</th>\n",
       "      <td>law order special victims unit</td>\n",
       "      <td>https://en.wikipedia.org/wiki/911_(Law_%26_Ord...</td>\n",
       "      <td>en.wikipedia.org</td>\n",
       "      <td>1</td>\n",
       "      <td>1</td>\n",
       "    </tr>\n",
       "    <tr>\n",
       "      <th>14978</th>\n",
       "      <td>brad pitt neri oxman designing love nest toget...</td>\n",
       "      <td>latestgossipsite.125sites.com/brad-pitt-neri-o...</td>\n",
       "      <td>latestgossipsite.125sites.com</td>\n",
       "      <td>17</td>\n",
       "      <td>0</td>\n",
       "    </tr>\n",
       "    <tr>\n",
       "      <th>17871</th>\n",
       "      <td>jennifer lawrence margot robbie teach drinking...</td>\n",
       "      <td>video.vanityfair.com/watch/jennifer-lawrence-m...</td>\n",
       "      <td>video.vanityfair.com</td>\n",
       "      <td>29</td>\n",
       "      <td>0</td>\n",
       "    </tr>\n",
       "    <tr>\n",
       "      <th>4210</th>\n",
       "      <td>wells adams goes sarah hyland high school reunion</td>\n",
       "      <td>https://www.usmagazine.com/celebrity-news/news...</td>\n",
       "      <td>www.usmagazine.com</td>\n",
       "      <td>1</td>\n",
       "      <td>1</td>\n",
       "    </tr>\n",
       "    <tr>\n",
       "      <th>19351</th>\n",
       "      <td>lana tries convince rusev buy less traditional...</td>\n",
       "      <td>https://www.zerchoo.com/entertainment/lana-tri...</td>\n",
       "      <td>www.zerchoo.com</td>\n",
       "      <td>57</td>\n",
       "      <td>1</td>\n",
       "    </tr>\n",
       "  </tbody>\n",
       "</table>\n",
       "</div>"
      ],
      "text/plain": [
       "                                                   title  \\\n",
       "15717                     law order special victims unit   \n",
       "14978  brad pitt neri oxman designing love nest toget...   \n",
       "17871  jennifer lawrence margot robbie teach drinking...   \n",
       "4210   wells adams goes sarah hyland high school reunion   \n",
       "19351  lana tries convince rusev buy less traditional...   \n",
       "\n",
       "                                                news_url  \\\n",
       "15717  https://en.wikipedia.org/wiki/911_(Law_%26_Ord...   \n",
       "14978  latestgossipsite.125sites.com/brad-pitt-neri-o...   \n",
       "17871  video.vanityfair.com/watch/jennifer-lawrence-m...   \n",
       "4210   https://www.usmagazine.com/celebrity-news/news...   \n",
       "19351  https://www.zerchoo.com/entertainment/lana-tri...   \n",
       "\n",
       "                       source_domain  tweet_num  real  \n",
       "15717               en.wikipedia.org          1     1  \n",
       "14978  latestgossipsite.125sites.com         17     0  \n",
       "17871           video.vanityfair.com         29     0  \n",
       "4210              www.usmagazine.com          1     1  \n",
       "19351                www.zerchoo.com         57     1  "
      ]
     },
     "execution_count": 10,
     "metadata": {},
     "output_type": "execute_result"
    }
   ],
   "source": [
    "STOPWORDS = set(stopwords.words('english'))\n",
    "def remove_stopwords(text):\n",
    "    return \" \".join([word for word in text.split() if word not in STOPWORDS])\n",
    "\n",
    "df['title'] = df['title'].apply(remove_stopwords)\n",
    "df.sample(frac=1).head(5)\n",
    "#df.head()"
   ]
  },
  {
   "cell_type": "markdown",
   "id": "9ea5f197",
   "metadata": {},
   "source": [
    "\n",
    "## 1.7 Stemming:\n",
    "- Import NLTK PorterStemmer for stemming words"
   ]
  },
  {
   "cell_type": "code",
   "execution_count": 11,
   "id": "af694057",
   "metadata": {},
   "outputs": [
    {
     "data": {
      "text/html": [
       "<div>\n",
       "<style scoped>\n",
       "    .dataframe tbody tr th:only-of-type {\n",
       "        vertical-align: middle;\n",
       "    }\n",
       "\n",
       "    .dataframe tbody tr th {\n",
       "        vertical-align: top;\n",
       "    }\n",
       "\n",
       "    .dataframe thead th {\n",
       "        text-align: right;\n",
       "    }\n",
       "</style>\n",
       "<table border=\"1\" class=\"dataframe\">\n",
       "  <thead>\n",
       "    <tr style=\"text-align: right;\">\n",
       "      <th></th>\n",
       "      <th>title</th>\n",
       "      <th>news_url</th>\n",
       "      <th>source_domain</th>\n",
       "      <th>tweet_num</th>\n",
       "      <th>real</th>\n",
       "      <th>text</th>\n",
       "    </tr>\n",
       "  </thead>\n",
       "  <tbody>\n",
       "    <tr>\n",
       "      <th>11319</th>\n",
       "      <td>things know mulan</td>\n",
       "      <td>https://ohmy.disney.com/movies/2015/03/21/13-t...</td>\n",
       "      <td>ohmy.disney.com</td>\n",
       "      <td>122</td>\n",
       "      <td>1</td>\n",
       "      <td>thing know mulan</td>\n",
       "    </tr>\n",
       "    <tr>\n",
       "      <th>3808</th>\n",
       "      <td>house gop introduces keep terrorists america act</td>\n",
       "      <td>https://web.archive.org/web/20090514023215/htt...</td>\n",
       "      <td>web.archive.org</td>\n",
       "      <td>7</td>\n",
       "      <td>1</td>\n",
       "      <td>hous gop introduc keep terrorist america act</td>\n",
       "    </tr>\n",
       "    <tr>\n",
       "      <th>18498</th>\n",
       "      <td>victoria david beckham celebrate year wedding ...</td>\n",
       "      <td>https://liveindex.co.uk/celebrities/victoria-a...</td>\n",
       "      <td>liveindex.co.uk</td>\n",
       "      <td>46</td>\n",
       "      <td>1</td>\n",
       "      <td>victoria david beckham celebr year wed anniver...</td>\n",
       "    </tr>\n",
       "    <tr>\n",
       "      <th>1311</th>\n",
       "      <td>jennifer lawrence talked luann de lesseps real...</td>\n",
       "      <td>http://www.bravotv.com/the-daily-dish/jennifer...</td>\n",
       "      <td>www.bravotv.com</td>\n",
       "      <td>55</td>\n",
       "      <td>1</td>\n",
       "      <td>jennif lawrenc talk luann de lessep real house...</td>\n",
       "    </tr>\n",
       "    <tr>\n",
       "      <th>8911</th>\n",
       "      <td>timeline complicated relationship taylor swift...</td>\n",
       "      <td>people.com/celebrity/a-timeline-of-the-complic...</td>\n",
       "      <td>people.com</td>\n",
       "      <td>59</td>\n",
       "      <td>0</td>\n",
       "      <td>timelin complic relationship taylor swift kim ...</td>\n",
       "    </tr>\n",
       "  </tbody>\n",
       "</table>\n",
       "</div>"
      ],
      "text/plain": [
       "                                                   title  \\\n",
       "11319                                  things know mulan   \n",
       "3808    house gop introduces keep terrorists america act   \n",
       "18498  victoria david beckham celebrate year wedding ...   \n",
       "1311   jennifer lawrence talked luann de lesseps real...   \n",
       "8911   timeline complicated relationship taylor swift...   \n",
       "\n",
       "                                                news_url    source_domain  \\\n",
       "11319  https://ohmy.disney.com/movies/2015/03/21/13-t...  ohmy.disney.com   \n",
       "3808   https://web.archive.org/web/20090514023215/htt...  web.archive.org   \n",
       "18498  https://liveindex.co.uk/celebrities/victoria-a...  liveindex.co.uk   \n",
       "1311   http://www.bravotv.com/the-daily-dish/jennifer...  www.bravotv.com   \n",
       "8911   people.com/celebrity/a-timeline-of-the-complic...       people.com   \n",
       "\n",
       "       tweet_num  real                                               text  \n",
       "11319        122     1                                   thing know mulan  \n",
       "3808           7     1       hous gop introduc keep terrorist america act  \n",
       "18498         46     1  victoria david beckham celebr year wed anniver...  \n",
       "1311          55     1  jennif lawrenc talk luann de lessep real house...  \n",
       "8911          59     0  timelin complic relationship taylor swift kim ...  "
      ]
     },
     "execution_count": 11,
     "metadata": {},
     "output_type": "execute_result"
    }
   ],
   "source": [
    "from nltk.stem.porter import PorterStemmer\n",
    "ps = PorterStemmer()\n",
    "def stem_word(text):\n",
    "    return \" \".join([ps.stem(word) for word in text.split()])\n",
    "df['text'] = df['title'].apply(stem_word)\n",
    "#df.head()\n",
    "df.sample(frac=1).head(5)\n"
   ]
  },
  {
   "cell_type": "markdown",
   "id": "cb35c80a",
   "metadata": {},
   "source": [
    "## 1.8 Lemmatization:\n",
    "- Import NLTK libraries for POS tagging and lemmatization"
   ]
  },
  {
   "cell_type": "code",
   "execution_count": 15,
   "id": "681c368b",
   "metadata": {},
   "outputs": [],
   "source": [
    "import nltk\n",
    "from nltk import pos_tag\n",
    "from nltk.corpus import wordnet \n",
    "from nltk.stem import WordNetLemmatizer\n",
    "\n",
    "lemmatizer = WordNetLemmatizer()\n",
    "wordnet_map = {\"N\":wordnet.NOUN, \"V\": wordnet.VERB, \"J\": wordnet.ADJ, \"R\": wordnet.ADV}\n",
    "     \n",
    "\n",
    "def lemm_word(text):\n",
    "    pos_text = pos_tag(text.split())\n",
    "    return \" \".join([lemmatizer.lemmatize(word, wordnet_map.get(pos[0], wordnet.NOUN)) for word, pos in pos_text])"
   ]
  },
  {
   "cell_type": "code",
   "execution_count": 16,
   "id": "549dd448",
   "metadata": {
    "scrolled": true
   },
   "outputs": [
    {
     "data": {
      "text/html": [
       "<div>\n",
       "<style scoped>\n",
       "    .dataframe tbody tr th:only-of-type {\n",
       "        vertical-align: middle;\n",
       "    }\n",
       "\n",
       "    .dataframe tbody tr th {\n",
       "        vertical-align: top;\n",
       "    }\n",
       "\n",
       "    .dataframe thead th {\n",
       "        text-align: right;\n",
       "    }\n",
       "</style>\n",
       "<table border=\"1\" class=\"dataframe\">\n",
       "  <thead>\n",
       "    <tr style=\"text-align: right;\">\n",
       "      <th></th>\n",
       "      <th>title</th>\n",
       "      <th>news_url</th>\n",
       "      <th>source_domain</th>\n",
       "      <th>tweet_num</th>\n",
       "      <th>real</th>\n",
       "      <th>text</th>\n",
       "    </tr>\n",
       "  </thead>\n",
       "  <tbody>\n",
       "    <tr>\n",
       "      <th>0</th>\n",
       "      <td>kandi burruss explodes rape accusation real ho...</td>\n",
       "      <td>http://toofab.com/2017/05/08/real-housewives-a...</td>\n",
       "      <td>toofab.com</td>\n",
       "      <td>42</td>\n",
       "      <td>1</td>\n",
       "      <td>kandi burruss explod rape accus real housew at...</td>\n",
       "    </tr>\n",
       "    <tr>\n",
       "      <th>1</th>\n",
       "      <td>people choice awards best red carpet looks</td>\n",
       "      <td>https://www.today.com/style/see-people-s-choic...</td>\n",
       "      <td>www.today.com</td>\n",
       "      <td>0</td>\n",
       "      <td>1</td>\n",
       "      <td>peopl choic award best red carpet look</td>\n",
       "    </tr>\n",
       "    <tr>\n",
       "      <th>2</th>\n",
       "      <td>sophia bush sends sweet birthday message one t...</td>\n",
       "      <td>https://www.etonline.com/news/220806_sophia_bu...</td>\n",
       "      <td>www.etonline.com</td>\n",
       "      <td>63</td>\n",
       "      <td>1</td>\n",
       "      <td>sophia bush send sweet birthday messag one tre...</td>\n",
       "    </tr>\n",
       "    <tr>\n",
       "      <th>3</th>\n",
       "      <td>colombian singer maluma sparks rumours inappro...</td>\n",
       "      <td>https://www.dailymail.co.uk/news/article-33655...</td>\n",
       "      <td>www.dailymail.co.uk</td>\n",
       "      <td>20</td>\n",
       "      <td>1</td>\n",
       "      <td>colombian singer maluma spark rumour inappropr...</td>\n",
       "    </tr>\n",
       "    <tr>\n",
       "      <th>4</th>\n",
       "      <td>gossip girl years later upper east siders shoc...</td>\n",
       "      <td>https://www.zerchoo.com/entertainment/gossip-g...</td>\n",
       "      <td>www.zerchoo.com</td>\n",
       "      <td>38</td>\n",
       "      <td>1</td>\n",
       "      <td>gossip girl year later upper east sider shock ...</td>\n",
       "    </tr>\n",
       "  </tbody>\n",
       "</table>\n",
       "</div>"
      ],
      "text/plain": [
       "                                               title  \\\n",
       "0  kandi burruss explodes rape accusation real ho...   \n",
       "1         people choice awards best red carpet looks   \n",
       "2  sophia bush sends sweet birthday message one t...   \n",
       "3  colombian singer maluma sparks rumours inappro...   \n",
       "4  gossip girl years later upper east siders shoc...   \n",
       "\n",
       "                                            news_url        source_domain  \\\n",
       "0  http://toofab.com/2017/05/08/real-housewives-a...           toofab.com   \n",
       "1  https://www.today.com/style/see-people-s-choic...        www.today.com   \n",
       "2  https://www.etonline.com/news/220806_sophia_bu...     www.etonline.com   \n",
       "3  https://www.dailymail.co.uk/news/article-33655...  www.dailymail.co.uk   \n",
       "4  https://www.zerchoo.com/entertainment/gossip-g...      www.zerchoo.com   \n",
       "\n",
       "   tweet_num  real                                               text  \n",
       "0         42     1  kandi burruss explod rape accus real housew at...  \n",
       "1          0     1             peopl choic award best red carpet look  \n",
       "2         63     1  sophia bush send sweet birthday messag one tre...  \n",
       "3         20     1  colombian singer maluma spark rumour inappropr...  \n",
       "4         38     1  gossip girl year later upper east sider shock ...  "
      ]
     },
     "execution_count": 16,
     "metadata": {},
     "output_type": "execute_result"
    }
   ],
   "source": [
    "df['text'] = df['text'].apply(lambda x: lemm_word(x))\n",
    "df.head()"
   ]
  },
  {
   "cell_type": "code",
   "execution_count": 17,
   "id": "e5651ebb",
   "metadata": {
    "scrolled": true
   },
   "outputs": [
    {
     "name": "stderr",
     "output_type": "stream",
     "text": [
      "[nltk_data] Downloading package averaged_perceptron_tagger to\n",
      "[nltk_data]     C:\\Users\\ADMIN\\AppData\\Roaming\\nltk_data...\n",
      "[nltk_data]   Package averaged_perceptron_tagger is already up-to-\n",
      "[nltk_data]       date!\n"
     ]
    },
    {
     "data": {
      "text/plain": [
       "True"
      ]
     },
     "execution_count": 17,
     "metadata": {},
     "output_type": "execute_result"
    }
   ],
   "source": [
    "nltk.download('averaged_perceptron_tagger')\n"
   ]
  },
  {
   "cell_type": "markdown",
   "id": "8632d786",
   "metadata": {},
   "source": [
    "# 2. Featuring Engineering\n",
    "- Convert text data to TF-IDF features"
   ]
  },
  {
   "cell_type": "code",
   "execution_count": 18,
   "id": "36b474a7",
   "metadata": {},
   "outputs": [],
   "source": [
    "from sklearn.feature_extraction.text import TfidfVectorizer\n",
    "vectorizer = TfidfVectorizer(max_features=5000)\n",
    "X = vectorizer.fit_transform(df['text']).toarray()\n",
    "y = df['real']"
   ]
  },
  {
   "cell_type": "code",
   "execution_count": 19,
   "id": "01791e2e",
   "metadata": {},
   "outputs": [
    {
     "name": "stdout",
     "output_type": "stream",
     "text": [
      "Shape of X: (23196, 5000)\n",
      "Shape of y: (23196,)\n",
      "First 5 rows of X:\n",
      " [[0. 0. 0. ... 0. 0. 0.]\n",
      " [0. 0. 0. ... 0. 0. 0.]\n",
      " [0. 0. 0. ... 0. 0. 0.]\n",
      " [0. 0. 0. ... 0. 0. 0.]\n",
      " [0. 0. 0. ... 0. 0. 0.]]\n",
      "First 5 values of y:\n",
      " 0    1\n",
      "1    1\n",
      "2    1\n",
      "3    1\n",
      "4    1\n",
      "Name: real, dtype: int64\n"
     ]
    }
   ],
   "source": [
    "# Print X and y shapes\n",
    "print(\"Shape of X:\", X.shape)\n",
    "print(\"Shape of y:\", y.shape)\n",
    "\n",
    "# Print X (first 5 rows) and y (first 5 values) to understand what they contain\n",
    "print(\"First 5 rows of X:\\n\", X[:5])\n",
    "print(\"First 5 values of y:\\n\", y[:5])"
   ]
  },
  {
   "cell_type": "markdown",
   "id": "a80bffb9",
   "metadata": {},
   "source": [
    "## 3. Model Building\n",
    "- Split the dataset into Train, Test, and Validation sets"
   ]
  },
  {
   "cell_type": "code",
   "execution_count": 20,
   "id": "f4b9ec4d",
   "metadata": {},
   "outputs": [],
   "source": [
    "from sklearn.model_selection import train_test_split\n",
    "\n",
    "X_train, X_test, y_train, y_test = train_test_split(X, y, test_size=0.3, random_state=42)\n",
    "X_train, X_val, y_train, y_val = train_test_split(X_train, y_train, test_size=0.33, random_state=42)"
   ]
  },
  {
   "cell_type": "code",
   "execution_count": 21,
   "id": "498ff9d1",
   "metadata": {},
   "outputs": [
    {
     "name": "stdout",
     "output_type": "stream",
     "text": [
      "Train set size: 10878\n",
      "Validation set size: 5359\n",
      "Test set size: 6959\n",
      "7357     1\n",
      "8401     1\n",
      "13564    1\n",
      "2552     0\n",
      "2882     0\n",
      "        ..\n",
      "11439    1\n",
      "7607     1\n",
      "150      1\n",
      "5949     1\n",
      "6745     0\n",
      "Name: real, Length: 10878, dtype: int64\n"
     ]
    }
   ],
   "source": [
    "print(f\"Train set size: {len(X_train)}\")\n",
    "print(f\"Validation set size: {len(X_val)}\")\n",
    "print(f\"Test set size: {len(X_test)}\")\n",
    "\n",
    "print(y_train)"
   ]
  },
  {
   "cell_type": "code",
   "execution_count": 22,
   "id": "b522dcdd",
   "metadata": {},
   "outputs": [
    {
     "name": "stdout",
     "output_type": "stream",
     "text": [
      "Train data size: (10878, 5000)\n"
     ]
    }
   ],
   "source": [
    "print(f'Train data size: {X_train.shape}')"
   ]
  },
  {
   "cell_type": "markdown",
   "id": "3f760975",
   "metadata": {},
   "source": [
    "## 3.1: SVM Model Building\n",
    "- SVM is a powerful classification model that aims to find the optimal hyperplane that best separates the classes."
   ]
  },
  {
   "cell_type": "code",
   "execution_count": 23,
   "id": "bf162cbd",
   "metadata": {},
   "outputs": [],
   "source": [
    "from sklearn.svm import SVC\n",
    "from sklearn.metrics import classification_report"
   ]
  },
  {
   "cell_type": "markdown",
   "id": "a5fb375f",
   "metadata": {},
   "source": [
    "### Initialize SVM classifier"
   ]
  },
  {
   "cell_type": "code",
   "execution_count": 24,
   "id": "b238345b",
   "metadata": {},
   "outputs": [],
   "source": [
    "svm_clf = SVC(kernel='linear', random_state=42)"
   ]
  },
  {
   "cell_type": "markdown",
   "id": "dde37a02",
   "metadata": {},
   "source": [
    "### Train the classifier"
   ]
  },
  {
   "cell_type": "code",
   "execution_count": 25,
   "id": "489b19ff",
   "metadata": {},
   "outputs": [
    {
     "data": {
      "text/plain": [
       "SVC(kernel='linear', random_state=42)"
      ]
     },
     "execution_count": 25,
     "metadata": {},
     "output_type": "execute_result"
    }
   ],
   "source": [
    "svm_clf.fit(X_train, y_train)"
   ]
  },
  {
   "cell_type": "markdown",
   "id": "2f472656",
   "metadata": {},
   "source": [
    "### Predict on the test set"
   ]
  },
  {
   "cell_type": "code",
   "execution_count": 26,
   "id": "52208b45",
   "metadata": {},
   "outputs": [],
   "source": [
    "y_pred = svm_clf.predict(X_test)"
   ]
  },
  {
   "cell_type": "markdown",
   "id": "287cc241",
   "metadata": {},
   "source": [
    "### accuracy score and confusion matrix"
   ]
  },
  {
   "cell_type": "code",
   "execution_count": 27,
   "id": "c4393ef8",
   "metadata": {},
   "outputs": [
    {
     "name": "stdout",
     "output_type": "stream",
     "text": [
      "Accuracy: 0.8274177324328208\n",
      "Confusion Matrix:\n",
      "[[ 819  871]\n",
      " [ 330 4939]]\n",
      "Classification Report:\n",
      "              precision    recall  f1-score   support\n",
      "\n",
      "           0       0.71      0.48      0.58      1690\n",
      "           1       0.85      0.94      0.89      5269\n",
      "\n",
      "    accuracy                           0.83      6959\n",
      "   macro avg       0.78      0.71      0.73      6959\n",
      "weighted avg       0.82      0.83      0.82      6959\n",
      "\n"
     ]
    }
   ],
   "source": [
    "from sklearn.metrics import confusion_matrix, accuracy_score, classification_report\n",
    "\n",
    "accuracy = accuracy_score(y_test, y_pred)\n",
    "print(\"Accuracy:\", accuracy)\n",
    "\n",
    "cm = confusion_matrix(y_test, y_pred)\n",
    "print(\"Confusion Matrix:\")\n",
    "print(cm)\n",
    "\n",
    "print(\"Classification Report:\")\n",
    "print(classification_report(y_test, y_pred))"
   ]
  },
  {
   "cell_type": "markdown",
   "id": "fea0aab1",
   "metadata": {},
   "source": [
    "## 3.2: Random Forest Model Building\n",
    "- Random Forest is an ensemble learning model that builds multiple decision trees and merges them to get a more accurate and stable prediction."
   ]
  },
  {
   "cell_type": "code",
   "execution_count": 28,
   "id": "46c0ee1d",
   "metadata": {},
   "outputs": [],
   "source": [
    "from sklearn.ensemble import RandomForestClassifier"
   ]
  },
  {
   "cell_type": "markdown",
   "id": "b1707ad2",
   "metadata": {},
   "source": [
    "### Initialize Random Forest classifier"
   ]
  },
  {
   "cell_type": "code",
   "execution_count": 29,
   "id": "d860940b",
   "metadata": {},
   "outputs": [],
   "source": [
    "rf_clf = RandomForestClassifier(n_estimators=100, random_state=42)"
   ]
  },
  {
   "cell_type": "markdown",
   "id": "d08b3cd0",
   "metadata": {},
   "source": [
    "### Train the classifier"
   ]
  },
  {
   "cell_type": "code",
   "execution_count": 30,
   "id": "5ab30724",
   "metadata": {},
   "outputs": [
    {
     "data": {
      "text/plain": [
       "RandomForestClassifier(random_state=42)"
      ]
     },
     "execution_count": 30,
     "metadata": {},
     "output_type": "execute_result"
    }
   ],
   "source": [
    "rf_clf.fit(X_train, y_train)"
   ]
  },
  {
   "cell_type": "markdown",
   "id": "539288ae",
   "metadata": {},
   "source": [
    "### Predict on the test set"
   ]
  },
  {
   "cell_type": "code",
   "execution_count": 31,
   "id": "914796fd",
   "metadata": {},
   "outputs": [],
   "source": [
    "y_pred_rf = rf_clf.predict(X_test)"
   ]
  },
  {
   "cell_type": "markdown",
   "id": "f3f10e64",
   "metadata": {},
   "source": [
    "### accuracy score and confusion matrix"
   ]
  },
  {
   "cell_type": "code",
   "execution_count": 32,
   "id": "2070fdab",
   "metadata": {},
   "outputs": [
    {
     "name": "stdout",
     "output_type": "stream",
     "text": [
      "Random Forest Accuracy: 0.8166403218853283\n",
      "Random Forest Confusion Matrix:\n",
      "[[ 820  870]\n",
      " [ 406 4863]]\n",
      "Classification Report:\n",
      "              precision    recall  f1-score   support\n",
      "\n",
      "           0       0.67      0.49      0.56      1690\n",
      "           1       0.85      0.92      0.88      5269\n",
      "\n",
      "    accuracy                           0.82      6959\n",
      "   macro avg       0.76      0.70      0.72      6959\n",
      "weighted avg       0.80      0.82      0.81      6959\n",
      "\n"
     ]
    }
   ],
   "source": [
    "### Calculate the accuracy score\n",
    "accuracy_rf = accuracy_score(y_test, y_pred_rf)\n",
    "print(\"Random Forest Accuracy:\", accuracy_rf)\n",
    "\n",
    "# Generate the confusion matrix\n",
    "cm_rf = confusion_matrix(y_test, y_pred_rf)\n",
    "print(\"Random Forest Confusion Matrix:\")\n",
    "print(cm_rf)\n",
    "\n",
    "print(\"Classification Report:\")\n",
    "print(classification_report(y_test, y_pred_rf))"
   ]
  },
  {
   "cell_type": "markdown",
   "id": "6993151f",
   "metadata": {},
   "source": [
    "## 3.3 Gradient Boosting Model Building\n",
    "- Gradient Boosting is an ensemble technique that builds models sequentially, each trying to correct the errors of the previous one."
   ]
  },
  {
   "cell_type": "code",
   "execution_count": 33,
   "id": "3953240f",
   "metadata": {},
   "outputs": [],
   "source": [
    "from sklearn.ensemble import GradientBoostingClassifier"
   ]
  },
  {
   "cell_type": "markdown",
   "id": "c7c4082c",
   "metadata": {},
   "source": [
    "### Initialize Gradient Boosting classifier"
   ]
  },
  {
   "cell_type": "code",
   "execution_count": 34,
   "id": "460e6ae4",
   "metadata": {},
   "outputs": [],
   "source": [
    "gb_clf = GradientBoostingClassifier(random_state=42)"
   ]
  },
  {
   "cell_type": "markdown",
   "id": "e1e059c2",
   "metadata": {},
   "source": [
    "### Train the classifier"
   ]
  },
  {
   "cell_type": "code",
   "execution_count": 35,
   "id": "fe36506d",
   "metadata": {},
   "outputs": [
    {
     "data": {
      "text/plain": [
       "GradientBoostingClassifier(random_state=42)"
      ]
     },
     "execution_count": 35,
     "metadata": {},
     "output_type": "execute_result"
    }
   ],
   "source": [
    "gb_clf.fit(X_train, y_train)"
   ]
  },
  {
   "cell_type": "markdown",
   "id": "dfccabab",
   "metadata": {},
   "source": [
    "### Predict on the test set"
   ]
  },
  {
   "cell_type": "code",
   "execution_count": 36,
   "id": "7ba73454",
   "metadata": {},
   "outputs": [],
   "source": [
    "y_pred_gb = gb_clf.predict(X_test)"
   ]
  },
  {
   "cell_type": "markdown",
   "id": "63a65b67",
   "metadata": {},
   "source": [
    "### accuracy score and confusion matrix"
   ]
  },
  {
   "cell_type": "code",
   "execution_count": 37,
   "id": "7099cb0b",
   "metadata": {},
   "outputs": [
    {
     "name": "stdout",
     "output_type": "stream",
     "text": [
      "Gradient Boosting Accuracy: 0.8054318149159362\n",
      "Gradient Boosting Confusion Matrix:\n",
      "[[ 466 1224]\n",
      " [ 130 5139]]\n",
      "Gradient Boosting Classification Report:\n",
      "              precision    recall  f1-score   support\n",
      "\n",
      "           0       0.78      0.28      0.41      1690\n",
      "           1       0.81      0.98      0.88      5269\n",
      "\n",
      "    accuracy                           0.81      6959\n",
      "   macro avg       0.79      0.63      0.65      6959\n",
      "weighted avg       0.80      0.81      0.77      6959\n",
      "\n"
     ]
    }
   ],
   "source": [
    "accuracy_gb = accuracy_score(y_test, y_pred_gb)\n",
    "print(\"Gradient Boosting Accuracy:\", accuracy_gb)\n",
    "\n",
    "cm_gb = confusion_matrix(y_test, y_pred_gb)\n",
    "print(\"Gradient Boosting Confusion Matrix:\")\n",
    "print(cm_gb)\n",
    "\n",
    "cr_gb = classification_report(y_test, y_pred_gb)\n",
    "print(\"Gradient Boosting Classification Report:\")\n",
    "print(cr_gb)"
   ]
  },
  {
   "cell_type": "markdown",
   "id": "6a5f4336",
   "metadata": {},
   "source": [
    "# Visualization of Confusion Matrices"
   ]
  },
  {
   "cell_type": "code",
   "execution_count": 38,
   "id": "64a03194",
   "metadata": {},
   "outputs": [
    {
     "data": {
      "image/png": "[encoded data removed]",
      "text/plain": [
       "<Figure size 576x432 with 2 Axes>"
      ]
     },
     "metadata": {
      "needs_background": "light"
     },
     "output_type": "display_data"
    },
    {
     "data": {
      "image/png": "[encoded data removed]",
      "text/plain": [
       "<Figure size 576x432 with 2 Axes>"
      ]
     },
     "metadata": {
      "needs_background": "light"
     },
     "output_type": "display_data"
    },
    {
     "data": {
      "image/png": "[encoded data removed]",
      "text/plain": [
       "<Figure size 576x432 with 2 Axes>"
      ]
     },
     "metadata": {
      "needs_background": "light"
     },
     "output_type": "display_data"
    }
   ],
   "source": [
    "\n",
    "import matplotlib.pyplot as plt\n",
    "import seaborn as sns\n",
    "\n",
    "# Function to plot confusion matrix\n",
    "def plot_confusion_matrix(cm, model_name):\n",
    "    plt.figure(figsize=(8, 6))\n",
    "    sns.heatmap(cm, annot=True, cmap='Blues', fmt='d', annot_kws={'size': 16})\n",
    "    plt.xlabel('Predicted labels')\n",
    "    plt.ylabel('True labels')\n",
    "    plt.title(f'Confusion Matrix - {model_name}')\n",
    "    plt.show()\n",
    "\n",
    "# SVM Confusion Matrix\n",
    "plot_confusion_matrix(cm, 'SVM')\n",
    "\n",
    "# Random Forest Confusion Matrix\n",
    "plot_confusion_matrix(cm_rf, 'Random Forest')\n",
    "\n",
    "# Gradient Boosting Confusion Matrix\n",
    "plot_confusion_matrix(cm_gb, 'Gradient Boosting')\n"
   ]
  },
  {
   "cell_type": "markdown",
   "id": "59a47d54",
   "metadata": {},
   "source": [
    "# Conclusion:\n",
    "- The Support Vector Machine (SVM) model performs best for fake news detection with an accuracy of 0.83 and strong precision, recall, and F1-scores.\n",
    "- The Random Forest model also shows competitive performance with an accuracy of 0.82 but slightly lower recall for class 0 (fake news).\n",
    "- The Gradient Boosting model, while still effective, has the lowest accuracy at 0.80 and a significant drop in recall for class 0.\n",
    "- Overall, SVM is the most balanced and accurate model for this task."
   ]
  },
  {
   "cell_type": "markdown",
   "id": "5c47b0c1",
   "metadata": {},
   "source": []
  },
  {
   "cell_type": "code",
   "execution_count": null,
   "id": "96cd8b7d",
   "metadata": {},
   "outputs": [],
   "source": []
  }
 ],
 "metadata": {
  "kernelspec": {
   "display_name": "Python 3 (ipykernel)",
   "language": "python",
   "name": "python3"
  },
  "language_info": {
   "codemirror_mode": {
    "name": "ipython",
    "version": 3
   },
   "file_extension": ".py",
   "mimetype": "text/x-python",
   "name": "python",
   "nbconvert_exporter": "python",
   "pygments_lexer": "ipython3",
   "version": "3.9.12"
  }
 },
 "nbformat": 4,
 "nbformat_minor": 5
}
