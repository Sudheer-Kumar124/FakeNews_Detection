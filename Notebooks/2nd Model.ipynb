{
 "cells": [
  {
   "cell_type": "markdown",
   "id": "a66bb237-4b99-44b0-af72-f59a6ecd1a38",
   "metadata": {},
   "source": [
    "# Logistic Regression"
   ]
  },
  {
   "cell_type": "markdown",
   "id": "d3a0f458-a2bc-455e-a8c9-a739510112c8",
   "metadata": {},
   "source": [
    "## Import the required libraries"
   ]
  },
  {
   "cell_type": "code",
   "execution_count": 1,
   "id": "3fc64eca-c56c-43ed-b5cb-96c9d7dfee0a",
   "metadata": {},
   "outputs": [],
   "source": [
    "import pandas as pd\n",
    "import numpy as np\n",
    "from sklearn.metrics import mean_squared_error, mean_absolute_error, r2_score\n",
    "from sklearn.model_selection import train_test_split\n",
    "from sklearn.feature_extraction.text import TfidfVectorizer\n",
    "from sklearn.linear_model import LogisticRegression\n",
    "from sklearn.metrics import classification_report, confusion_matrix\n",
    "from sklearn.preprocessing import LabelEncoder\n",
    "import nltk\n",
    "import os"
   ]
  },
  {
   "cell_type": "markdown",
   "id": "f6f99ffb-3be9-4a60-82e4-503b3c7db3ab",
   "metadata": {},
   "source": [
    "## Construct paths using os.path.join"
   ]
  },
  {
   "cell_type": "code",
   "execution_count": 2,
   "id": "bf656c16-2ab6-420e-9c8c-6120970d61fb",
   "metadata": {},
   "outputs": [],
   "source": [
    "true_news_path = os.path.join('..', 'artifacts', 'preprocessed_true.csv')\n",
    "fake_news_path = os.path.join('..', 'artifacts', 'preprocessed_fake.csv')"
   ]
  },
  {
   "cell_type": "markdown",
   "id": "f9d0720a-6736-4b1d-a22a-1eb096226368",
   "metadata": {},
   "source": [
    "## Read the CSV files"
   ]
  },
  {
   "cell_type": "code",
   "execution_count": 3,
   "id": "c3ac91de-9777-4a8e-935e-4d9852af5746",
   "metadata": {},
   "outputs": [],
   "source": [
    "true_news = pd.read_csv(true_news_path)\n",
    "fake_news = pd.read_csv(fake_news_path)"
   ]
  },
  {
   "cell_type": "markdown",
   "id": "f9f56e99-f1b8-4671-b1ca-0644cbb522e8",
   "metadata": {},
   "source": [
    "## Add a label column to each dataframe"
   ]
  },
  {
   "cell_type": "code",
   "execution_count": 4,
   "id": "1d5d444a-19a3-49fd-bd66-4cd220d16159",
   "metadata": {},
   "outputs": [],
   "source": [
    "true_news['label'] = 'true'\n",
    "fake_news['label'] = 'fake'"
   ]
  },
  {
   "cell_type": "markdown",
   "id": "3ce80b65-6b07-4024-89ac-16bfc67755d6",
   "metadata": {},
   "source": [
    "## Combine the datasets"
   ]
  },
  {
   "cell_type": "code",
   "execution_count": 5,
   "id": "e9aee49f-b8a5-4855-954d-02e3e222f439",
   "metadata": {},
   "outputs": [],
   "source": [
    "data = pd.concat([true_news, fake_news])"
   ]
  },
  {
   "cell_type": "markdown",
   "id": "b119b808-3a82-446b-b202-d1f997dddeac",
   "metadata": {},
   "source": [
    "## Display first few rows"
   ]
  },
  {
   "cell_type": "code",
   "execution_count": 6,
   "id": "821074dc-f981-4d98-b5e8-fb20cfec25f1",
   "metadata": {},
   "outputs": [
    {
     "name": "stdout",
     "output_type": "stream",
     "text": [
      "                                               title  \\\n",
      "0  Obama paints Trump as no friend of the working...   \n",
      "1  Justice Department seeks warrant to seize anci...   \n",
      "2  Democratic nomination will likely be won in Ma...   \n",
      "3  Kurds say reject Iraqi warning to withdraw fro...   \n",
      "4  Peru's central bank chief says Trump gives him...   \n",
      "\n",
      "                                                text       subject  \\\n",
      "0  philadelphia reuters hillary clinton sidelined...  politicsNews   \n",
      "1  washington reuters u justice department said w...  politicsNews   \n",
      "2  new york reuters hillary clinton ’ campaign ma...  politicsNews   \n",
      "3  baghdad reuters kurdish peshmerga fighter reje...     worldnews   \n",
      "4  lima reuters head peru ’ central bank said wed...  politicsNews   \n",
      "\n",
      "                  date label  \n",
      "0  September 13, 2016   true  \n",
      "1    December 6, 2017   true  \n",
      "2   February 10, 2016   true  \n",
      "3    October 14, 2017   true  \n",
      "4   September 8, 2016   true  \n"
     ]
    }
   ],
   "source": [
    "print(data.head())"
   ]
  },
  {
   "cell_type": "markdown",
   "id": "44079327-b6bc-4897-875e-da931dc5c9e4",
   "metadata": {},
   "source": [
    "## Check for missing values"
   ]
  },
  {
   "cell_type": "code",
   "execution_count": 7,
   "id": "afd5ff3e-f3b5-424a-9f42-668469ae20f5",
   "metadata": {},
   "outputs": [
    {
     "name": "stdout",
     "output_type": "stream",
     "text": [
      "title        0\n",
      "text       632\n",
      "subject      0\n",
      "date         0\n",
      "label        0\n",
      "dtype: int64\n"
     ]
    }
   ],
   "source": [
    "print(data.isnull().sum())"
   ]
  },
  {
   "cell_type": "markdown",
   "id": "1aadc6eb-6a06-4262-b8db-b7d6033c9e4d",
   "metadata": {},
   "source": [
    "## Drop rows with missing 'text' or 'title' values"
   ]
  },
  {
   "cell_type": "code",
   "execution_count": 8,
   "id": "9b361018-08d8-4ce4-9392-d10d3b5a645b",
   "metadata": {},
   "outputs": [],
   "source": [
    "data = data.dropna(subset=['text', 'title'])"
   ]
  },
  {
   "cell_type": "markdown",
   "id": "0409c474-44d1-4eef-b283-4e58daaf975a",
   "metadata": {},
   "source": [
    "## Combine 'title' and 'text' for vectorization"
   ]
  },
  {
   "cell_type": "code",
   "execution_count": 9,
   "id": "ab4a6908-9403-4e08-87d5-f6848ad0bef7",
   "metadata": {},
   "outputs": [],
   "source": [
    "data['combined_text'] = data['title'] + ' ' + data['text']"
   ]
  },
  {
   "cell_type": "markdown",
   "id": "0baf0012-40fd-49c3-8385-d433d706b125",
   "metadata": {},
   "source": [
    "## Encode labels"
   ]
  },
  {
   "cell_type": "code",
   "execution_count": 10,
   "id": "38055f71-e9af-4492-a0c8-4c66cb2b8afc",
   "metadata": {},
   "outputs": [],
   "source": [
    "label_encoder = LabelEncoder()\n",
    "data['label'] = label_encoder.fit_transform(data['label'])"
   ]
  },
  {
   "cell_type": "markdown",
   "id": "8df90edc-04e9-4255-a49c-ae612c706f3b",
   "metadata": {},
   "source": [
    "## Split the data"
   ]
  },
  {
   "cell_type": "code",
   "execution_count": 11,
   "id": "946e9a31-6365-49ce-8776-17de097ecdad",
   "metadata": {},
   "outputs": [],
   "source": [
    "train_data, temp_data = train_test_split(data, test_size=0.3, random_state=42)\n",
    "test_data, val_data = train_test_split(temp_data, test_size=0.33, random_state=42)"
   ]
  },
  {
   "cell_type": "markdown",
   "id": "82413f28-aeec-45a4-b81c-89c8764677bf",
   "metadata": {},
   "source": [
    "## Display the size of each split"
   ]
  },
  {
   "cell_type": "code",
   "execution_count": 12,
   "id": "97209ddb-67c7-46e8-a0a1-4c63f1d8469c",
   "metadata": {},
   "outputs": [
    {
     "name": "stdout",
     "output_type": "stream",
     "text": [
      "Train data size: (30986, 6)\n",
      "Test data size: (8897, 6)\n",
      "Validation data size: (4383, 6)\n"
     ]
    }
   ],
   "source": [
    "print(f'Train data size: {train_data.shape}')\n",
    "print(f'Test data size: {test_data.shape}')\n",
    "print(f'Validation data size: {val_data.shape}')"
   ]
  },
  {
   "cell_type": "markdown",
   "id": "6feb4a9d-2ad8-4da6-8fb9-6a922d69bf5b",
   "metadata": {},
   "source": [
    "## Vectorize the text data"
   ]
  },
  {
   "cell_type": "code",
   "execution_count": 13,
   "id": "2b73fa6a-0182-461e-85fe-087640439d7d",
   "metadata": {},
   "outputs": [],
   "source": [
    "vectorizer = TfidfVectorizer(max_features=5000, stop_words='english')\n",
    "X_train = vectorizer.fit_transform(train_data['combined_text'])\n",
    "X_test = vectorizer.transform(test_data['combined_text'])\n",
    "X_val = vectorizer.transform(val_data['combined_text'])\n",
    "\n",
    "y_train = train_data['label']\n",
    "y_test = test_data['label']\n",
    "y_val = val_data['label']"
   ]
  },
  {
   "cell_type": "markdown",
   "id": "dfe8258f-ea9b-460c-9e86-e5d71e212309",
   "metadata": {},
   "source": [
    "## Example with custom parameters"
   ]
  },
  {
   "cell_type": "code",
   "execution_count": 14,
   "id": "cfceedc5-9f3c-40eb-b260-81d4531a68bb",
   "metadata": {},
   "outputs": [
    {
     "data": {
      "text/html": [
       "<style>#sk-container-id-1 {color: black;background-color: white;}#sk-container-id-1 pre{padding: 0;}#sk-container-id-1 div.sk-toggleable {background-color: white;}#sk-container-id-1 label.sk-toggleable__label {cursor: pointer;display: block;width: 100%;margin-bottom: 0;padding: 0.3em;box-sizing: border-box;text-align: center;}#sk-container-id-1 label.sk-toggleable__label-arrow:before {content: \"▸\";float: left;margin-right: 0.25em;color: #696969;}#sk-container-id-1 label.sk-toggleable__label-arrow:hover:before {color: black;}#sk-container-id-1 div.sk-estimator:hover label.sk-toggleable__label-arrow:before {color: black;}#sk-container-id-1 div.sk-toggleable__content {max-height: 0;max-width: 0;overflow: hidden;text-align: left;background-color: #f0f8ff;}#sk-container-id-1 div.sk-toggleable__content pre {margin: 0.2em;color: black;border-radius: 0.25em;background-color: #f0f8ff;}#sk-container-id-1 input.sk-toggleable__control:checked~div.sk-toggleable__content {max-height: 200px;max-width: 100%;overflow: auto;}#sk-container-id-1 input.sk-toggleable__control:checked~label.sk-toggleable__label-arrow:before {content: \"▾\";}#sk-container-id-1 div.sk-estimator input.sk-toggleable__control:checked~label.sk-toggleable__label {background-color: #d4ebff;}#sk-container-id-1 div.sk-label input.sk-toggleable__control:checked~label.sk-toggleable__label {background-color: #d4ebff;}#sk-container-id-1 input.sk-hidden--visually {border: 0;clip: rect(1px 1px 1px 1px);clip: rect(1px, 1px, 1px, 1px);height: 1px;margin: -1px;overflow: hidden;padding: 0;position: absolute;width: 1px;}#sk-container-id-1 div.sk-estimator {font-family: monospace;background-color: #f0f8ff;border: 1px dotted black;border-radius: 0.25em;box-sizing: border-box;margin-bottom: 0.5em;}#sk-container-id-1 div.sk-estimator:hover {background-color: #d4ebff;}#sk-container-id-1 div.sk-parallel-item::after {content: \"\";width: 100%;border-bottom: 1px solid gray;flex-grow: 1;}#sk-container-id-1 div.sk-label:hover label.sk-toggleable__label {background-color: #d4ebff;}#sk-container-id-1 div.sk-serial::before {content: \"\";position: absolute;border-left: 1px solid gray;box-sizing: border-box;top: 0;bottom: 0;left: 50%;z-index: 0;}#sk-container-id-1 div.sk-serial {display: flex;flex-direction: column;align-items: center;background-color: white;padding-right: 0.2em;padding-left: 0.2em;position: relative;}#sk-container-id-1 div.sk-item {position: relative;z-index: 1;}#sk-container-id-1 div.sk-parallel {display: flex;align-items: stretch;justify-content: center;background-color: white;position: relative;}#sk-container-id-1 div.sk-item::before, #sk-container-id-1 div.sk-parallel-item::before {content: \"\";position: absolute;border-left: 1px solid gray;box-sizing: border-box;top: 0;bottom: 0;left: 50%;z-index: -1;}#sk-container-id-1 div.sk-parallel-item {display: flex;flex-direction: column;z-index: 1;position: relative;background-color: white;}#sk-container-id-1 div.sk-parallel-item:first-child::after {align-self: flex-end;width: 50%;}#sk-container-id-1 div.sk-parallel-item:last-child::after {align-self: flex-start;width: 50%;}#sk-container-id-1 div.sk-parallel-item:only-child::after {width: 0;}#sk-container-id-1 div.sk-dashed-wrapped {border: 1px dashed gray;margin: 0 0.4em 0.5em 0.4em;box-sizing: border-box;padding-bottom: 0.4em;background-color: white;}#sk-container-id-1 div.sk-label label {font-family: monospace;font-weight: bold;display: inline-block;line-height: 1.2em;}#sk-container-id-1 div.sk-label-container {text-align: center;}#sk-container-id-1 div.sk-container {/* jupyter's `normalize.less` sets `[hidden] { display: none; }` but bootstrap.min.css set `[hidden] { display: none !important; }` so we also need the `!important` here to be able to override the default hidden behavior on the sphinx rendered scikit-learn.org. See: https://github.com/scikit-learn/scikit-learn/issues/21755 */display: inline-block !important;position: relative;}#sk-container-id-1 div.sk-text-repr-fallback {display: none;}</style><div id=\"sk-container-id-1\" class=\"sk-top-container\"><div class=\"sk-text-repr-fallback\"><pre>LogisticRegression(random_state=42)</pre><b>In a Jupyter environment, please rerun this cell to show the HTML representation or trust the notebook. <br />On GitHub, the HTML representation is unable to render, please try loading this page with nbviewer.org.</b></div><div class=\"sk-container\" hidden><div class=\"sk-item\"><div class=\"sk-estimator sk-toggleable\"><input class=\"sk-toggleable__control sk-hidden--visually\" id=\"sk-estimator-id-1\" type=\"checkbox\" checked><label for=\"sk-estimator-id-1\" class=\"sk-toggleable__label sk-toggleable__label-arrow\">LogisticRegression</label><div class=\"sk-toggleable__content\"><pre>LogisticRegression(random_state=42)</pre></div></div></div></div></div>"
      ],
      "text/plain": [
       "LogisticRegression(random_state=42)"
      ]
     },
     "execution_count": 14,
     "metadata": {},
     "output_type": "execute_result"
    }
   ],
   "source": [
    "model = LogisticRegression(penalty='l2', C=1.0, solver='lbfgs', random_state=42)\n",
    "model.fit(X_train, y_train)"
   ]
  },
  {
   "cell_type": "markdown",
   "id": "60528a0f-3288-4900-8fd1-6029ffbfbbb4",
   "metadata": {},
   "source": [
    "## Make predictions"
   ]
  },
  {
   "cell_type": "code",
   "execution_count": 15,
   "id": "ff58d36b-0375-421b-b31d-bdeb401c91d0",
   "metadata": {},
   "outputs": [],
   "source": [
    "y_pred_train = model.predict(X_train)\n",
    "y_pred_test = model.predict(X_test)\n",
    "y_pred_val = model.predict(X_val)"
   ]
  },
  {
   "cell_type": "markdown",
   "id": "621a4130-896e-4915-ad98-6f34a6d49f22",
   "metadata": {},
   "source": [
    "## Evaluate the model"
   ]
  },
  {
   "cell_type": "code",
   "execution_count": 16,
   "id": "ea0347b1-b5c9-45e7-a795-2b446dc821d5",
   "metadata": {},
   "outputs": [
    {
     "name": "stdout",
     "output_type": "stream",
     "text": [
      "Training Data Evaluation\n",
      "              precision    recall  f1-score   support\n",
      "\n",
      "           0       0.99      0.99      0.99     16001\n",
      "           1       0.99      0.99      0.99     14985\n",
      "\n",
      "    accuracy                           0.99     30986\n",
      "   macro avg       0.99      0.99      0.99     30986\n",
      "weighted avg       0.99      0.99      0.99     30986\n",
      "\n",
      "[[15824   177]\n",
      " [  114 14871]]\n",
      "Test Data Evaluation\n",
      "              precision    recall  f1-score   support\n",
      "\n",
      "           0       0.99      0.98      0.99      4593\n",
      "           1       0.98      0.99      0.98      4304\n",
      "\n",
      "    accuracy                           0.99      8897\n",
      "   macro avg       0.99      0.99      0.99      8897\n",
      "weighted avg       0.99      0.99      0.99      8897\n",
      "\n",
      "[[4515   78]\n",
      " [  52 4252]]\n",
      "Validation Data Evaluation\n",
      "              precision    recall  f1-score   support\n",
      "\n",
      "           0       0.99      0.98      0.99      2256\n",
      "           1       0.98      0.99      0.99      2127\n",
      "\n",
      "    accuracy                           0.99      4383\n",
      "   macro avg       0.99      0.99      0.99      4383\n",
      "weighted avg       0.99      0.99      0.99      4383\n",
      "\n",
      "[[2220   36]\n",
      " [  23 2104]]\n"
     ]
    }
   ],
   "source": [
    "print(\"Training Data Evaluation\")\n",
    "print(classification_report(y_train, y_pred_train))\n",
    "print(confusion_matrix(y_train, y_pred_train))\n",
    "\n",
    "print(\"Test Data Evaluation\")\n",
    "print(classification_report(y_test, y_pred_test))\n",
    "print(confusion_matrix(y_test, y_pred_test))\n",
    "\n",
    "print(\"Validation Data Evaluation\")\n",
    "print(classification_report(y_val, y_pred_val))\n",
    "print(confusion_matrix(y_val, y_pred_val))"
   ]
  },
  {
   "cell_type": "markdown",
   "id": "605d52db-f673-48cc-8205-44da9167a265",
   "metadata": {},
   "source": [
    "## Assuming you have predicted values y_pred and actual values y_true"
   ]
  },
  {
   "cell_type": "code",
   "execution_count": 17,
   "id": "121ed1f4-4e73-465e-9f98-694563af36e8",
   "metadata": {},
   "outputs": [],
   "source": [
    "y_pred = model.predict(X_test)\n",
    "y_true = y_test  # Assuming y_test is the true labels"
   ]
  },
  {
   "cell_type": "markdown",
   "id": "f8a2d6d0-46e9-4178-8a90-10a84132e89e",
   "metadata": {},
   "source": [
    "## Function to calculate metrics"
   ]
  },
  {
   "cell_type": "code",
   "execution_count": 18,
   "id": "ee364757-d3aa-43c0-8255-754e90c4de7f",
   "metadata": {},
   "outputs": [],
   "source": [
    "def model_evaluation(y_true, y_pred):\n",
    "    mae = mean_absolute_error(y_true, y_pred)\n",
    "    rmse = np.sqrt(mean_squared_error(y_true, y_pred))\n",
    "    r2 = r2_score(y_true, y_pred)\n",
    "    return mae, rmse, r2"
   ]
  },
  {
   "cell_type": "markdown",
   "id": "7c38dffc-66f1-49d6-b25f-a740e9162cb4",
   "metadata": {},
   "source": [
    "## Calculate metrics"
   ]
  },
  {
   "cell_type": "code",
   "execution_count": 19,
   "id": "f3fe4f7c-7994-474d-8998-d5278222837f",
   "metadata": {},
   "outputs": [],
   "source": [
    "mae, rmse, r2_square = model_evaluation(y_true, y_pred)"
   ]
  },
  {
   "cell_type": "markdown",
   "id": "cde40969-10e2-4bc1-92d5-f1f813ec0003",
   "metadata": {},
   "source": [
    "## Print the results in the desired format"
   ]
  },
  {
   "cell_type": "code",
   "execution_count": 20,
   "id": "1d7d08ab-0014-41c0-8bb5-87ad42a9e11d",
   "metadata": {},
   "outputs": [
    {
     "name": "stdout",
     "output_type": "stream",
     "text": [
      "Model Training Performance\n",
      "RMSE: 0.12087872788044937\n",
      "MAE: 0.014611666853995729\n",
      "R2 score: 94.14915982540103\n",
      "***********************************\n",
      "\n",
      "\n"
     ]
    }
   ],
   "source": [
    "print(\"Model Training Performance\")\n",
    "print(\"RMSE:\", rmse)\n",
    "print(\"MAE:\", mae)\n",
    "print(\"R2 score:\", r2_square * 100)\n",
    "\n",
    "print('*' * 35)\n",
    "print('\\n')"
   ]
  }
 ],
 "metadata": {
  "kernelspec": {
   "display_name": "Python 3 (ipykernel)",
   "language": "python",
   "name": "python3"
  },
  "language_info": {
   "codemirror_mode": {
    "name": "ipython",
    "version": 3
   },
   "file_extension": ".py",
   "mimetype": "text/x-python",
   "name": "python",
   "nbconvert_exporter": "python",
   "pygments_lexer": "ipython3",
   "version": "3.11.7"
  }
 },
 "nbformat": 4,
 "nbformat_minor": 5
}
