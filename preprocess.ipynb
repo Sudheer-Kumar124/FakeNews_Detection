{
 "cells": [
  {
   "cell_type": "code",
   "execution_count": 39,
   "metadata": {},
   "outputs": [
    {
     "name": "stderr",
     "output_type": "stream",
     "text": [
      "C:\\Users\\ankit\\AppData\\Local\\Packages\\PythonSoftwareFoundation.Python.3.11_qbz5n2kfra8p0\\LocalCache\\local-packages\\Python311\\site-packages\\tqdm\\auto.py:21: TqdmWarning: IProgress not found. Please update jupyter and ipywidgets. See https://ipywidgets.readthedocs.io/en/stable/user_install.html\n",
      "  from .autonotebook import tqdm as notebook_tqdm\n"
     ]
    }
   ],
   "source": [
    "import pandas as pd\n",
    "import re\n",
    "import nltk\n",
    "from nltk.corpus import stopwords\n",
    "from nltk.stem import WordNetLemmatizer\n",
    "from sklearn.feature_extraction.text import TfidfVectorizer\n",
    "from sklearn.ensemble import RandomForestClassifier\n",
    "from sklearn.svm import SVC\n",
    "from sklearn.model_selection import train_test_split\n",
    "from sklearn.metrics import accuracy_score, classification_report\n",
    "from keras.preprocessing.text import Tokenizer\n",
    "from keras.preprocessing.sequence import pad_sequences\n",
    "from keras.models import Sequential\n",
    "from keras.layers import Embedding, LSTM, Dense, Dropout\n",
    "from transformers import BertTokenizer, BertForSequenceClassification, Trainer, TrainingArguments\n",
    "from transformers import DataCollatorWithPadding\n",
    "from torch.utils.data import Dataset, DataLoader"
   ]
  },
  {
   "cell_type": "code",
   "execution_count": 2,
   "metadata": {},
   "outputs": [],
   "source": [
    "# Load the datasets\n",
    "true_df = pd.read_csv('True.csv')\n",
    "fake_df = pd.read_csv('Fake.csv')"
   ]
  },
  {
   "cell_type": "code",
   "execution_count": 3,
   "metadata": {},
   "outputs": [],
   "source": [
    "# Add a column to label the data\n",
    "true_df['label'] = 0\n",
    "fake_df['label'] = 1"
   ]
  },
  {
   "cell_type": "code",
   "execution_count": 4,
   "metadata": {},
   "outputs": [],
   "source": [
    "# Combine the datasets\n",
    "combined_df = pd.concat([true_df, fake_df], ignore_index=True)\n",
    "\n",
    "# Shuffle the combined dataset (optional)\n",
    "combined_df = combined_df.sample(frac=1).reset_index(drop=True)\n",
    "\n",
    "# Save the combined dataset to a new CSV file\n",
    "combined_df.to_csv('Combined.csv', index=False)"
   ]
  },
  {
   "cell_type": "code",
   "execution_count": 5,
   "metadata": {},
   "outputs": [
    {
     "data": {
      "text/plain": [
       "(44898, 5)"
      ]
     },
     "execution_count": 5,
     "metadata": {},
     "output_type": "execute_result"
    }
   ],
   "source": [
    "combined_df.shape"
   ]
  },
  {
   "cell_type": "code",
   "execution_count": 6,
   "metadata": {},
   "outputs": [
    {
     "data": {
      "text/plain": [
       "<bound method NDFrame.head of                                                    title  \\\n",
       "0      Windows 10 is Stealing Your Bandwidth (You Mig...   \n",
       "1      Kenya president: elections will go ahead despi...   \n",
       "2       Cher Does NOT Hold Back On Twitter As She Cal...   \n",
       "3      U.S.-backed campaign against IS in eastern Syr...   \n",
       "4      Puerto Rico oversight board orders furloughs, ...   \n",
       "...                                                  ...   \n",
       "44893  US Senate Majority Leader: 'Be careful' implem...   \n",
       "44894  Incoming New Zealand government to review cent...   \n",
       "44895   Watch Megyn Kelly Prove She Has No Idea How T...   \n",
       "44896  New Jersey's Murphy echoes Sanders in Democrat...   \n",
       "44897  Vocal, powerful critic of Wall Street rules le...   \n",
       "\n",
       "                                                    text       subject  \\\n",
       "0      21st Century Wire says We ve heard a lot of no...       US_News   \n",
       "1      NAIROBI (Reuters) - Kenyan President Uhuru Ken...     worldnews   \n",
       "2      When it comes to the safety of our drinking wa...          News   \n",
       "3      BEIRUT (Reuters) - A U.S.-backed campaign agai...     worldnews   \n",
       "4      (Reuters) - Puerto Rico’s federally appointed ...  politicsNews   \n",
       "...                                                  ...           ...   \n",
       "44893  WASHINGTON (Reuters) - U.S. Senate Majority Le...  politicsNews   \n",
       "44894  WELLINGTON (Reuters) - New Zealand s new gover...     worldnews   \n",
       "44895  On Friday night, Megyn Kelly decided to weigh ...          News   \n",
       "44896  EDISON, N.J. (Reuters) - Phil Murphy, a wealth...  politicsNews   \n",
       "44897  WASHINGTON (Reuters) - Representative Jeb Hens...  politicsNews   \n",
       "\n",
       "                    date  label  \n",
       "0          April 7, 2016      1  \n",
       "1      October 10, 2017       0  \n",
       "2        January 7, 2016      1  \n",
       "3      October 18, 2017       0  \n",
       "4        August 4, 2017       0  \n",
       "...                  ...    ...  \n",
       "44893  January 29, 2017       0  \n",
       "44894  October 23, 2017       0  \n",
       "44895     March 12, 2016      1  \n",
       "44896  October 23, 2017       0  \n",
       "44897  October 31, 2017       0  \n",
       "\n",
       "[44898 rows x 5 columns]>"
      ]
     },
     "execution_count": 6,
     "metadata": {},
     "output_type": "execute_result"
    }
   ],
   "source": [
    "combined_df.head"
   ]
  },
  {
   "cell_type": "code",
   "execution_count": 7,
   "metadata": {},
   "outputs": [
    {
     "data": {
      "text/plain": [
       "<bound method NDFrame.describe of                                                    title  \\\n",
       "0      Windows 10 is Stealing Your Bandwidth (You Mig...   \n",
       "1      Kenya president: elections will go ahead despi...   \n",
       "2       Cher Does NOT Hold Back On Twitter As She Cal...   \n",
       "3      U.S.-backed campaign against IS in eastern Syr...   \n",
       "4      Puerto Rico oversight board orders furloughs, ...   \n",
       "...                                                  ...   \n",
       "44893  US Senate Majority Leader: 'Be careful' implem...   \n",
       "44894  Incoming New Zealand government to review cent...   \n",
       "44895   Watch Megyn Kelly Prove She Has No Idea How T...   \n",
       "44896  New Jersey's Murphy echoes Sanders in Democrat...   \n",
       "44897  Vocal, powerful critic of Wall Street rules le...   \n",
       "\n",
       "                                                    text       subject  \\\n",
       "0      21st Century Wire says We ve heard a lot of no...       US_News   \n",
       "1      NAIROBI (Reuters) - Kenyan President Uhuru Ken...     worldnews   \n",
       "2      When it comes to the safety of our drinking wa...          News   \n",
       "3      BEIRUT (Reuters) - A U.S.-backed campaign agai...     worldnews   \n",
       "4      (Reuters) - Puerto Rico’s federally appointed ...  politicsNews   \n",
       "...                                                  ...           ...   \n",
       "44893  WASHINGTON (Reuters) - U.S. Senate Majority Le...  politicsNews   \n",
       "44894  WELLINGTON (Reuters) - New Zealand s new gover...     worldnews   \n",
       "44895  On Friday night, Megyn Kelly decided to weigh ...          News   \n",
       "44896  EDISON, N.J. (Reuters) - Phil Murphy, a wealth...  politicsNews   \n",
       "44897  WASHINGTON (Reuters) - Representative Jeb Hens...  politicsNews   \n",
       "\n",
       "                    date  label  \n",
       "0          April 7, 2016      1  \n",
       "1      October 10, 2017       0  \n",
       "2        January 7, 2016      1  \n",
       "3      October 18, 2017       0  \n",
       "4        August 4, 2017       0  \n",
       "...                  ...    ...  \n",
       "44893  January 29, 2017       0  \n",
       "44894  October 23, 2017       0  \n",
       "44895     March 12, 2016      1  \n",
       "44896  October 23, 2017       0  \n",
       "44897  October 31, 2017       0  \n",
       "\n",
       "[44898 rows x 5 columns]>"
      ]
     },
     "execution_count": 7,
     "metadata": {},
     "output_type": "execute_result"
    }
   ],
   "source": [
    "combined_df.describe"
   ]
  },
  {
   "cell_type": "markdown",
   "metadata": {},
   "source": [
    "Data Preprocessing\n",
    "1) Lower Case\n",
    "2) Removing links\n",
    "3) Removing next lines (\\n)\n",
    "4) Words containing numbers\n",
    "5) Extra spaces\n",
    "6) Special characters\n",
    "7) Removal of stop words\n",
    "8) Stemming\n",
    "9) Lemmatization"
   ]
  },
  {
   "cell_type": "code",
   "execution_count": 8,
   "metadata": {},
   "outputs": [
    {
     "data": {
      "text/html": [
       "<div>\n",
       "<style scoped>\n",
       "    .dataframe tbody tr th:only-of-type {\n",
       "        vertical-align: middle;\n",
       "    }\n",
       "\n",
       "    .dataframe tbody tr th {\n",
       "        vertical-align: top;\n",
       "    }\n",
       "\n",
       "    .dataframe thead th {\n",
       "        text-align: right;\n",
       "    }\n",
       "</style>\n",
       "<table border=\"1\" class=\"dataframe\">\n",
       "  <thead>\n",
       "    <tr style=\"text-align: right;\">\n",
       "      <th></th>\n",
       "      <th>title</th>\n",
       "      <th>text</th>\n",
       "      <th>subject</th>\n",
       "      <th>date</th>\n",
       "      <th>label</th>\n",
       "    </tr>\n",
       "  </thead>\n",
       "  <tbody>\n",
       "    <tr>\n",
       "      <th>0</th>\n",
       "      <td>Windows 10 is Stealing Your Bandwidth (You Mig...</td>\n",
       "      <td>21st century wire says we ve heard a lot of no...</td>\n",
       "      <td>US_News</td>\n",
       "      <td>April 7, 2016</td>\n",
       "      <td>1</td>\n",
       "    </tr>\n",
       "    <tr>\n",
       "      <th>1</th>\n",
       "      <td>Kenya president: elections will go ahead despi...</td>\n",
       "      <td>nairobi (reuters) - kenyan president uhuru ken...</td>\n",
       "      <td>worldnews</td>\n",
       "      <td>October 10, 2017</td>\n",
       "      <td>0</td>\n",
       "    </tr>\n",
       "    <tr>\n",
       "      <th>2</th>\n",
       "      <td>Cher Does NOT Hold Back On Twitter As She Cal...</td>\n",
       "      <td>when it comes to the safety of our drinking wa...</td>\n",
       "      <td>News</td>\n",
       "      <td>January 7, 2016</td>\n",
       "      <td>1</td>\n",
       "    </tr>\n",
       "    <tr>\n",
       "      <th>3</th>\n",
       "      <td>U.S.-backed campaign against IS in eastern Syr...</td>\n",
       "      <td>beirut (reuters) - a u.s.-backed campaign agai...</td>\n",
       "      <td>worldnews</td>\n",
       "      <td>October 18, 2017</td>\n",
       "      <td>0</td>\n",
       "    </tr>\n",
       "    <tr>\n",
       "      <th>4</th>\n",
       "      <td>Puerto Rico oversight board orders furloughs, ...</td>\n",
       "      <td>(reuters) - puerto rico’s federally appointed ...</td>\n",
       "      <td>politicsNews</td>\n",
       "      <td>August 4, 2017</td>\n",
       "      <td>0</td>\n",
       "    </tr>\n",
       "  </tbody>\n",
       "</table>\n",
       "</div>"
      ],
      "text/plain": [
       "                                               title  \\\n",
       "0  Windows 10 is Stealing Your Bandwidth (You Mig...   \n",
       "1  Kenya president: elections will go ahead despi...   \n",
       "2   Cher Does NOT Hold Back On Twitter As She Cal...   \n",
       "3  U.S.-backed campaign against IS in eastern Syr...   \n",
       "4  Puerto Rico oversight board orders furloughs, ...   \n",
       "\n",
       "                                                text       subject  \\\n",
       "0  21st century wire says we ve heard a lot of no...       US_News   \n",
       "1  nairobi (reuters) - kenyan president uhuru ken...     worldnews   \n",
       "2  when it comes to the safety of our drinking wa...          News   \n",
       "3  beirut (reuters) - a u.s.-backed campaign agai...     worldnews   \n",
       "4  (reuters) - puerto rico’s federally appointed ...  politicsNews   \n",
       "\n",
       "                date  label  \n",
       "0      April 7, 2016      1  \n",
       "1  October 10, 2017       0  \n",
       "2    January 7, 2016      1  \n",
       "3  October 18, 2017       0  \n",
       "4    August 4, 2017       0  "
      ]
     },
     "execution_count": 8,
     "metadata": {},
     "output_type": "execute_result"
    }
   ],
   "source": [
    "#converting column \"text\" to lower case\n",
    "\n",
    "combined_df['text'] = combined_df['text'].apply(lambda x: \" \".join(x.lower() for x in x.split()))\n",
    "combined_df.head()"
   ]
  },
  {
   "cell_type": "code",
   "execution_count": 9,
   "metadata": {},
   "outputs": [
    {
     "data": {
      "text/html": [
       "<div>\n",
       "<style scoped>\n",
       "    .dataframe tbody tr th:only-of-type {\n",
       "        vertical-align: middle;\n",
       "    }\n",
       "\n",
       "    .dataframe tbody tr th {\n",
       "        vertical-align: top;\n",
       "    }\n",
       "\n",
       "    .dataframe thead th {\n",
       "        text-align: right;\n",
       "    }\n",
       "</style>\n",
       "<table border=\"1\" class=\"dataframe\">\n",
       "  <thead>\n",
       "    <tr style=\"text-align: right;\">\n",
       "      <th></th>\n",
       "      <th>title</th>\n",
       "      <th>text</th>\n",
       "      <th>subject</th>\n",
       "      <th>date</th>\n",
       "      <th>label</th>\n",
       "    </tr>\n",
       "  </thead>\n",
       "  <tbody>\n",
       "    <tr>\n",
       "      <th>0</th>\n",
       "      <td>windows 10 is stealing your bandwidth (you mig...</td>\n",
       "      <td>21st century wire says we ve heard a lot of no...</td>\n",
       "      <td>US_News</td>\n",
       "      <td>April 7, 2016</td>\n",
       "      <td>1</td>\n",
       "    </tr>\n",
       "    <tr>\n",
       "      <th>1</th>\n",
       "      <td>kenya president: elections will go ahead despi...</td>\n",
       "      <td>nairobi (reuters) - kenyan president uhuru ken...</td>\n",
       "      <td>worldnews</td>\n",
       "      <td>October 10, 2017</td>\n",
       "      <td>0</td>\n",
       "    </tr>\n",
       "    <tr>\n",
       "      <th>2</th>\n",
       "      <td>cher does not hold back on twitter as she call...</td>\n",
       "      <td>when it comes to the safety of our drinking wa...</td>\n",
       "      <td>News</td>\n",
       "      <td>January 7, 2016</td>\n",
       "      <td>1</td>\n",
       "    </tr>\n",
       "    <tr>\n",
       "      <th>3</th>\n",
       "      <td>u.s.-backed campaign against is in eastern syr...</td>\n",
       "      <td>beirut (reuters) - a u.s.-backed campaign agai...</td>\n",
       "      <td>worldnews</td>\n",
       "      <td>October 18, 2017</td>\n",
       "      <td>0</td>\n",
       "    </tr>\n",
       "    <tr>\n",
       "      <th>4</th>\n",
       "      <td>puerto rico oversight board orders furloughs, ...</td>\n",
       "      <td>(reuters) - puerto rico’s federally appointed ...</td>\n",
       "      <td>politicsNews</td>\n",
       "      <td>August 4, 2017</td>\n",
       "      <td>0</td>\n",
       "    </tr>\n",
       "  </tbody>\n",
       "</table>\n",
       "</div>"
      ],
      "text/plain": [
       "                                               title  \\\n",
       "0  windows 10 is stealing your bandwidth (you mig...   \n",
       "1  kenya president: elections will go ahead despi...   \n",
       "2  cher does not hold back on twitter as she call...   \n",
       "3  u.s.-backed campaign against is in eastern syr...   \n",
       "4  puerto rico oversight board orders furloughs, ...   \n",
       "\n",
       "                                                text       subject  \\\n",
       "0  21st century wire says we ve heard a lot of no...       US_News   \n",
       "1  nairobi (reuters) - kenyan president uhuru ken...     worldnews   \n",
       "2  when it comes to the safety of our drinking wa...          News   \n",
       "3  beirut (reuters) - a u.s.-backed campaign agai...     worldnews   \n",
       "4  (reuters) - puerto rico’s federally appointed ...  politicsNews   \n",
       "\n",
       "                date  label  \n",
       "0      April 7, 2016      1  \n",
       "1  October 10, 2017       0  \n",
       "2    January 7, 2016      1  \n",
       "3  October 18, 2017       0  \n",
       "4    August 4, 2017       0  "
      ]
     },
     "execution_count": 9,
     "metadata": {},
     "output_type": "execute_result"
    }
   ],
   "source": [
    "#Converting \"title\" column to lower case\n",
    "\n",
    "combined_df['title'] = combined_df['title'].apply(lambda x: \" \".join(x.lower() for x in x.split()))\n",
    "combined_df.head()"
   ]
  },
  {
   "cell_type": "code",
   "execution_count": 10,
   "metadata": {},
   "outputs": [
    {
     "data": {
      "text/html": [
       "<div>\n",
       "<style scoped>\n",
       "    .dataframe tbody tr th:only-of-type {\n",
       "        vertical-align: middle;\n",
       "    }\n",
       "\n",
       "    .dataframe tbody tr th {\n",
       "        vertical-align: top;\n",
       "    }\n",
       "\n",
       "    .dataframe thead th {\n",
       "        text-align: right;\n",
       "    }\n",
       "</style>\n",
       "<table border=\"1\" class=\"dataframe\">\n",
       "  <thead>\n",
       "    <tr style=\"text-align: right;\">\n",
       "      <th></th>\n",
       "      <th>title</th>\n",
       "      <th>text</th>\n",
       "      <th>subject</th>\n",
       "      <th>date</th>\n",
       "      <th>label</th>\n",
       "    </tr>\n",
       "  </thead>\n",
       "  <tbody>\n",
       "    <tr>\n",
       "      <th>0</th>\n",
       "      <td>windows 10 is stealing your bandwidth (you mig...</td>\n",
       "      <td>21st century wire says we ve heard a lot of no...</td>\n",
       "      <td>US_News</td>\n",
       "      <td>April 7, 2016</td>\n",
       "      <td>1</td>\n",
       "    </tr>\n",
       "    <tr>\n",
       "      <th>1</th>\n",
       "      <td>kenya president: elections will go ahead despi...</td>\n",
       "      <td>nairobi (reuters) - kenyan president uhuru ken...</td>\n",
       "      <td>worldnews</td>\n",
       "      <td>October 10, 2017</td>\n",
       "      <td>0</td>\n",
       "    </tr>\n",
       "    <tr>\n",
       "      <th>2</th>\n",
       "      <td>cher does not hold back on twitter as she call...</td>\n",
       "      <td>when it comes to the safety of our drinking wa...</td>\n",
       "      <td>News</td>\n",
       "      <td>January 7, 2016</td>\n",
       "      <td>1</td>\n",
       "    </tr>\n",
       "    <tr>\n",
       "      <th>3</th>\n",
       "      <td>u.s.-backed campaign against is in eastern syr...</td>\n",
       "      <td>beirut (reuters) - a u.s.-backed campaign agai...</td>\n",
       "      <td>worldnews</td>\n",
       "      <td>October 18, 2017</td>\n",
       "      <td>0</td>\n",
       "    </tr>\n",
       "    <tr>\n",
       "      <th>4</th>\n",
       "      <td>puerto rico oversight board orders furloughs, ...</td>\n",
       "      <td>(reuters) - puerto rico’s federally appointed ...</td>\n",
       "      <td>politicsNews</td>\n",
       "      <td>August 4, 2017</td>\n",
       "      <td>0</td>\n",
       "    </tr>\n",
       "  </tbody>\n",
       "</table>\n",
       "</div>"
      ],
      "text/plain": [
       "                                               title  \\\n",
       "0  windows 10 is stealing your bandwidth (you mig...   \n",
       "1  kenya president: elections will go ahead despi...   \n",
       "2  cher does not hold back on twitter as she call...   \n",
       "3  u.s.-backed campaign against is in eastern syr...   \n",
       "4  puerto rico oversight board orders furloughs, ...   \n",
       "\n",
       "                                                text       subject  \\\n",
       "0  21st century wire says we ve heard a lot of no...       US_News   \n",
       "1  nairobi (reuters) - kenyan president uhuru ken...     worldnews   \n",
       "2  when it comes to the safety of our drinking wa...          News   \n",
       "3  beirut (reuters) - a u.s.-backed campaign agai...     worldnews   \n",
       "4  (reuters) - puerto rico’s federally appointed ...  politicsNews   \n",
       "\n",
       "                date  label  \n",
       "0      April 7, 2016      1  \n",
       "1  October 10, 2017       0  \n",
       "2    January 7, 2016      1  \n",
       "3  October 18, 2017       0  \n",
       "4    August 4, 2017       0  "
      ]
     },
     "execution_count": 10,
     "metadata": {},
     "output_type": "execute_result"
    }
   ],
   "source": [
    "# Remove links from text and title\n",
    "\n",
    "combined_df['text'] = combined_df['text'].apply(lambda x: re.sub(r'http\\S+|www\\S+|https\\S+', '', x, flags=re.MULTILINE))\n",
    "\n",
    "combined_df['title'] = combined_df['title'].apply(lambda x: re.sub(r'http\\S+|www\\S+|https\\S+', '', x, flags=re.MULTILINE))\n",
    "\n",
    "combined_df.head()"
   ]
  },
  {
   "cell_type": "code",
   "execution_count": 11,
   "metadata": {},
   "outputs": [
    {
     "data": {
      "text/html": [
       "<div>\n",
       "<style scoped>\n",
       "    .dataframe tbody tr th:only-of-type {\n",
       "        vertical-align: middle;\n",
       "    }\n",
       "\n",
       "    .dataframe tbody tr th {\n",
       "        vertical-align: top;\n",
       "    }\n",
       "\n",
       "    .dataframe thead th {\n",
       "        text-align: right;\n",
       "    }\n",
       "</style>\n",
       "<table border=\"1\" class=\"dataframe\">\n",
       "  <thead>\n",
       "    <tr style=\"text-align: right;\">\n",
       "      <th></th>\n",
       "      <th>title</th>\n",
       "      <th>text</th>\n",
       "      <th>subject</th>\n",
       "      <th>date</th>\n",
       "      <th>label</th>\n",
       "    </tr>\n",
       "  </thead>\n",
       "  <tbody>\n",
       "    <tr>\n",
       "      <th>0</th>\n",
       "      <td>windows 10 is stealing your bandwidth (you mig...</td>\n",
       "      <td>21st century wire says we ve heard a lot of no...</td>\n",
       "      <td>US_News</td>\n",
       "      <td>April 7, 2016</td>\n",
       "      <td>1</td>\n",
       "    </tr>\n",
       "    <tr>\n",
       "      <th>1</th>\n",
       "      <td>kenya president: elections will go ahead despi...</td>\n",
       "      <td>nairobi (reuters) - kenyan president uhuru ken...</td>\n",
       "      <td>worldnews</td>\n",
       "      <td>October 10, 2017</td>\n",
       "      <td>0</td>\n",
       "    </tr>\n",
       "    <tr>\n",
       "      <th>2</th>\n",
       "      <td>cher does not hold back on twitter as she call...</td>\n",
       "      <td>when it comes to the safety of our drinking wa...</td>\n",
       "      <td>News</td>\n",
       "      <td>January 7, 2016</td>\n",
       "      <td>1</td>\n",
       "    </tr>\n",
       "    <tr>\n",
       "      <th>3</th>\n",
       "      <td>u.s.-backed campaign against is in eastern syr...</td>\n",
       "      <td>beirut (reuters) - a u.s.-backed campaign agai...</td>\n",
       "      <td>worldnews</td>\n",
       "      <td>October 18, 2017</td>\n",
       "      <td>0</td>\n",
       "    </tr>\n",
       "    <tr>\n",
       "      <th>4</th>\n",
       "      <td>puerto rico oversight board orders furloughs, ...</td>\n",
       "      <td>(reuters) - puerto rico’s federally appointed ...</td>\n",
       "      <td>politicsNews</td>\n",
       "      <td>August 4, 2017</td>\n",
       "      <td>0</td>\n",
       "    </tr>\n",
       "  </tbody>\n",
       "</table>\n",
       "</div>"
      ],
      "text/plain": [
       "                                               title  \\\n",
       "0  windows 10 is stealing your bandwidth (you mig...   \n",
       "1  kenya president: elections will go ahead despi...   \n",
       "2  cher does not hold back on twitter as she call...   \n",
       "3  u.s.-backed campaign against is in eastern syr...   \n",
       "4  puerto rico oversight board orders furloughs, ...   \n",
       "\n",
       "                                                text       subject  \\\n",
       "0  21st century wire says we ve heard a lot of no...       US_News   \n",
       "1  nairobi (reuters) - kenyan president uhuru ken...     worldnews   \n",
       "2  when it comes to the safety of our drinking wa...          News   \n",
       "3  beirut (reuters) - a u.s.-backed campaign agai...     worldnews   \n",
       "4  (reuters) - puerto rico’s federally appointed ...  politicsNews   \n",
       "\n",
       "                date  label  \n",
       "0      April 7, 2016      1  \n",
       "1  October 10, 2017       0  \n",
       "2    January 7, 2016      1  \n",
       "3  October 18, 2017       0  \n",
       "4    August 4, 2017       0  "
      ]
     },
     "execution_count": 11,
     "metadata": {},
     "output_type": "execute_result"
    }
   ],
   "source": [
    "# Remove newlines from text and title\n",
    "\n",
    "combined_df['text'] = combined_df['text'].str.replace('\\n', ' ')\n",
    "\n",
    "combined_df['title'] = combined_df['title'].str.replace('\\n', ' ')\n",
    "\n",
    "combined_df.head()"
   ]
  },
  {
   "cell_type": "code",
   "execution_count": 12,
   "metadata": {},
   "outputs": [
    {
     "data": {
      "text/html": [
       "<div>\n",
       "<style scoped>\n",
       "    .dataframe tbody tr th:only-of-type {\n",
       "        vertical-align: middle;\n",
       "    }\n",
       "\n",
       "    .dataframe tbody tr th {\n",
       "        vertical-align: top;\n",
       "    }\n",
       "\n",
       "    .dataframe thead th {\n",
       "        text-align: right;\n",
       "    }\n",
       "</style>\n",
       "<table border=\"1\" class=\"dataframe\">\n",
       "  <thead>\n",
       "    <tr style=\"text-align: right;\">\n",
       "      <th></th>\n",
       "      <th>title</th>\n",
       "      <th>text</th>\n",
       "      <th>subject</th>\n",
       "      <th>date</th>\n",
       "      <th>label</th>\n",
       "    </tr>\n",
       "  </thead>\n",
       "  <tbody>\n",
       "    <tr>\n",
       "      <th>0</th>\n",
       "      <td>windows  is stealing your bandwidth (you might...</td>\n",
       "      <td>century wire says we ve heard a lot of not so...</td>\n",
       "      <td>US_News</td>\n",
       "      <td>April 7, 2016</td>\n",
       "      <td>1</td>\n",
       "    </tr>\n",
       "    <tr>\n",
       "      <th>1</th>\n",
       "      <td>kenya president: elections will go ahead despi...</td>\n",
       "      <td>nairobi (reuters) - kenyan president uhuru ken...</td>\n",
       "      <td>worldnews</td>\n",
       "      <td>October 10, 2017</td>\n",
       "      <td>0</td>\n",
       "    </tr>\n",
       "    <tr>\n",
       "      <th>2</th>\n",
       "      <td>cher does not hold back on twitter as she call...</td>\n",
       "      <td>when it comes to the safety of our drinking wa...</td>\n",
       "      <td>News</td>\n",
       "      <td>January 7, 2016</td>\n",
       "      <td>1</td>\n",
       "    </tr>\n",
       "    <tr>\n",
       "      <th>3</th>\n",
       "      <td>u.s.-backed campaign against is in eastern syr...</td>\n",
       "      <td>beirut (reuters) - a u.s.-backed campaign agai...</td>\n",
       "      <td>worldnews</td>\n",
       "      <td>October 18, 2017</td>\n",
       "      <td>0</td>\n",
       "    </tr>\n",
       "    <tr>\n",
       "      <th>4</th>\n",
       "      <td>puerto rico oversight board orders furloughs, ...</td>\n",
       "      <td>(reuters) - puerto rico’s federally appointed ...</td>\n",
       "      <td>politicsNews</td>\n",
       "      <td>August 4, 2017</td>\n",
       "      <td>0</td>\n",
       "    </tr>\n",
       "  </tbody>\n",
       "</table>\n",
       "</div>"
      ],
      "text/plain": [
       "                                               title  \\\n",
       "0  windows  is stealing your bandwidth (you might...   \n",
       "1  kenya president: elections will go ahead despi...   \n",
       "2  cher does not hold back on twitter as she call...   \n",
       "3  u.s.-backed campaign against is in eastern syr...   \n",
       "4  puerto rico oversight board orders furloughs, ...   \n",
       "\n",
       "                                                text       subject  \\\n",
       "0   century wire says we ve heard a lot of not so...       US_News   \n",
       "1  nairobi (reuters) - kenyan president uhuru ken...     worldnews   \n",
       "2  when it comes to the safety of our drinking wa...          News   \n",
       "3  beirut (reuters) - a u.s.-backed campaign agai...     worldnews   \n",
       "4  (reuters) - puerto rico’s federally appointed ...  politicsNews   \n",
       "\n",
       "                date  label  \n",
       "0      April 7, 2016      1  \n",
       "1  October 10, 2017       0  \n",
       "2    January 7, 2016      1  \n",
       "3  October 18, 2017       0  \n",
       "4    August 4, 2017       0  "
      ]
     },
     "execution_count": 12,
     "metadata": {},
     "output_type": "execute_result"
    }
   ],
   "source": [
    "# Remove words containing numbers from text and title\n",
    "\n",
    "combined_df['text'] = combined_df['text'].apply(lambda x: re.sub(r'\\w*\\d\\w*', '', x))\n",
    "\n",
    "combined_df['title'] = combined_df['title'].apply(lambda x: re.sub(r'\\w*\\d\\w*', '', x))\n",
    "\n",
    "combined_df.head()"
   ]
  },
  {
   "cell_type": "code",
   "execution_count": 13,
   "metadata": {},
   "outputs": [
    {
     "data": {
      "text/html": [
       "<div>\n",
       "<style scoped>\n",
       "    .dataframe tbody tr th:only-of-type {\n",
       "        vertical-align: middle;\n",
       "    }\n",
       "\n",
       "    .dataframe tbody tr th {\n",
       "        vertical-align: top;\n",
       "    }\n",
       "\n",
       "    .dataframe thead th {\n",
       "        text-align: right;\n",
       "    }\n",
       "</style>\n",
       "<table border=\"1\" class=\"dataframe\">\n",
       "  <thead>\n",
       "    <tr style=\"text-align: right;\">\n",
       "      <th></th>\n",
       "      <th>title</th>\n",
       "      <th>text</th>\n",
       "      <th>subject</th>\n",
       "      <th>date</th>\n",
       "      <th>label</th>\n",
       "    </tr>\n",
       "  </thead>\n",
       "  <tbody>\n",
       "    <tr>\n",
       "      <th>0</th>\n",
       "      <td>windows is stealing your bandwidth (you might ...</td>\n",
       "      <td>century wire says we ve heard a lot of not so ...</td>\n",
       "      <td>US_News</td>\n",
       "      <td>April 7, 2016</td>\n",
       "      <td>1</td>\n",
       "    </tr>\n",
       "    <tr>\n",
       "      <th>1</th>\n",
       "      <td>kenya president: elections will go ahead despi...</td>\n",
       "      <td>nairobi (reuters) - kenyan president uhuru ken...</td>\n",
       "      <td>worldnews</td>\n",
       "      <td>October 10, 2017</td>\n",
       "      <td>0</td>\n",
       "    </tr>\n",
       "    <tr>\n",
       "      <th>2</th>\n",
       "      <td>cher does not hold back on twitter as she call...</td>\n",
       "      <td>when it comes to the safety of our drinking wa...</td>\n",
       "      <td>News</td>\n",
       "      <td>January 7, 2016</td>\n",
       "      <td>1</td>\n",
       "    </tr>\n",
       "    <tr>\n",
       "      <th>3</th>\n",
       "      <td>u.s.-backed campaign against is in eastern syr...</td>\n",
       "      <td>beirut (reuters) - a u.s.-backed campaign agai...</td>\n",
       "      <td>worldnews</td>\n",
       "      <td>October 18, 2017</td>\n",
       "      <td>0</td>\n",
       "    </tr>\n",
       "    <tr>\n",
       "      <th>4</th>\n",
       "      <td>puerto rico oversight board orders furloughs, ...</td>\n",
       "      <td>(reuters) - puerto rico’s federally appointed ...</td>\n",
       "      <td>politicsNews</td>\n",
       "      <td>August 4, 2017</td>\n",
       "      <td>0</td>\n",
       "    </tr>\n",
       "  </tbody>\n",
       "</table>\n",
       "</div>"
      ],
      "text/plain": [
       "                                               title  \\\n",
       "0  windows is stealing your bandwidth (you might ...   \n",
       "1  kenya president: elections will go ahead despi...   \n",
       "2  cher does not hold back on twitter as she call...   \n",
       "3  u.s.-backed campaign against is in eastern syr...   \n",
       "4  puerto rico oversight board orders furloughs, ...   \n",
       "\n",
       "                                                text       subject  \\\n",
       "0  century wire says we ve heard a lot of not so ...       US_News   \n",
       "1  nairobi (reuters) - kenyan president uhuru ken...     worldnews   \n",
       "2  when it comes to the safety of our drinking wa...          News   \n",
       "3  beirut (reuters) - a u.s.-backed campaign agai...     worldnews   \n",
       "4  (reuters) - puerto rico’s federally appointed ...  politicsNews   \n",
       "\n",
       "                date  label  \n",
       "0      April 7, 2016      1  \n",
       "1  October 10, 2017       0  \n",
       "2    January 7, 2016      1  \n",
       "3  October 18, 2017       0  \n",
       "4    August 4, 2017       0  "
      ]
     },
     "execution_count": 13,
     "metadata": {},
     "output_type": "execute_result"
    }
   ],
   "source": [
    "# Remove extra spaces from text and title\n",
    "\n",
    "combined_df['text'] = combined_df['text'].apply(lambda x: re.sub(r'\\s+', ' ', x).strip())\n",
    "\n",
    "combined_df['title'] = combined_df['title'].apply(lambda x: re.sub(r'\\s+', ' ', x).strip())\n",
    "\n",
    "combined_df.head()"
   ]
  },
  {
   "cell_type": "code",
   "execution_count": 14,
   "metadata": {},
   "outputs": [
    {
     "data": {
      "text/html": [
       "<div>\n",
       "<style scoped>\n",
       "    .dataframe tbody tr th:only-of-type {\n",
       "        vertical-align: middle;\n",
       "    }\n",
       "\n",
       "    .dataframe tbody tr th {\n",
       "        vertical-align: top;\n",
       "    }\n",
       "\n",
       "    .dataframe thead th {\n",
       "        text-align: right;\n",
       "    }\n",
       "</style>\n",
       "<table border=\"1\" class=\"dataframe\">\n",
       "  <thead>\n",
       "    <tr style=\"text-align: right;\">\n",
       "      <th></th>\n",
       "      <th>title</th>\n",
       "      <th>text</th>\n",
       "      <th>subject</th>\n",
       "      <th>date</th>\n",
       "      <th>label</th>\n",
       "    </tr>\n",
       "  </thead>\n",
       "  <tbody>\n",
       "    <tr>\n",
       "      <th>0</th>\n",
       "      <td>windows is stealing your bandwidth you might w...</td>\n",
       "      <td>century wire says we ve heard a lot of not so ...</td>\n",
       "      <td>US_News</td>\n",
       "      <td>April 7, 2016</td>\n",
       "      <td>1</td>\n",
       "    </tr>\n",
       "    <tr>\n",
       "      <th>1</th>\n",
       "      <td>kenya president elections will go ahead despit...</td>\n",
       "      <td>nairobi reuters  kenyan president uhuru kenyat...</td>\n",
       "      <td>worldnews</td>\n",
       "      <td>October 10, 2017</td>\n",
       "      <td>0</td>\n",
       "    </tr>\n",
       "    <tr>\n",
       "      <th>2</th>\n",
       "      <td>cher does not hold back on twitter as she call...</td>\n",
       "      <td>when it comes to the safety of our drinking wa...</td>\n",
       "      <td>News</td>\n",
       "      <td>January 7, 2016</td>\n",
       "      <td>1</td>\n",
       "    </tr>\n",
       "    <tr>\n",
       "      <th>3</th>\n",
       "      <td>usbacked campaign against is in eastern syria ...</td>\n",
       "      <td>beirut reuters  a usbacked campaign against is...</td>\n",
       "      <td>worldnews</td>\n",
       "      <td>October 18, 2017</td>\n",
       "      <td>0</td>\n",
       "    </tr>\n",
       "    <tr>\n",
       "      <th>4</th>\n",
       "      <td>puerto rico oversight board orders furloughs g...</td>\n",
       "      <td>reuters  puerto ricos federally appointed fina...</td>\n",
       "      <td>politicsNews</td>\n",
       "      <td>August 4, 2017</td>\n",
       "      <td>0</td>\n",
       "    </tr>\n",
       "  </tbody>\n",
       "</table>\n",
       "</div>"
      ],
      "text/plain": [
       "                                               title  \\\n",
       "0  windows is stealing your bandwidth you might w...   \n",
       "1  kenya president elections will go ahead despit...   \n",
       "2  cher does not hold back on twitter as she call...   \n",
       "3  usbacked campaign against is in eastern syria ...   \n",
       "4  puerto rico oversight board orders furloughs g...   \n",
       "\n",
       "                                                text       subject  \\\n",
       "0  century wire says we ve heard a lot of not so ...       US_News   \n",
       "1  nairobi reuters  kenyan president uhuru kenyat...     worldnews   \n",
       "2  when it comes to the safety of our drinking wa...          News   \n",
       "3  beirut reuters  a usbacked campaign against is...     worldnews   \n",
       "4  reuters  puerto ricos federally appointed fina...  politicsNews   \n",
       "\n",
       "                date  label  \n",
       "0      April 7, 2016      1  \n",
       "1  October 10, 2017       0  \n",
       "2    January 7, 2016      1  \n",
       "3  October 18, 2017       0  \n",
       "4    August 4, 2017       0  "
      ]
     },
     "execution_count": 14,
     "metadata": {},
     "output_type": "execute_result"
    }
   ],
   "source": [
    "# Remove special characters from text and title\n",
    "\n",
    "combined_df['text'] = combined_df['text'].apply(lambda x: re.sub(r'[^a-zA-Z\\s]', '', x))\n",
    "\n",
    "combined_df['title'] = combined_df['title'].apply(lambda x: re.sub(r'[^a-zA-Z\\s]', '', x))\n",
    "\n",
    "combined_df.head()"
   ]
  },
  {
   "cell_type": "code",
   "execution_count": 15,
   "metadata": {},
   "outputs": [],
   "source": [
    "#nltk.download('stopwords')\n",
    "stop_words = set(stopwords.words('english'))"
   ]
  },
  {
   "cell_type": "code",
   "execution_count": 16,
   "metadata": {},
   "outputs": [],
   "source": [
    "# Remove stop words from text\n",
    "filtered_texts = []\n",
    "for text in combined_df['text']:\n",
    "    filtered_text = ' '.join([word for word in text.split() if word not in stop_words])\n",
    "    filtered_texts.append(filtered_text)\n",
    "combined_df['text'] = filtered_texts"
   ]
  },
  {
   "cell_type": "code",
   "execution_count": 17,
   "metadata": {},
   "outputs": [
    {
     "data": {
      "text/html": [
       "<div>\n",
       "<style scoped>\n",
       "    .dataframe tbody tr th:only-of-type {\n",
       "        vertical-align: middle;\n",
       "    }\n",
       "\n",
       "    .dataframe tbody tr th {\n",
       "        vertical-align: top;\n",
       "    }\n",
       "\n",
       "    .dataframe thead th {\n",
       "        text-align: right;\n",
       "    }\n",
       "</style>\n",
       "<table border=\"1\" class=\"dataframe\">\n",
       "  <thead>\n",
       "    <tr style=\"text-align: right;\">\n",
       "      <th></th>\n",
       "      <th>title</th>\n",
       "      <th>text</th>\n",
       "      <th>subject</th>\n",
       "      <th>date</th>\n",
       "      <th>label</th>\n",
       "    </tr>\n",
       "  </thead>\n",
       "  <tbody>\n",
       "    <tr>\n",
       "      <th>0</th>\n",
       "      <td>windows stealing bandwidth might want delete</td>\n",
       "      <td>century wire says heard lot nice things micros...</td>\n",
       "      <td>US_News</td>\n",
       "      <td>April 7, 2016</td>\n",
       "      <td>1</td>\n",
       "    </tr>\n",
       "    <tr>\n",
       "      <th>1</th>\n",
       "      <td>kenya president elections go ahead despite opp...</td>\n",
       "      <td>nairobi reuters kenyan president uhuru kenyatt...</td>\n",
       "      <td>worldnews</td>\n",
       "      <td>October 10, 2017</td>\n",
       "      <td>0</td>\n",
       "    </tr>\n",
       "    <tr>\n",
       "      <th>2</th>\n",
       "      <td>cher hold back twitter calls death michigan go...</td>\n",
       "      <td>comes safety drinking water comes taps left tr...</td>\n",
       "      <td>News</td>\n",
       "      <td>January 7, 2016</td>\n",
       "      <td>1</td>\n",
       "    </tr>\n",
       "    <tr>\n",
       "      <th>3</th>\n",
       "      <td>usbacked campaign eastern syria speed sdf militia</td>\n",
       "      <td>beirut reuters usbacked campaign islamic state...</td>\n",
       "      <td>worldnews</td>\n",
       "      <td>October 18, 2017</td>\n",
       "      <td>0</td>\n",
       "    </tr>\n",
       "    <tr>\n",
       "      <th>4</th>\n",
       "      <td>puerto rico oversight board orders furloughs g...</td>\n",
       "      <td>reuters puerto ricos federally appointed finan...</td>\n",
       "      <td>politicsNews</td>\n",
       "      <td>August 4, 2017</td>\n",
       "      <td>0</td>\n",
       "    </tr>\n",
       "  </tbody>\n",
       "</table>\n",
       "</div>"
      ],
      "text/plain": [
       "                                               title  \\\n",
       "0       windows stealing bandwidth might want delete   \n",
       "1  kenya president elections go ahead despite opp...   \n",
       "2  cher hold back twitter calls death michigan go...   \n",
       "3  usbacked campaign eastern syria speed sdf militia   \n",
       "4  puerto rico oversight board orders furloughs g...   \n",
       "\n",
       "                                                text       subject  \\\n",
       "0  century wire says heard lot nice things micros...       US_News   \n",
       "1  nairobi reuters kenyan president uhuru kenyatt...     worldnews   \n",
       "2  comes safety drinking water comes taps left tr...          News   \n",
       "3  beirut reuters usbacked campaign islamic state...     worldnews   \n",
       "4  reuters puerto ricos federally appointed finan...  politicsNews   \n",
       "\n",
       "                date  label  \n",
       "0      April 7, 2016      1  \n",
       "1  October 10, 2017       0  \n",
       "2    January 7, 2016      1  \n",
       "3  October 18, 2017       0  \n",
       "4    August 4, 2017       0  "
      ]
     },
     "execution_count": 17,
     "metadata": {},
     "output_type": "execute_result"
    }
   ],
   "source": [
    "filtered_titles = []\n",
    "for title in combined_df['title']:\n",
    "    filtered_title = ' '.join([word for word in title.split() if word not in stop_words])\n",
    "    filtered_titles.append(filtered_title)\n",
    "combined_df['title'] = filtered_titles\n",
    "combined_df.head()"
   ]
  },
  {
   "cell_type": "code",
   "execution_count": 18,
   "metadata": {},
   "outputs": [],
   "source": [
    "# nltk.download('wordnet')\n",
    "# nltk.download('omw-1.4')"
   ]
  },
  {
   "cell_type": "code",
   "execution_count": 19,
   "metadata": {},
   "outputs": [],
   "source": [
    "# Lemmatize text\n",
    "lemmatizer = WordNetLemmatizer()\n",
    "\n",
    "lemmatized_texts = []\n",
    "for text in combined_df['text']:\n",
    "    lemmatized_text = ' '.join([lemmatizer.lemmatize(word) for word in text.split()])\n",
    "    lemmatized_texts.append(lemmatized_text)\n",
    "combined_df['text'] = lemmatized_texts"
   ]
  },
  {
   "cell_type": "code",
   "execution_count": 20,
   "metadata": {},
   "outputs": [
    {
     "data": {
      "text/html": [
       "<div>\n",
       "<style scoped>\n",
       "    .dataframe tbody tr th:only-of-type {\n",
       "        vertical-align: middle;\n",
       "    }\n",
       "\n",
       "    .dataframe tbody tr th {\n",
       "        vertical-align: top;\n",
       "    }\n",
       "\n",
       "    .dataframe thead th {\n",
       "        text-align: right;\n",
       "    }\n",
       "</style>\n",
       "<table border=\"1\" class=\"dataframe\">\n",
       "  <thead>\n",
       "    <tr style=\"text-align: right;\">\n",
       "      <th></th>\n",
       "      <th>title</th>\n",
       "      <th>text</th>\n",
       "      <th>subject</th>\n",
       "      <th>date</th>\n",
       "      <th>label</th>\n",
       "    </tr>\n",
       "  </thead>\n",
       "  <tbody>\n",
       "    <tr>\n",
       "      <th>0</th>\n",
       "      <td>window stealing bandwidth might want delete</td>\n",
       "      <td>century wire say heard lot nice thing microsof...</td>\n",
       "      <td>US_News</td>\n",
       "      <td>April 7, 2016</td>\n",
       "      <td>1</td>\n",
       "    </tr>\n",
       "    <tr>\n",
       "      <th>1</th>\n",
       "      <td>kenya president election go ahead despite oppo...</td>\n",
       "      <td>nairobi reuters kenyan president uhuru kenyatt...</td>\n",
       "      <td>worldnews</td>\n",
       "      <td>October 10, 2017</td>\n",
       "      <td>0</td>\n",
       "    </tr>\n",
       "    <tr>\n",
       "      <th>2</th>\n",
       "      <td>cher hold back twitter call death michigan gov...</td>\n",
       "      <td>come safety drinking water come tap left trust...</td>\n",
       "      <td>News</td>\n",
       "      <td>January 7, 2016</td>\n",
       "      <td>1</td>\n",
       "    </tr>\n",
       "    <tr>\n",
       "      <th>3</th>\n",
       "      <td>usbacked campaign eastern syria speed sdf militia</td>\n",
       "      <td>beirut reuters usbacked campaign islamic state...</td>\n",
       "      <td>worldnews</td>\n",
       "      <td>October 18, 2017</td>\n",
       "      <td>0</td>\n",
       "    </tr>\n",
       "    <tr>\n",
       "      <th>4</th>\n",
       "      <td>puerto rico oversight board order furlough gov...</td>\n",
       "      <td>reuters puerto rico federally appointed financ...</td>\n",
       "      <td>politicsNews</td>\n",
       "      <td>August 4, 2017</td>\n",
       "      <td>0</td>\n",
       "    </tr>\n",
       "  </tbody>\n",
       "</table>\n",
       "</div>"
      ],
      "text/plain": [
       "                                               title  \\\n",
       "0        window stealing bandwidth might want delete   \n",
       "1  kenya president election go ahead despite oppo...   \n",
       "2  cher hold back twitter call death michigan gov...   \n",
       "3  usbacked campaign eastern syria speed sdf militia   \n",
       "4  puerto rico oversight board order furlough gov...   \n",
       "\n",
       "                                                text       subject  \\\n",
       "0  century wire say heard lot nice thing microsof...       US_News   \n",
       "1  nairobi reuters kenyan president uhuru kenyatt...     worldnews   \n",
       "2  come safety drinking water come tap left trust...          News   \n",
       "3  beirut reuters usbacked campaign islamic state...     worldnews   \n",
       "4  reuters puerto rico federally appointed financ...  politicsNews   \n",
       "\n",
       "                date  label  \n",
       "0      April 7, 2016      1  \n",
       "1  October 10, 2017       0  \n",
       "2    January 7, 2016      1  \n",
       "3  October 18, 2017       0  \n",
       "4    August 4, 2017       0  "
      ]
     },
     "execution_count": 20,
     "metadata": {},
     "output_type": "execute_result"
    }
   ],
   "source": [
    "# Lemmatize title\n",
    "lemmatized_titles = []\n",
    "for title in combined_df['title']:\n",
    "    lemmatized_title = ' '.join([lemmatizer.lemmatize(word) for word in title.split()])\n",
    "    lemmatized_titles.append(lemmatized_title)\n",
    "combined_df['title'] = lemmatized_titles\n",
    "\n",
    "combined_df.head()"
   ]
  },
  {
   "cell_type": "markdown",
   "metadata": {},
   "source": [
    "Model Building\n",
    "1) Machine Learning model\n",
    "   - Random Forest\n",
    "2) Deep Learning model\n",
    "   - LSTM\n",
    "3) BERT Based model\n",
    "   - Transformer"
   ]
  },
  {
   "cell_type": "code",
   "execution_count": 21,
   "metadata": {},
   "outputs": [],
   "source": [
    "# Combine the title, text, and subject columns into a single column\n",
    "combined_df['combined_text'] = combined_df['title'] + ' ' + combined_df['text'] + ' ' + combined_df['subject']"
   ]
  },
  {
   "cell_type": "code",
   "execution_count": 22,
   "metadata": {},
   "outputs": [],
   "source": [
    "# Text preprocessing and TF-IDF vectorization\n",
    "vectorizer = TfidfVectorizer(stop_words='english', max_df=0.7)\n",
    "X = vectorizer.fit_transform(combined_df['combined_text'])\n",
    "y = combined_df['label']"
   ]
  },
  {
   "cell_type": "code",
   "execution_count": 23,
   "metadata": {},
   "outputs": [],
   "source": [
    "# Split the dataset into training and testing sets\n",
    "X_train, X_test, y_train, y_test = train_test_split(X, y, test_size=0.2, random_state=42)"
   ]
  },
  {
   "cell_type": "code",
   "execution_count": 24,
   "metadata": {},
   "outputs": [
    {
     "data": {
      "text/html": [
       "<style>#sk-container-id-1 {color: black;}#sk-container-id-1 pre{padding: 0;}#sk-container-id-1 div.sk-toggleable {background-color: white;}#sk-container-id-1 label.sk-toggleable__label {cursor: pointer;display: block;width: 100%;margin-bottom: 0;padding: 0.3em;box-sizing: border-box;text-align: center;}#sk-container-id-1 label.sk-toggleable__label-arrow:before {content: \"▸\";float: left;margin-right: 0.25em;color: #696969;}#sk-container-id-1 label.sk-toggleable__label-arrow:hover:before {color: black;}#sk-container-id-1 div.sk-estimator:hover label.sk-toggleable__label-arrow:before {color: black;}#sk-container-id-1 div.sk-toggleable__content {max-height: 0;max-width: 0;overflow: hidden;text-align: left;background-color: #f0f8ff;}#sk-container-id-1 div.sk-toggleable__content pre {margin: 0.2em;color: black;border-radius: 0.25em;background-color: #f0f8ff;}#sk-container-id-1 input.sk-toggleable__control:checked~div.sk-toggleable__content {max-height: 200px;max-width: 100%;overflow: auto;}#sk-container-id-1 input.sk-toggleable__control:checked~label.sk-toggleable__label-arrow:before {content: \"▾\";}#sk-container-id-1 div.sk-estimator input.sk-toggleable__control:checked~label.sk-toggleable__label {background-color: #d4ebff;}#sk-container-id-1 div.sk-label input.sk-toggleable__control:checked~label.sk-toggleable__label {background-color: #d4ebff;}#sk-container-id-1 input.sk-hidden--visually {border: 0;clip: rect(1px 1px 1px 1px);clip: rect(1px, 1px, 1px, 1px);height: 1px;margin: -1px;overflow: hidden;padding: 0;position: absolute;width: 1px;}#sk-container-id-1 div.sk-estimator {font-family: monospace;background-color: #f0f8ff;border: 1px dotted black;border-radius: 0.25em;box-sizing: border-box;margin-bottom: 0.5em;}#sk-container-id-1 div.sk-estimator:hover {background-color: #d4ebff;}#sk-container-id-1 div.sk-parallel-item::after {content: \"\";width: 100%;border-bottom: 1px solid gray;flex-grow: 1;}#sk-container-id-1 div.sk-label:hover label.sk-toggleable__label {background-color: #d4ebff;}#sk-container-id-1 div.sk-serial::before {content: \"\";position: absolute;border-left: 1px solid gray;box-sizing: border-box;top: 0;bottom: 0;left: 50%;z-index: 0;}#sk-container-id-1 div.sk-serial {display: flex;flex-direction: column;align-items: center;background-color: white;padding-right: 0.2em;padding-left: 0.2em;position: relative;}#sk-container-id-1 div.sk-item {position: relative;z-index: 1;}#sk-container-id-1 div.sk-parallel {display: flex;align-items: stretch;justify-content: center;background-color: white;position: relative;}#sk-container-id-1 div.sk-item::before, #sk-container-id-1 div.sk-parallel-item::before {content: \"\";position: absolute;border-left: 1px solid gray;box-sizing: border-box;top: 0;bottom: 0;left: 50%;z-index: -1;}#sk-container-id-1 div.sk-parallel-item {display: flex;flex-direction: column;z-index: 1;position: relative;background-color: white;}#sk-container-id-1 div.sk-parallel-item:first-child::after {align-self: flex-end;width: 50%;}#sk-container-id-1 div.sk-parallel-item:last-child::after {align-self: flex-start;width: 50%;}#sk-container-id-1 div.sk-parallel-item:only-child::after {width: 0;}#sk-container-id-1 div.sk-dashed-wrapped {border: 1px dashed gray;margin: 0 0.4em 0.5em 0.4em;box-sizing: border-box;padding-bottom: 0.4em;background-color: white;}#sk-container-id-1 div.sk-label label {font-family: monospace;font-weight: bold;display: inline-block;line-height: 1.2em;}#sk-container-id-1 div.sk-label-container {text-align: center;}#sk-container-id-1 div.sk-container {/* jupyter's `normalize.less` sets `[hidden] { display: none; }` but bootstrap.min.css set `[hidden] { display: none !important; }` so we also need the `!important` here to be able to override the default hidden behavior on the sphinx rendered scikit-learn.org. See: https://github.com/scikit-learn/scikit-learn/issues/21755 */display: inline-block !important;position: relative;}#sk-container-id-1 div.sk-text-repr-fallback {display: none;}</style><div id=\"sk-container-id-1\" class=\"sk-top-container\"><div class=\"sk-text-repr-fallback\"><pre>RandomForestClassifier(random_state=42)</pre><b>In a Jupyter environment, please rerun this cell to show the HTML representation or trust the notebook. <br />On GitHub, the HTML representation is unable to render, please try loading this page with nbviewer.org.</b></div><div class=\"sk-container\" hidden><div class=\"sk-item\"><div class=\"sk-estimator sk-toggleable\"><input class=\"sk-toggleable__control sk-hidden--visually\" id=\"sk-estimator-id-1\" type=\"checkbox\" checked><label for=\"sk-estimator-id-1\" class=\"sk-toggleable__label sk-toggleable__label-arrow\">RandomForestClassifier</label><div class=\"sk-toggleable__content\"><pre>RandomForestClassifier(random_state=42)</pre></div></div></div></div></div>"
      ],
      "text/plain": [
       "RandomForestClassifier(random_state=42)"
      ]
     },
     "execution_count": 24,
     "metadata": {},
     "output_type": "execute_result"
    }
   ],
   "source": [
    "# Random Forest model\n",
    "rf_model = RandomForestClassifier(n_estimators=100, random_state=42)\n",
    "rf_model.fit(X_train, y_train)"
   ]
  },
  {
   "cell_type": "code",
   "execution_count": 25,
   "metadata": {},
   "outputs": [
    {
     "name": "stdout",
     "output_type": "stream",
     "text": [
      "Random Forest Accuracy: 0.9948775055679288\n"
     ]
    }
   ],
   "source": [
    "y_pred_rf = rf_model.predict(X_test)\n",
    "print(\"Random Forest Accuracy:\", accuracy_score(y_test, y_pred_rf))"
   ]
  },
  {
   "cell_type": "code",
   "execution_count": 26,
   "metadata": {},
   "outputs": [
    {
     "name": "stdout",
     "output_type": "stream",
     "text": [
      "Classification Report:\n",
      "               precision    recall  f1-score   support\n",
      "\n",
      "           0       0.99      1.00      0.99      4202\n",
      "           1       1.00      0.99      1.00      4778\n",
      "\n",
      "    accuracy                           0.99      8980\n",
      "   macro avg       0.99      0.99      0.99      8980\n",
      "weighted avg       0.99      0.99      0.99      8980\n",
      "\n"
     ]
    }
   ],
   "source": [
    "print(\"Classification Report:\\n\", classification_report(y_test, y_pred_rf))"
   ]
  },
  {
   "cell_type": "markdown",
   "metadata": {},
   "source": [
    "LSTM Model"
   ]
  },
  {
   "cell_type": "code",
   "execution_count": 29,
   "metadata": {},
   "outputs": [],
   "source": [
    "# Tokenize the text\n",
    "max_words = 5000\n",
    "tokenizer = Tokenizer(num_words=max_words)\n",
    "tokenizer.fit_on_texts(combined_df['combined_text'])\n",
    "X = tokenizer.texts_to_sequences(combined_df['combined_text'])\n"
   ]
  },
  {
   "cell_type": "code",
   "execution_count": 30,
   "metadata": {},
   "outputs": [],
   "source": [
    "# Pad the sequences\n",
    "max_len = 100\n",
    "X = pad_sequences(X, maxlen=max_len)"
   ]
  },
  {
   "cell_type": "code",
   "execution_count": 31,
   "metadata": {},
   "outputs": [],
   "source": [
    "y = combined_df['label'].values"
   ]
  },
  {
   "cell_type": "code",
   "execution_count": 32,
   "metadata": {},
   "outputs": [],
   "source": [
    "# Split the dataset into training and testing sets\n",
    "X_train, X_test, y_train, y_test = train_test_split(X, y, test_size=0.2, random_state=42)"
   ]
  },
  {
   "cell_type": "code",
   "execution_count": 34,
   "metadata": {},
   "outputs": [],
   "source": [
    "#LSTM Model \n",
    "model = Sequential()\n",
    "model.add(Embedding(max_words, 128, input_length=max_len))\n",
    "model.add(LSTM(64, dropout=0.2, recurrent_dropout=0.2))\n",
    "model.add(Dense(1, activation='sigmoid'))\n",
    "\n",
    "model.compile(loss='binary_crossentropy',\n",
    "              optimizer='adam',\n",
    "              metrics=['accuracy'])"
   ]
  },
  {
   "cell_type": "code",
   "execution_count": 35,
   "metadata": {},
   "outputs": [
    {
     "name": "stdout",
     "output_type": "stream",
     "text": [
      "Epoch 1/5\n",
      "1123/1123 - 144s - loss: 0.0240 - accuracy: 0.9937 - val_loss: 8.6710e-05 - val_accuracy: 1.0000 - 144s/epoch - 128ms/step\n",
      "Epoch 2/5\n",
      "1123/1123 - 138s - loss: 3.1778e-05 - accuracy: 1.0000 - val_loss: 4.0546e-05 - val_accuracy: 1.0000 - 138s/epoch - 123ms/step\n",
      "Epoch 3/5\n",
      "1123/1123 - 139s - loss: 1.0492e-05 - accuracy: 1.0000 - val_loss: 1.8659e-05 - val_accuracy: 1.0000 - 139s/epoch - 124ms/step\n",
      "Epoch 4/5\n",
      "1123/1123 - 131s - loss: 5.4758e-06 - accuracy: 1.0000 - val_loss: 1.8357e-05 - val_accuracy: 1.0000 - 131s/epoch - 117ms/step\n",
      "Epoch 5/5\n",
      "1123/1123 - 132s - loss: 2.4780e-06 - accuracy: 1.0000 - val_loss: 6.9744e-06 - val_accuracy: 1.0000 - 132s/epoch - 117ms/step\n"
     ]
    },
    {
     "data": {
      "text/plain": [
       "<keras.src.callbacks.History at 0x272a2299850>"
      ]
     },
     "execution_count": 35,
     "metadata": {},
     "output_type": "execute_result"
    }
   ],
   "source": [
    "# Train the model\n",
    "model.fit(X_train, y_train,\n",
    "          batch_size=32,\n",
    "          epochs=5,\n",
    "          validation_data=(X_test, y_test),\n",
    "          verbose=2)"
   ]
  },
  {
   "cell_type": "code",
   "execution_count": 36,
   "metadata": {},
   "outputs": [
    {
     "name": "stdout",
     "output_type": "stream",
     "text": [
      "281/281 [==============================] - 4s 13ms/step\n"
     ]
    }
   ],
   "source": [
    "y_pred = (model.predict(X_test) > 0.5).astype(\"int32\")"
   ]
  },
  {
   "cell_type": "code",
   "execution_count": 37,
   "metadata": {},
   "outputs": [
    {
     "name": "stdout",
     "output_type": "stream",
     "text": [
      "LSTM Model Accuracy: 1.0\n"
     ]
    }
   ],
   "source": [
    "print(\"LSTM Model Accuracy:\", accuracy_score(y_test, y_pred))"
   ]
  },
  {
   "cell_type": "code",
   "execution_count": 38,
   "metadata": {},
   "outputs": [
    {
     "name": "stdout",
     "output_type": "stream",
     "text": [
      "Classification Report:\n",
      "               precision    recall  f1-score   support\n",
      "\n",
      "           0       1.00      1.00      1.00      4202\n",
      "           1       1.00      1.00      1.00      4778\n",
      "\n",
      "    accuracy                           1.00      8980\n",
      "   macro avg       1.00      1.00      1.00      8980\n",
      "weighted avg       1.00      1.00      1.00      8980\n",
      "\n"
     ]
    }
   ],
   "source": [
    "print(\"Classification Report:\\n\", classification_report(y_test, y_pred))"
   ]
  }
 ],
 "metadata": {
  "kernelspec": {
   "display_name": "Python 3",
   "language": "python",
   "name": "python3"
  },
  "language_info": {
   "codemirror_mode": {
    "name": "ipython",
    "version": 3
   },
   "file_extension": ".py",
   "mimetype": "text/x-python",
   "name": "python",
   "nbconvert_exporter": "python",
   "pygments_lexer": "ipython3",
   "version": "3.11.9"
  }
 },
 "nbformat": 4,
 "nbformat_minor": 2
}
