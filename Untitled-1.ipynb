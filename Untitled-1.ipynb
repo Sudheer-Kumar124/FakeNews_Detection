{
 "cells": [
  {
   "cell_type": "code",
   "execution_count": null,
   "metadata": {},
   "outputs": [],
   "source": [
    "# This Python 3 environment comes with many helpful analytics libraries installed\n",
    "# It is defined by the kaggle/python Docker image: https://github.com/kaggle/docker-python\n",
    "# For example, here's several helpful packages to load\n",
    "\n",
    "import numpy as np # linear algebra\n",
    "import pandas as pd # data processing, CSV file I/O (e.g. pd.read_csv)\n",
    "\n",
    "# Input data files are available in the read-only \"../input/\" directory\n",
    "# For example, running this (by clicking run or pressing Shift+Enter) will list all files under the input directory\n",
    "\n",
    "import os\n",
    "for dirname, _, filenames in os.walk('/kaggle/input'):\n",
    "    for filename in filenames:\n",
    "        print(os.path.join(dirname, filename))\n",
    "\n",
    "# You can write up to 20GB to the current directory (/kaggle/working/) that gets preserved as output when you create a version using \"Save & Run All\" \n",
    "# You can also write temporary files to /kaggle/temp/, but they won't be saved outside of the current session"
   ]
  },
  {
   "cell_type": "code",
   "execution_count": null,
   "metadata": {},
   "outputs": [],
   "source": [
    "import pandas as pd\n",
    "import nltk\n",
    "from nltk.stem import PorterStemmer\n",
    "from nltk.stem import WordNetLemmatizer\n",
    "import spacy\n",
    "\n",
    "# Load SpaCy model\n",
    "nlp = spacy.load(\"en_core_web_sm\")"
   ]
  },
  {
   "cell_type": "code",
   "execution_count": null,
   "metadata": {},
   "outputs": [],
   "source": [
    "try:\n",
    "    nltk.download('tokenizers/punkt')\n",
    "    nltk.download('corpora/wordnet')\n",
    "    print(\"NLTK data loaded successfully.\")\n",
    "except LookupError as e:\n",
    "    print(f\"Error finding NLTK data files: {e}\")\n",
    "\n",
    "# Load SpaCy model\n",
    "try:\n",
    "    nlp = spacy.load(\"en_core_web_sm\")\n",
    "except Exception as e:\n",
    "    print(f\"Error loading SpaCy model: {e}\")\n",
    "\n",
    "# Read the CSV file\n",
    "df = pd.read_csv('/kaggle/input/fake-news-and-true-news-dataset/Fake.csv')\n",
    "# Initialize stemmer and lemmatizer\n",
    "stemmer = PorterStemmer()\n",
    "lemmatizer = WordNetLemmatizer()\n",
    "\n",
    "# Define stemming function\n",
    "def stem_text(text):\n",
    "    words = nltk.word_tokenize(text)\n",
    "    return ' '.join([stemmer.stem(word) for word in words])\n",
    "\n",
    "# Define lemmatization function\n",
    "def lemmatize_text(text):\n",
    "    words = nltk.word_tokenize(text)\n",
    "    return ' '.join([lemmatizer.lemmatize(word) for word in words])\n",
    "\n",
    "# Apply stemming and lemmatization to the 'text' column\n",
    "df['text_stemmed'] = df['title'].apply(stem_text)\n",
    "df['text_stemmed'] = df['text'].apply(stem_text)\n",
    "df['text_stemmed'] = df['subject'].apply(stem_text)\n",
    "df['text_stemmed'] = df['date'].apply(stem_text)\n",
    "#df['text_lemmatized'] = df['title'].apply(lemmatize_text)\n",
    "#df['text_lemmatized'] = df['text'].apply(lemmatize_text)\n",
    "#df['text_lemmatized'] = df['subject'].apply(lemmatize_text)\n",
    "#df['text_lemmatized'] = df['date'].apply(lemmatize_text)\n",
    "\n",
    "# Save the processed data to a new CSV file"
   ]
  }
 ],
 "metadata": {
  "language_info": {
   "name": "python"
  }
 },
 "nbformat": 4,
 "nbformat_minor": 2
}
