{
 "cells": [
  {
   "cell_type": "markdown",
   "metadata": {},
   "source": [
    "# Data preprocessing\n",
    "The below **_<u>preprocess_text</u>_** function preprocesses the text field of indiviaual raw in the dataset.\n",
    "\n",
    "The Steps involved in data preprocessing are:\n",
    "1. Lowercasing the text.\n",
    "2. Expand contractions.\n",
    "3. Remove links if any.\n",
    "4. Remove punctuations and digits\n",
    "5. Tokenize the words\n",
    "6. Stop words removal\n",
    "7. Lemmetize text. \n"
   ]
  },
  {
   "cell_type": "code",
   "execution_count": 16,
   "metadata": {},
   "outputs": [
    {
     "name": "stderr",
     "output_type": "stream",
     "text": [
      "[nltk_data] Downloading package stopwords to\n",
      "[nltk_data]     C:\\Users\\jyoti\\AppData\\Roaming\\nltk_data...\n",
      "[nltk_data]   Package stopwords is already up-to-date!\n",
      "[nltk_data] Downloading package wordnet to\n",
      "[nltk_data]     C:\\Users\\jyoti\\AppData\\Roaming\\nltk_data...\n",
      "[nltk_data]   Package wordnet is already up-to-date!\n"
     ]
    }
   ],
   "source": [
    "import nltk\n",
    "from nltk.corpus import stopwords\n",
    "from nltk.tokenize import word_tokenize\n",
    "from nltk.stem import PorterStemmer, WordNetLemmatizer\n",
    "import string\n",
    "import contractions\n",
    "import re\n",
    "\n",
    "nltk.download('stopwords')\n",
    "nltk.download('wordnet')\n",
    "\n",
    "stop_words = set(stopwords.words('english'))\n",
    "stemmer = PorterStemmer()\n",
    "lemmatizer = WordNetLemmatizer()\n",
    "def preprocess_text(text):\n",
    "    try:\n",
    "        # Lowercase the text\n",
    "        text = text.lower()\n",
    "\n",
    "        # Expand contractions\n",
    "        text = ' '.join([contractions.fix(word) for word in text.split()])\n",
    "\n",
    "        # Remove URLs\n",
    "        url_pattern = r'http[s]?://(?:[a-zA-Z]|[0-9]|[$-_@.&+]|[!*\\\\(\\\\),]|(?:%[0-9a-fA-F][0-9a-fA-F]))+'\n",
    "        text = re.sub(url_pattern, '', text)\n",
    "\n",
    "        # Remove punctuation and digits\n",
    "        # make transition table using below function, the function takes three arguments\n",
    "        # str.maketrans(x, y, z) \n",
    "        # where x is the string of characters to be replaced, y is the string that will replace x and\n",
    "        # z is the string whose characters are to be removed\n",
    "        # here str is a built in class whereas string is a module \n",
    "        # trans_table = str.maketrans('', '', string.punctuation + string.digits)\n",
    "\n",
    "        trans_table = str.maketrans('', '', string.punctuation + string.digits)\n",
    "        text = text.translate(trans_table)\n",
    "\n",
    "        # Tokenize the text\n",
    "        words = word_tokenize(text)\n",
    "\n",
    "        # Remove stop words\n",
    "        words = [word for word in words if word not in stop_words]\n",
    "\n",
    "        # Lemmatize the words\n",
    "        words = [lemmatizer.lemmatize(word) for word in words]\n",
    "\n",
    "        # Join the words back into a string\n",
    "        text = ' '.join(words)\n",
    "\n",
    "        return text\n",
    "    except Exception as e:\n",
    "        print(f\"Error processing text: {text}\")\n",
    "        print(f\"Exception: {e}\")\n",
    "        return \"\"\n",
    "    # # Lowercase the text\n",
    "    # text = text.lower()\n",
    "\n",
    "    # #expand contractions\n",
    "    # text = ' '.join([contractions.fix(word) for word in text.split()])\n",
    "\n",
    "    # #remove url\n",
    "    # url_pattern = r'http[s]?://(?:[a-zA-Z]|[0-9]|[$-_@.&+]|[!*\\\\(\\\\),]|(?:%[0-9a-fA-F][0-9a-fA-F]))+'\n",
    "    # text = re.sub(url_pattern, '', text)\n",
    "\n",
    "    # # Remove punctuation and digits\n",
    "    # # make transition table using below function, the function takes three arguments\n",
    "    # # str.maketrans(x, y, z) \n",
    "    # # where x is the string of characters to be replaced, y is the string that will replace x and\n",
    "    # # z is the string whose characters are to be removed\n",
    "    # # here str is a built in class whereas string is a module \n",
    "    # trans_table = str.maketrans('', '', string.punctuation + string.digits)\n",
    "\n",
    "    # text = text.translate(trans_table)\n",
    "\n",
    "    # # Tokenize the text\n",
    "    # words = word_tokenize(text)\n",
    "\n",
    "    # # Remove stop words\n",
    "    # words = [word for word in words if word not in stop_words]\n",
    "\n",
    "    # # Stem or lemmatize the words\n",
    "    # # words = [stemmer.stem(word) for word in words]\n",
    "    # words = [lemmatizer.lemmatize(word) for word in words]\n",
    "    # # print(\"Lemmatized text: \", words)\n",
    "\n",
    "    # # Join the words back into a string\n",
    "    # text = ' '.join(words)\n",
    "\n",
    "    # return text\n"
   ]
  },
  {
   "cell_type": "markdown",
   "metadata": {},
   "source": [
    "# Loading Raw data and preprocessing it\n",
    "\n",
    "The **_<u>load_rawdata_and_preprocess</u>_** function loads the raw data, preprocesses individual text field for each raw by calling \n",
    "**_<u>preprocess_text</u>_** function and then save the preprocessed data to new files."
   ]
  },
  {
   "cell_type": "markdown",
   "metadata": {},
   "source": [
    "The below function needs not to be executed more than once as the data is preprocessed and saved in separate files."
   ]
  },
  {
   "cell_type": "code",
   "execution_count": null,
   "metadata": {},
   "outputs": [],
   "source": [
    "import pandas as pd\n",
    "\n",
    "def load_rawdata_and_preprocess():\n",
    "    real_news = pd.read_csv('./Raw data/True.csv')\n",
    "    fake_news = pd.read_csv('./Raw data/Fake.csv')\n",
    "\n",
    "    print(\"Before preprocessing:\")\n",
    "    print(real_news['text'].head())\n",
    "    print(fake_news['text'].head())\n",
    "\n",
    "    real_news['text'] = real_news['text'].apply(preprocess_text)\n",
    "    fake_news['text'] = fake_news['text'].apply(preprocess_text)\n",
    "\n",
    "    print(\"After preprocessing:\")\n",
    "    print(real_news['text'].head())\n",
    "    print(fake_news['text'].head())\n",
    "\n",
    "    real_news.to_csv('./Processed data/Preprocessed_True.csv', index=False)\n",
    "    fake_news.to_csv('./Processed data/Preprocessed_Fake.csv', index=False)\n",
    "\n",
    "# Call the function\n",
    "# load_rawdata_and_preprocess()"
   ]
  },
  {
   "cell_type": "markdown",
   "metadata": {},
   "source": [
    "Feature Engineering\n"
   ]
  },
  {
   "cell_type": "code",
   "execution_count": 23,
   "metadata": {},
   "outputs": [
    {
     "name": "stdout",
     "output_type": "stream",
     "text": [
      "Data before vectorizing\n",
      "Real News:  0    WASHINGTON (Reuters) - The head of a conservat...\n",
      "1    WASHINGTON (Reuters) - Transgender people will...\n",
      "2    WASHINGTON (Reuters) - The special counsel inv...\n",
      "3    WASHINGTON (Reuters) - Trump campaign adviser ...\n",
      "4    SEATTLE/WASHINGTON (Reuters) - President Donal...\n",
      "Name: text, dtype: object\n",
      "Fake News:  0    Donald Trump just couldn t wish all Americans ...\n",
      "1    House Intelligence Committee Chairman Devin Nu...\n",
      "2    On Friday, it was revealed that former Milwauk...\n",
      "3    On Christmas day, Donald Trump announced that ...\n",
      "4    Pope Francis used his annual Christmas Day mes...\n",
      "Name: text, dtype: object\n",
      "Checking for NaN values in the datasets...\n",
      "0 NaN values found in real_news\n",
      "0 NaN values found in fake_news\n"
     ]
    }
   ],
   "source": [
    "from sklearn.feature_extraction.text import TfidfVectorizer\n",
    "import scipy.sparse as sp\n",
    "import numpy as np\n",
    "\n",
    "#load preprocessed data\n",
    "# real_news = pd.read_csv(\"./Processed data/Preprocessed_True.csv\")\n",
    "# fake_news = pd.read_csv(\"./Processed data/Preprocessed_Fake.csv\").\n",
    "\n",
    "real_news = pd.read_csv(\"./Raw data/True.csv\")\n",
    "fake_news = pd.read_csv(\"./Raw data/Fake.csv\")\n",
    "\n",
    "print(\"Data before vectorizing\")\n",
    "print(\"Real News: \", real_news['text'].head())\n",
    "print(\"Fake News: \", fake_news['text'].head())\n",
    "\n",
    "print(\"Checking for NaN values in the datasets...\")\n",
    "print(real_news['text'].isna().sum(), \"NaN values found in real_news\")\n",
    "print(fake_news['text'].isna().sum(), \"NaN values found in fake_news\")\n",
    "\n",
    "def vectorize_preprocessed_data():\n",
    "    # Initialize TfidfVectorizer\n",
    "    vectorizer = TfidfVectorizer()\n",
    "\n",
    "    # Fit the vectorizer on real news text and transform the text into a TF-IDF matrix\n",
    "    X_real = vectorizer.fit_transform(real_news['text'])\n",
    "\n",
    "    # Transform the fake news text into a TF-IDF matrix using the same vectorizer\n",
    "    X_fake = vectorizer.transform(fake_news['text'])\n",
    "\n",
    "    # Vertically stack the real and fake news TF-IDF matrices into one large matrix\n",
    "    X = sp.vstack([X_real, X_fake])\n",
    "\n",
    "    # Create the target labels (1 for real news, 0 for fake news)\n",
    "    Y = np.concatenate([np.ones(X_real.shape[0]), np.zeros(X_fake.shape[0])])\n",
    "\n",
    "    sp.save_npz('./Processed data/Vectorized_Features.npz', X)\n",
    "    np.save('./Processed data/Labels.npy', Y)\n",
    "\n",
    "    return X, Y\n",
    "\n",
    "X, Y = vectorize_preprocessed_data()"
   ]
  },
  {
   "cell_type": "code",
   "execution_count": 20,
   "metadata": {},
   "outputs": [
    {
     "name": "stdout",
     "output_type": "stream",
     "text": [
      "Shape of X: (44898, 66663)\n",
      "Shape of y: (44898,)\n"
     ]
    }
   ],
   "source": [
    "X, Y = vectorize_preprocessed_data()\n",
    "\n",
    "# Print shapes to confirm the sizes\n",
    "print(\"Shape of X:\", X.shape)\n",
    "print(\"Shape of y:\", Y.shape)"
   ]
  },
  {
   "cell_type": "code",
   "execution_count": 26,
   "metadata": {},
   "outputs": [
    {
     "name": "stdout",
     "output_type": "stream",
     "text": [
      "Temp set shape:  (13470, 66663) (13470,)\n",
      "Train set shape:  (31428, 66663) (31428,)\n",
      "Test set shape:  (8980, 66663) (8980,)\n",
      "Validation set shape:  (4490, 66663) (4490,)\n"
     ]
    }
   ],
   "source": [
    "from sklearn.model_selection import train_test_split\n",
    "from sklearn.linear_model import LogisticRegression\n",
    "from sklearn.metrics import accuracy_score, precision_score, recall_score, f1_score, confusion_matrix, classification_report\n",
    "import pickle\n",
    "\n",
    "def train_test_validate_split():\n",
    "    X = sp.load_npz('./Processed data/Vectorized_Features.npz')\n",
    "    y = np.load('./Processed data/Labels.npy')\n",
    "    X_train, X_temp, y_train, y_temp = train_test_split(X, y, train_size=0.7, random_state=42)\n",
    "\n",
    "    # now split the temp set into test and validation set in the ration 20:10\n",
    "    X_test, X_val, y_test, y_val = train_test_split(X_temp, y_temp, test_size=1/3, random_state=42)\n",
    "    print(\"Temp set shape: \", X_temp.shape, y_temp.shape)\n",
    "    print(\"Train set shape: \", X_train.shape, y_train.shape)\n",
    "    print(\"Test set shape: \", X_test.shape, y_test.shape)\n",
    "    print(\"Validation set shape: \", X_val.shape, y_val.shape)\n",
    "\n",
    "    return X_train, y_train, X_test, y_test, X_val, y_val, \n",
    "\n",
    "X_train, y_train, X_test, y_test, X_val, y_val = train_test_validate_split()\n",
    "\n",
    "\n",
    "def model_training():\n",
    "\n",
    "    # instantiate logistic regression\n",
    "    lr = LogisticRegression(random_state=42)\n",
    "\n",
    "    lr.fit(X_train, y_train)\n",
    "\n",
    "    with open('./saved_model/LogisticRegression.pkl', 'wb') as f:\n",
    "        pickle.dump(lr, f)\n",
    "\n",
    "model_training()"
   ]
  },
  {
   "cell_type": "code",
   "execution_count": 28,
   "metadata": {},
   "outputs": [
    {
     "name": "stdout",
     "output_type": "stream",
     "text": [
      "Accuracy: 0.9869710467706013\n",
      "Precision: 0.9830508474576272\n",
      "Recall: 0.9897148200093502\n",
      "F1 Score: 0.986371578334304\n",
      "Confusion metrix:\n",
      " [[4629   73]\n",
      " [  44 4234]]\n",
      "Classification report:\n",
      "               precision    recall  f1-score   support\n",
      "\n",
      "         0.0       0.99      0.98      0.99      4702\n",
      "         1.0       0.98      0.99      0.99      4278\n",
      "\n",
      "    accuracy                           0.99      8980\n",
      "   macro avg       0.99      0.99      0.99      8980\n",
      "weighted avg       0.99      0.99      0.99      8980\n",
      "\n"
     ]
    }
   ],
   "source": [
    "\n",
    "def model_prediction():\n",
    "    with open('./saved_model/LogisticRegression.pkl', 'rb') as f:\n",
    "        lr = pickle.load(f)\n",
    "\n",
    "    y_pred = lr.predict(X_test)\n",
    "\n",
    "    accuracy = accuracy_score(y_test, y_pred)\n",
    "    precision = precision_score(y_test, y_pred)\n",
    "    recall = recall_score(y_test, y_pred)\n",
    "    f1 = f1_score(y_test, y_pred)\n",
    "    cm = confusion_matrix(y_test, y_pred)\n",
    "    cr = classification_report(y_test, y_pred)\n",
    "\n",
    "    print('Accuracy:', accuracy)\n",
    "    print('Precision:', precision)\n",
    "    print('Recall:', recall)\n",
    "    print('F1 Score:', f1)\n",
    "    print(\"Confusion metrix:\\n\", cm)\n",
    "    print(\"Classification report:\\n\", cr)\n",
    "\n",
    "model_prediction()"
   ]
  },
  {
   "cell_type": "markdown",
   "metadata": {},
   "source": [
    "# Train test Validation split and Model Training"
   ]
  },
  {
   "cell_type": "code",
   "execution_count": null,
   "metadata": {},
   "outputs": [
    {
     "name": "stdout",
     "output_type": "stream",
     "text": [
      "Temp set shape:  (13470, 70064) (13470,)\n",
      "Train set shape:  (31428, 70064) (31428,)\n",
      "Test set shape:  (8980, 70064) (8980,)\n",
      "Validation set shape:  (4490, 70064) (4490,)\n"
     ]
    },
    {
     "data": {
      "text/plain": [
       "LogisticRegression(random_state=42)"
      ]
     },
     "execution_count": 10,
     "metadata": {},
     "output_type": "execute_result"
    }
   ],
   "source": [
    "from sklearn.model_selection import train_test_split\n",
    "from sklearn.linear_model import LogisticRegression\n",
    "from sklearn.metrics import accuracy_score, precision_score, recall_score, f1_score, confusion_matrix, classification_report\n",
    "import pickle\n",
    "\n",
    "def train_test_validate_split():\n",
    "    X = sp.load_npz('./Processed data/Vectorized_Features.npz')\n",
    "    y = np.load('./Processed data/Labels.npy')\n",
    "    X_train, X_temp, y_train, y_temp = train_test_split(X, y, train_size=0.7, random_state=42)\n",
    "\n",
    "    # now split the temp set into test and validation set in the ration 20:10\n",
    "    X_test, X_val, y_test, y_val = train_test_split(X_temp, y_temp, test_size=1/3, random_state=42)\n",
    "    print(\"Temp set shape: \", X_temp.shape, y_temp.shape)\n",
    "    print(\"Train set shape: \", X_train.shape, y_train.shape)\n",
    "    print(\"Test set shape: \", X_test.shape, y_test.shape)\n",
    "    print(\"Validation set shape: \", X_val.shape, y_val.shape)\n",
    "\n",
    "    return X_train, y_train, X_test, y_test, X_val, y_val, \n",
    "\n",
    "X_train, y_train, X_test, y_test, X_val, y_val = train_test_validate_split()\n",
    "\n",
    "def model_training():\n",
    "\n",
    "    # instantiate logistic regression\n",
    "    lr = LogisticRegression(random_state=42)\n",
    "\n",
    "    lr.fit(X_train, y_train)\n",
    "\n",
    "    with open('./saved_model/LogisticRegression.pkl', 'wb') as f:\n",
    "        pickle.dump(lr, f)\n",
    "\n",
    "model_training()\n",
    "\n"
   ]
  },
  {
   "cell_type": "markdown",
   "metadata": {},
   "source": [
    "# Model prediction\n",
    "\n",
    "The function below uses the trained model stored within a pkl file to predict the accuracy and other evaluation parameters."
   ]
  },
  {
   "cell_type": "code",
   "execution_count": 32,
   "metadata": {},
   "outputs": [
    {
     "name": "stdout",
     "output_type": "stream",
     "text": [
      "Accuracy: 0.9869710467706013\n",
      "Precision: 0.9830508474576272\n",
      "Recall: 0.9897148200093502\n",
      "F1 Score: 0.986371578334304\n",
      "Confusion metrix:\n",
      " [[4629   73]\n",
      " [  44 4234]]\n",
      "Classification report:\n",
      "               precision    recall  f1-score   support\n",
      "\n",
      "         0.0       0.99      0.98      0.99      4702\n",
      "         1.0       0.98      0.99      0.99      4278\n",
      "\n",
      "    accuracy                           0.99      8980\n",
      "   macro avg       0.99      0.99      0.99      8980\n",
      "weighted avg       0.99      0.99      0.99      8980\n",
      "\n"
     ]
    }
   ],
   "source": [
    "\n",
    "def model_prediction():\n",
    "    with open('./saved_model/LogisticRegression.pkl', 'rb') as f:\n",
    "        lr = pickle.load(f)\n",
    "\n",
    "    y_pred = lr.predict(X_test)\n",
    "\n",
    "    accuracy = accuracy_score(y_test, y_pred)\n",
    "    precision = precision_score(y_test, y_pred)\n",
    "    recall = recall_score(y_test, y_pred)\n",
    "    f1 = f1_score(y_test, y_pred)\n",
    "    cm = confusion_matrix(y_test, y_pred)\n",
    "    cr = classification_report(y_test, y_pred)\n",
    "\n",
    "    print('Accuracy:', accuracy)\n",
    "    print('Precision:', precision)\n",
    "    print('Recall:', recall)\n",
    "    print('F1 Score:', f1)\n",
    "    print(\"Confusion metrix:\\n\", cm)\n",
    "    print(\"Classification report:\\n\", cr)\n",
    "\n",
    "    return lr, y_pred, accuracy, precision, recall, f1, cm, cr\n",
    "\n",
    "lr, y_pred, accuracy, precision, recall, f1, cm, cr = model_prediction()"
   ]
  },
  {
   "cell_type": "markdown",
   "metadata": {},
   "source": [
    "# Visualization\n"
   ]
  },
  {
   "cell_type": "markdown",
   "metadata": {},
   "source": [
    "### Confusion Matrix"
   ]
  },
  {
   "cell_type": "code",
   "execution_count": 33,
   "metadata": {},
   "outputs": [
    {
     "data": {
      "image/png": "[encoded data removed]",
      "text/plain": [
       "<Figure size 700x500 with 2 Axes>"
      ]
     },
     "metadata": {},
     "output_type": "display_data"
    }
   ],
   "source": [
    "import matplotlib.pyplot as plt\n",
    "import seaborn as sns\n",
    "\n",
    "plt.figure(figsize=(7, 5))\n",
    "sns.heatmap(cm, annot=True, fmt='d', cmap='Blues', xticklabels=lr.classes_, yticklabels=lr.classes_)\n",
    "plt.xlabel('Predicted')\n",
    "plt.ylabel('Actual')\n",
    "plt.title('Confusion Matrix')\n",
    "plt.show()\n"
   ]
  },
  {
   "cell_type": "markdown",
   "metadata": {},
   "source": [
    "### Classification Report"
   ]
  },
  {
   "cell_type": "code",
   "execution_count": 34,
   "metadata": {},
   "outputs": [
    {
     "data": {
      "image/png": "[encoded data removed]",
      "text/plain": [
       "<Figure size 1000x500 with 2 Axes>"
      ]
     },
     "metadata": {},
     "output_type": "display_data"
    }
   ],
   "source": [
    "import pandas as pd\n",
    "from sklearn.metrics import classification_report\n",
    "\n",
    "# Assuming y_test and y_pred are your true labels and predicted labels respectively\n",
    "report = classification_report(y_test, y_pred, output_dict=True)\n",
    "report_df = pd.DataFrame(report).transpose()\n",
    "\n",
    "plt.figure(figsize=(10, 5))\n",
    "sns.heatmap(report_df.iloc[:-1, :].T, annot=True, cmap='coolwarm')\n",
    "plt.title('Classification Report')\n",
    "plt.show()\n"
   ]
  }
 ],
 "metadata": {
  "kernelspec": {
   "display_name": "Python 3",
   "language": "python",
   "name": "python3"
  },
  "language_info": {
   "codemirror_mode": {
    "name": "ipython",
    "version": 3
   },
   "file_extension": ".py",
   "mimetype": "text/x-python",
   "name": "python",
   "nbconvert_exporter": "python",
   "pygments_lexer": "ipython3",
   "version": "3.10.11"
  }
 },
 "nbformat": 4,
 "nbformat_minor": 2
}
